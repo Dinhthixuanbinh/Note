{
  "cells": [
    {
      "cell_type": "markdown",
      "metadata": {
        "id": "view-in-github",
        "colab_type": "text"
      },
      "source": [
        "<a href=\"https://colab.research.google.com/github/Dinhthixuanbinh/Note/blob/main/Crawl_comment_data.ipynb\" target=\"_parent\"><img src=\"https://colab.research.google.com/assets/colab-badge.svg\" alt=\"Open In Colab\"/></a>"
      ]
    },
    {
      "cell_type": "code",
      "execution_count": null,
      "metadata": {
        "colab": {
          "base_uri": "https://localhost:8080/"
        },
        "id": "Qydp04VtXUx3",
        "outputId": "49d4bb0e-6ea7-4815-ae5a-f0f7679b10f9"
      },
      "outputs": [
        {
          "name": "stdout",
          "output_type": "stream",
          "text": [
            "request success!!!\n",
            "request success!!!\n",
            "request success!!!\n",
            "request success!!!\n",
            "request success!!!\n",
            "request success!!!\n",
            "request success!!!\n",
            "request success!!!\n",
            "request success!!!\n",
            "request success!!!\n"
          ]
        }
      ],
      "source": [
        "import requests\n",
        "import time\n",
        "import random\n",
        "import pandas as pd\n",
        "\n",
        "\n",
        "\n",
        "headers = {\n",
        "    'User-Agent': 'Mozilla/5.0 (Windows NT 6.3; Win64; x64; rv:83.0) Gecko/20100101 Firefox/83.0',\n",
        "    'Accept': 'application/json, text/plain, */*',\n",
        "    'Accept-Language': 'vi-VN,vi;q=0.8,en-US;q=0.5,en;q=0.3',\n",
        "    'Referer': 'https://tiki.vn/?src=header_tiki',\n",
        "    'x-guest-token': '8jWSuIDBb2NGVzr6hsUZXpkP1FRin7lY',\n",
        "    'Connection': 'keep-alive',\n",
        "    'TE': 'Trailers',\n",
        "}\n",
        "\n",
        "params = {\n",
        "    'limit': '48',\n",
        "    'include': 'sale-attrs,badges,product_links,brand,category,stock_item,advertisement',\n",
        "    'aggregations': '1',\n",
        "    'trackity_id': '70e316b0-96f2-dbe1-a2ed-43ff60419991',\n",
        "    'category': '1883',\n",
        "    'page': '1',\n",
        "    'src': 'c1883',\n",
        "    'urlKey':  'nha-cua-doi-song',\n",
        "}\n",
        "\n",
        "product_id = []\n",
        "for i in range(1, 11):\n",
        "    params['page'] = i\n",
        "    response = requests.get('https://tiki.vn/api/v2/products', headers=headers, params=params)#, cookies=cookies)\n",
        "    if response.status_code == 200:\n",
        "        print('request success!!!')\n",
        "        for record in response.json().get('data'):\n",
        "            product_id.append({'id': record.get('id')})\n",
        "    time.sleep(random.randrange(3, 10))\n",
        "\n",
        "df = pd.DataFrame(product_id)\n",
        "df.to_csv('product_id_ncds.csv', index=False)"
      ]
    },
    {
      "cell_type": "code",
      "execution_count": null,
      "metadata": {
        "colab": {
          "background_save": true,
          "base_uri": "https://localhost:8080/"
        },
        "id": "SeUYabyfXkGs",
        "outputId": "d96aa698-8312-416d-eb6b-310547714cf2"
      },
      "outputs": [
        {
          "name": "stderr",
          "output_type": "stream",
          "text": [
            "\r  0%|          | 0/483 [00:00<?, ?it/s]"
          ]
        },
        {
          "name": "stdout",
          "output_type": "stream",
          "text": [
            "Crawl comment for product 2039747\n",
            "Crawl comment page 0 success!!!\n"
          ]
        },
        {
          "name": "stderr",
          "output_type": "stream",
          "text": [
            "\r  0%|          | 1/483 [00:00<07:41,  1.04it/s]"
          ]
        },
        {
          "name": "stdout",
          "output_type": "stream",
          "text": [
            "Crawl comment page 1 success!!!\n",
            "Crawl comment for product 2039747\n",
            "Crawl comment page 0 success!!!\n"
          ]
        },
        {
          "name": "stderr",
          "output_type": "stream",
          "text": [
            "\r  0%|          | 2/483 [00:01<07:37,  1.05it/s]"
          ]
        },
        {
          "name": "stdout",
          "output_type": "stream",
          "text": [
            "Crawl comment page 1 success!!!\n",
            "Crawl comment for product 25421013\n",
            "Crawl comment page 0 success!!!\n"
          ]
        },
        {
          "name": "stderr",
          "output_type": "stream",
          "text": [
            "\r  1%|          | 3/483 [00:02<07:24,  1.08it/s]"
          ]
        },
        {
          "name": "stdout",
          "output_type": "stream",
          "text": [
            "Crawl comment page 1 success!!!\n",
            "Crawl comment for product 83412126\n",
            "Crawl comment page 0 success!!!\n"
          ]
        },
        {
          "name": "stderr",
          "output_type": "stream",
          "text": [
            "\r  1%|          | 4/483 [00:04<10:35,  1.33s/it]"
          ]
        },
        {
          "name": "stdout",
          "output_type": "stream",
          "text": [
            "Crawl comment page 1 success!!!\n",
            "Crawl comment for product 99621372\n",
            "Crawl comment page 0 success!!!\n"
          ]
        },
        {
          "name": "stderr",
          "output_type": "stream",
          "text": [
            "\r  1%|          | 5/483 [00:05<09:49,  1.23s/it]"
          ]
        },
        {
          "name": "stdout",
          "output_type": "stream",
          "text": [
            "Crawl comment page 1 success!!!\n",
            "Crawl comment for product 71890908\n",
            "Crawl comment page 0 success!!!\n"
          ]
        },
        {
          "name": "stderr",
          "output_type": "stream",
          "text": [
            "\r  1%|          | 6/483 [00:06<09:03,  1.14s/it]"
          ]
        },
        {
          "name": "stdout",
          "output_type": "stream",
          "text": [
            "Crawl comment page 1 success!!!\n",
            "Crawl comment for product 186558014\n",
            "Crawl comment page 0 success!!!\n"
          ]
        },
        {
          "name": "stderr",
          "output_type": "stream",
          "text": [
            "\r  1%|▏         | 7/483 [00:07<08:29,  1.07s/it]"
          ]
        },
        {
          "name": "stdout",
          "output_type": "stream",
          "text": [
            "Crawl comment page 1 success!!!\n",
            "Crawl comment for product 73124602\n",
            "Crawl comment page 0 success!!!\n"
          ]
        },
        {
          "name": "stderr",
          "output_type": "stream",
          "text": [
            "\r  2%|▏         | 8/483 [00:10<13:22,  1.69s/it]"
          ]
        },
        {
          "name": "stdout",
          "output_type": "stream",
          "text": [
            "Crawl comment page 1 success!!!\n",
            "Crawl comment for product 195111061\n",
            "Crawl comment page 0 success!!!\n"
          ]
        },
        {
          "name": "stderr",
          "output_type": "stream",
          "text": [
            "\r  2%|▏         | 9/483 [00:11<11:11,  1.42s/it]"
          ]
        },
        {
          "name": "stdout",
          "output_type": "stream",
          "text": [
            "Crawl comment page 1 success!!!\n",
            "Crawl comment for product 201592117\n",
            "Crawl comment page 0 success!!!\n"
          ]
        },
        {
          "name": "stderr",
          "output_type": "stream",
          "text": [
            "\r  2%|▏         | 10/483 [00:12<09:34,  1.21s/it]"
          ]
        },
        {
          "name": "stdout",
          "output_type": "stream",
          "text": [
            "Crawl comment page 1 success!!!\n",
            "Crawl comment for product 579962\n",
            "Crawl comment page 0 success!!!\n"
          ]
        },
        {
          "name": "stderr",
          "output_type": "stream",
          "text": [
            "\r  2%|▏         | 11/483 [00:13<09:12,  1.17s/it]"
          ]
        },
        {
          "name": "stdout",
          "output_type": "stream",
          "text": [
            "Crawl comment page 1 success!!!\n",
            "Crawl comment for product 129143705\n",
            "Crawl comment page 0 success!!!\n"
          ]
        },
        {
          "name": "stderr",
          "output_type": "stream",
          "text": [
            "\r  2%|▏         | 12/483 [00:14<08:23,  1.07s/it]"
          ]
        },
        {
          "name": "stdout",
          "output_type": "stream",
          "text": [
            "Crawl comment page 1 success!!!\n",
            "Crawl comment for product 48045630\n",
            "Crawl comment page 0 success!!!\n"
          ]
        },
        {
          "name": "stderr",
          "output_type": "stream",
          "text": [
            "\r  3%|▎         | 13/483 [00:15<08:49,  1.13s/it]"
          ]
        },
        {
          "name": "stdout",
          "output_type": "stream",
          "text": [
            "Crawl comment page 1 success!!!\n",
            "Crawl comment for product 99868980\n",
            "Crawl comment page 0 success!!!\n"
          ]
        },
        {
          "name": "stderr",
          "output_type": "stream",
          "text": [
            "\r  3%|▎         | 14/483 [00:16<09:06,  1.17s/it]"
          ]
        },
        {
          "name": "stdout",
          "output_type": "stream",
          "text": [
            "Crawl comment page 1 success!!!\n",
            "Crawl comment for product 134360863\n",
            "Crawl comment page 0 success!!!\n"
          ]
        },
        {
          "name": "stderr",
          "output_type": "stream",
          "text": [
            "\r  3%|▎         | 15/483 [00:17<09:00,  1.15s/it]"
          ]
        },
        {
          "name": "stdout",
          "output_type": "stream",
          "text": [
            "Crawl comment page 1 success!!!\n",
            "Crawl comment for product 54484578\n",
            "Crawl comment page 0 success!!!\n"
          ]
        },
        {
          "name": "stderr",
          "output_type": "stream",
          "text": [
            "\r  3%|▎         | 16/483 [00:19<10:40,  1.37s/it]"
          ]
        },
        {
          "name": "stdout",
          "output_type": "stream",
          "text": [
            "Crawl comment page 1 success!!!\n",
            "Crawl comment for product 259514009\n",
            "Crawl comment page 0 success!!!\n"
          ]
        },
        {
          "name": "stderr",
          "output_type": "stream",
          "text": [
            "\r  4%|▎         | 17/483 [00:20<09:00,  1.16s/it]"
          ]
        },
        {
          "name": "stdout",
          "output_type": "stream",
          "text": [
            "Crawl comment page 1 success!!!\n",
            "Crawl comment for product 42465518\n",
            "Crawl comment page 0 success!!!\n"
          ]
        },
        {
          "name": "stderr",
          "output_type": "stream",
          "text": [
            "\r  4%|▎         | 18/483 [00:21<09:31,  1.23s/it]"
          ]
        },
        {
          "name": "stdout",
          "output_type": "stream",
          "text": [
            "Crawl comment page 1 success!!!\n",
            "Crawl comment for product 195852183\n",
            "Crawl comment page 0 success!!!\n"
          ]
        },
        {
          "name": "stderr",
          "output_type": "stream",
          "text": [
            "\r  4%|▍         | 19/483 [00:22<09:00,  1.16s/it]"
          ]
        },
        {
          "name": "stdout",
          "output_type": "stream",
          "text": [
            "Crawl comment page 1 success!!!\n",
            "Crawl comment for product 262362970\n",
            "Crawl comment page 0 success!!!\n"
          ]
        },
        {
          "name": "stderr",
          "output_type": "stream",
          "text": [
            "\r  4%|▍         | 20/483 [00:23<08:08,  1.05s/it]"
          ]
        },
        {
          "name": "stdout",
          "output_type": "stream",
          "text": [
            "Crawl comment page 1 success!!!\n",
            "Crawl comment for product 53583472\n",
            "Crawl comment page 0 success!!!\n"
          ]
        },
        {
          "name": "stderr",
          "output_type": "stream",
          "text": [
            "\r  4%|▍         | 21/483 [00:25<09:30,  1.23s/it]"
          ]
        },
        {
          "name": "stdout",
          "output_type": "stream",
          "text": [
            "Crawl comment page 1 success!!!\n",
            "Crawl comment for product 174236741\n",
            "Crawl comment page 0 success!!!\n"
          ]
        },
        {
          "name": "stderr",
          "output_type": "stream",
          "text": [
            "\r  5%|▍         | 22/483 [00:26<09:02,  1.18s/it]"
          ]
        },
        {
          "name": "stdout",
          "output_type": "stream",
          "text": [
            "Crawl comment page 1 success!!!\n",
            "Crawl comment for product 52760599\n",
            "Crawl comment page 0 success!!!\n"
          ]
        },
        {
          "name": "stderr",
          "output_type": "stream",
          "text": [
            "\r  5%|▍         | 23/483 [00:27<08:49,  1.15s/it]"
          ]
        },
        {
          "name": "stdout",
          "output_type": "stream",
          "text": [
            "Crawl comment page 1 success!!!\n",
            "Crawl comment for product 17593518\n",
            "Crawl comment page 0 success!!!\n"
          ]
        },
        {
          "name": "stderr",
          "output_type": "stream",
          "text": [
            "\r  5%|▍         | 24/483 [00:28<09:01,  1.18s/it]"
          ]
        },
        {
          "name": "stdout",
          "output_type": "stream",
          "text": [
            "Crawl comment page 1 success!!!\n",
            "Crawl comment for product 226036798\n",
            "Crawl comment page 0 success!!!\n"
          ]
        },
        {
          "name": "stderr",
          "output_type": "stream",
          "text": [
            "\r  5%|▌         | 25/483 [00:29<08:34,  1.12s/it]"
          ]
        },
        {
          "name": "stdout",
          "output_type": "stream",
          "text": [
            "Crawl comment page 1 success!!!\n",
            "Crawl comment for product 3480627\n",
            "Crawl comment page 0 success!!!\n"
          ]
        },
        {
          "name": "stderr",
          "output_type": "stream",
          "text": [
            "\r  5%|▌         | 26/483 [00:30<08:56,  1.17s/it]"
          ]
        },
        {
          "name": "stdout",
          "output_type": "stream",
          "text": [
            "Crawl comment page 1 success!!!\n",
            "Crawl comment for product 892121\n",
            "Crawl comment page 0 success!!!\n"
          ]
        },
        {
          "name": "stderr",
          "output_type": "stream",
          "text": [
            "\r  6%|▌         | 27/483 [00:32<09:11,  1.21s/it]"
          ]
        },
        {
          "name": "stdout",
          "output_type": "stream",
          "text": [
            "Crawl comment page 1 success!!!\n",
            "Crawl comment for product 203757099\n",
            "Crawl comment page 0 success!!!\n"
          ]
        },
        {
          "name": "stderr",
          "output_type": "stream",
          "text": [
            "\r  6%|▌         | 28/483 [00:33<08:17,  1.09s/it]"
          ]
        },
        {
          "name": "stdout",
          "output_type": "stream",
          "text": [
            "Crawl comment page 1 success!!!\n",
            "Crawl comment for product 182971940\n",
            "Crawl comment page 0 success!!!\n"
          ]
        },
        {
          "name": "stderr",
          "output_type": "stream",
          "text": [
            "\r  6%|▌         | 29/483 [00:33<08:00,  1.06s/it]"
          ]
        },
        {
          "name": "stdout",
          "output_type": "stream",
          "text": [
            "Crawl comment page 1 success!!!\n",
            "Crawl comment for product 84566545\n",
            "Crawl comment page 0 success!!!\n"
          ]
        },
        {
          "name": "stderr",
          "output_type": "stream",
          "text": [
            "\r  6%|▌         | 30/483 [00:34<07:48,  1.03s/it]"
          ]
        },
        {
          "name": "stdout",
          "output_type": "stream",
          "text": [
            "Crawl comment page 1 success!!!\n",
            "Crawl comment for product 273162903\n",
            "Crawl comment page 0 success!!!\n"
          ]
        },
        {
          "name": "stderr",
          "output_type": "stream",
          "text": [
            "\r  6%|▋         | 31/483 [00:35<07:01,  1.07it/s]"
          ]
        },
        {
          "name": "stdout",
          "output_type": "stream",
          "text": [
            "Crawl comment page 1 success!!!\n",
            "Crawl comment for product 189208326\n",
            "Crawl comment page 0 success!!!\n"
          ]
        },
        {
          "name": "stderr",
          "output_type": "stream",
          "text": [
            "\r  7%|▋         | 32/483 [00:36<06:46,  1.11it/s]"
          ]
        },
        {
          "name": "stdout",
          "output_type": "stream",
          "text": [
            "Crawl comment page 1 success!!!\n",
            "Crawl comment for product 125739804\n",
            "Crawl comment page 0 success!!!\n"
          ]
        },
        {
          "name": "stderr",
          "output_type": "stream",
          "text": [
            "\r  7%|▋         | 33/483 [00:37<06:37,  1.13it/s]"
          ]
        },
        {
          "name": "stdout",
          "output_type": "stream",
          "text": [
            "Crawl comment page 1 success!!!\n",
            "Crawl comment for product 32178097\n",
            "Crawl comment page 0 success!!!\n"
          ]
        },
        {
          "name": "stderr",
          "output_type": "stream",
          "text": [
            "\r  7%|▋         | 34/483 [00:38<06:59,  1.07it/s]"
          ]
        },
        {
          "name": "stdout",
          "output_type": "stream",
          "text": [
            "Crawl comment page 1 success!!!\n",
            "Crawl comment for product 55124901\n",
            "Crawl comment page 0 success!!!\n"
          ]
        },
        {
          "name": "stderr",
          "output_type": "stream",
          "text": [
            "\r  7%|▋         | 35/483 [00:39<07:00,  1.07it/s]"
          ]
        },
        {
          "name": "stdout",
          "output_type": "stream",
          "text": [
            "Crawl comment page 1 success!!!\n",
            "Crawl comment for product 269846183\n",
            "Crawl comment page 0 success!!!\n"
          ]
        },
        {
          "name": "stderr",
          "output_type": "stream",
          "text": [
            "\r  7%|▋         | 36/483 [00:40<06:40,  1.12it/s]"
          ]
        },
        {
          "name": "stdout",
          "output_type": "stream",
          "text": [
            "Crawl comment page 1 success!!!\n",
            "Crawl comment for product 1399571\n",
            "Crawl comment page 0 success!!!\n"
          ]
        },
        {
          "name": "stderr",
          "output_type": "stream",
          "text": [
            "\r  8%|▊         | 37/483 [00:41<07:20,  1.01it/s]"
          ]
        },
        {
          "name": "stdout",
          "output_type": "stream",
          "text": [
            "Crawl comment page 1 success!!!\n",
            "Crawl comment for product 467912\n",
            "Crawl comment page 0 success!!!\n"
          ]
        },
        {
          "name": "stderr",
          "output_type": "stream",
          "text": [
            "\r  8%|▊         | 38/483 [00:42<08:09,  1.10s/it]"
          ]
        },
        {
          "name": "stdout",
          "output_type": "stream",
          "text": [
            "Crawl comment page 1 success!!!\n",
            "Crawl comment for product 197867507\n",
            "Crawl comment page 0 success!!!\n"
          ]
        },
        {
          "name": "stderr",
          "output_type": "stream",
          "text": [
            "\r  8%|▊         | 39/483 [00:43<07:29,  1.01s/it]"
          ]
        },
        {
          "name": "stdout",
          "output_type": "stream",
          "text": [
            "Crawl comment page 1 success!!!\n",
            "Crawl comment for product 17423771\n",
            "Crawl comment page 0 success!!!\n"
          ]
        },
        {
          "name": "stderr",
          "output_type": "stream",
          "text": [
            "\r  8%|▊         | 40/483 [00:44<07:58,  1.08s/it]"
          ]
        },
        {
          "name": "stdout",
          "output_type": "stream",
          "text": [
            "Crawl comment page 1 success!!!\n",
            "Crawl comment for product 217478473\n",
            "Crawl comment page 0 success!!!\n"
          ]
        },
        {
          "name": "stderr",
          "output_type": "stream",
          "text": [
            "\r  8%|▊         | 41/483 [00:45<07:21,  1.00it/s]"
          ]
        },
        {
          "name": "stdout",
          "output_type": "stream",
          "text": [
            "Crawl comment page 1 success!!!\n",
            "Crawl comment for product 144450194\n",
            "Crawl comment page 0 success!!!\n"
          ]
        },
        {
          "name": "stderr",
          "output_type": "stream",
          "text": [
            "\r  9%|▊         | 42/483 [00:46<08:11,  1.11s/it]"
          ]
        },
        {
          "name": "stdout",
          "output_type": "stream",
          "text": [
            "Crawl comment page 1 success!!!\n",
            "Crawl comment for product 67561868\n",
            "Crawl comment page 0 success!!!\n"
          ]
        },
        {
          "name": "stderr",
          "output_type": "stream",
          "text": [
            "\r  9%|▉         | 43/483 [00:47<07:41,  1.05s/it]"
          ]
        },
        {
          "name": "stdout",
          "output_type": "stream",
          "text": [
            "Crawl comment page 1 success!!!\n",
            "Crawl comment for product 118433132\n",
            "Crawl comment page 0 success!!!\n"
          ]
        },
        {
          "name": "stderr",
          "output_type": "stream",
          "text": [
            "\r  9%|▉         | 44/483 [00:48<07:13,  1.01it/s]"
          ]
        },
        {
          "name": "stdout",
          "output_type": "stream",
          "text": [
            "Crawl comment page 1 success!!!\n",
            "Crawl comment for product 207941719\n",
            "Crawl comment page 0 success!!!\n"
          ]
        },
        {
          "name": "stderr",
          "output_type": "stream",
          "text": [
            "\r  9%|▉         | 45/483 [00:49<06:47,  1.08it/s]"
          ]
        },
        {
          "name": "stdout",
          "output_type": "stream",
          "text": [
            "Crawl comment page 1 success!!!\n",
            "Crawl comment for product 262783371\n",
            "Crawl comment page 0 success!!!\n"
          ]
        },
        {
          "name": "stderr",
          "output_type": "stream",
          "text": [
            "\r 10%|▉         | 46/483 [00:51<09:26,  1.30s/it]"
          ]
        },
        {
          "name": "stdout",
          "output_type": "stream",
          "text": [
            "Crawl comment page 1 success!!!\n",
            "Crawl comment for product 273624233\n",
            "Crawl comment page 0 success!!!\n"
          ]
        },
        {
          "name": "stderr",
          "output_type": "stream",
          "text": [
            "\r 10%|▉         | 47/483 [00:52<08:21,  1.15s/it]"
          ]
        },
        {
          "name": "stdout",
          "output_type": "stream",
          "text": [
            "Crawl comment page 1 success!!!\n",
            "Crawl comment for product 200960836\n",
            "Crawl comment page 0 success!!!\n"
          ]
        },
        {
          "name": "stderr",
          "output_type": "stream",
          "text": [
            "\r 10%|▉         | 48/483 [00:53<07:49,  1.08s/it]"
          ]
        },
        {
          "name": "stdout",
          "output_type": "stream",
          "text": [
            "Crawl comment page 1 success!!!\n",
            "Crawl comment for product 36960736\n",
            "Crawl comment page 0 success!!!\n"
          ]
        },
        {
          "name": "stderr",
          "output_type": "stream",
          "text": [
            "\r 10%|█         | 49/483 [00:54<07:32,  1.04s/it]"
          ]
        },
        {
          "name": "stdout",
          "output_type": "stream",
          "text": [
            "Crawl comment page 1 success!!!\n",
            "Crawl comment for product 83412126\n",
            "Crawl comment page 0 success!!!\n"
          ]
        },
        {
          "name": "stderr",
          "output_type": "stream",
          "text": [
            "\r 10%|█         | 50/483 [00:55<08:13,  1.14s/it]"
          ]
        },
        {
          "name": "stdout",
          "output_type": "stream",
          "text": [
            "Crawl comment page 1 success!!!\n",
            "Crawl comment for product 198462381\n",
            "Crawl comment page 0 success!!!\n"
          ]
        },
        {
          "name": "stderr",
          "output_type": "stream",
          "text": [
            "\r 11%|█         | 51/483 [00:56<07:24,  1.03s/it]"
          ]
        },
        {
          "name": "stdout",
          "output_type": "stream",
          "text": [
            "Crawl comment page 1 success!!!\n",
            "Crawl comment for product 205894449\n",
            "Crawl comment page 0 success!!!\n"
          ]
        },
        {
          "name": "stderr",
          "output_type": "stream",
          "text": [
            "\r 11%|█         | 52/483 [00:57<07:28,  1.04s/it]"
          ]
        },
        {
          "name": "stdout",
          "output_type": "stream",
          "text": [
            "Crawl comment page 1 success!!!\n",
            "Crawl comment for product 41227454\n",
            "Crawl comment page 0 success!!!\n"
          ]
        },
        {
          "name": "stderr",
          "output_type": "stream",
          "text": [
            "\r 11%|█         | 53/483 [00:58<07:40,  1.07s/it]"
          ]
        },
        {
          "name": "stdout",
          "output_type": "stream",
          "text": [
            "Crawl comment page 1 success!!!\n",
            "Crawl comment for product 127031393\n",
            "Crawl comment page 0 success!!!\n"
          ]
        },
        {
          "name": "stderr",
          "output_type": "stream",
          "text": [
            "\r 11%|█         | 54/483 [00:59<07:22,  1.03s/it]"
          ]
        },
        {
          "name": "stdout",
          "output_type": "stream",
          "text": [
            "Crawl comment page 1 success!!!\n",
            "Crawl comment for product 466737\n",
            "Crawl comment page 0 success!!!\n"
          ]
        },
        {
          "name": "stderr",
          "output_type": "stream",
          "text": [
            "\r 11%|█▏        | 55/483 [01:01<08:59,  1.26s/it]"
          ]
        },
        {
          "name": "stdout",
          "output_type": "stream",
          "text": [
            "Crawl comment page 1 success!!!\n",
            "Crawl comment for product 57867023\n",
            "Crawl comment page 0 success!!!\n"
          ]
        },
        {
          "name": "stderr",
          "output_type": "stream",
          "text": [
            "\r 12%|█▏        | 56/483 [01:02<08:34,  1.20s/it]"
          ]
        },
        {
          "name": "stdout",
          "output_type": "stream",
          "text": [
            "Crawl comment page 1 success!!!\n",
            "Crawl comment for product 580040\n",
            "Crawl comment page 0 success!!!\n"
          ]
        },
        {
          "name": "stderr",
          "output_type": "stream",
          "text": [
            "\r 12%|█▏        | 57/483 [01:03<08:10,  1.15s/it]"
          ]
        },
        {
          "name": "stdout",
          "output_type": "stream",
          "text": [
            "Crawl comment page 1 success!!!\n",
            "Crawl comment for product 21712076\n",
            "Crawl comment page 0 success!!!\n"
          ]
        },
        {
          "name": "stderr",
          "output_type": "stream",
          "text": [
            "\r 12%|█▏        | 58/483 [01:04<08:17,  1.17s/it]"
          ]
        },
        {
          "name": "stdout",
          "output_type": "stream",
          "text": [
            "Crawl comment page 1 success!!!\n",
            "Crawl comment for product 892141\n",
            "Crawl comment page 0 success!!!\n"
          ]
        },
        {
          "name": "stderr",
          "output_type": "stream",
          "text": [
            "\r 12%|█▏        | 59/483 [01:06<08:46,  1.24s/it]"
          ]
        },
        {
          "name": "stdout",
          "output_type": "stream",
          "text": [
            "Crawl comment page 1 success!!!\n",
            "Crawl comment for product 42718737\n",
            "Crawl comment page 0 success!!!\n"
          ]
        },
        {
          "name": "stderr",
          "output_type": "stream",
          "text": [
            "\r 12%|█▏        | 60/483 [01:07<08:36,  1.22s/it]"
          ]
        },
        {
          "name": "stdout",
          "output_type": "stream",
          "text": [
            "Crawl comment page 1 success!!!\n",
            "Crawl comment for product 76451291\n",
            "Crawl comment page 0 success!!!\n"
          ]
        },
        {
          "name": "stderr",
          "output_type": "stream",
          "text": [
            "\r 13%|█▎        | 61/483 [01:08<08:11,  1.16s/it]"
          ]
        },
        {
          "name": "stdout",
          "output_type": "stream",
          "text": [
            "Crawl comment page 1 success!!!\n",
            "Crawl comment for product 58852893\n",
            "Crawl comment page 0 success!!!\n"
          ]
        },
        {
          "name": "stderr",
          "output_type": "stream",
          "text": [
            "\r 13%|█▎        | 62/483 [01:09<08:15,  1.18s/it]"
          ]
        },
        {
          "name": "stdout",
          "output_type": "stream",
          "text": [
            "Crawl comment page 1 success!!!\n",
            "Crawl comment for product 2119173\n",
            "Crawl comment page 0 success!!!\n"
          ]
        },
        {
          "name": "stderr",
          "output_type": "stream",
          "text": [
            "\r 13%|█▎        | 63/483 [01:10<08:08,  1.16s/it]"
          ]
        },
        {
          "name": "stdout",
          "output_type": "stream",
          "text": [
            "Crawl comment page 1 success!!!\n",
            "Crawl comment for product 52626416\n",
            "Crawl comment page 0 success!!!\n"
          ]
        },
        {
          "name": "stderr",
          "output_type": "stream",
          "text": [
            "\r 13%|█▎        | 64/483 [01:11<08:14,  1.18s/it]"
          ]
        },
        {
          "name": "stdout",
          "output_type": "stream",
          "text": [
            "Crawl comment page 1 success!!!\n",
            "Crawl comment for product 84886093\n",
            "Crawl comment page 0 success!!!\n"
          ]
        },
        {
          "name": "stderr",
          "output_type": "stream",
          "text": [
            "\r 13%|█▎        | 65/483 [01:12<07:35,  1.09s/it]"
          ]
        },
        {
          "name": "stdout",
          "output_type": "stream",
          "text": [
            "Crawl comment page 1 success!!!\n",
            "Crawl comment for product 186862075\n",
            "Crawl comment page 0 success!!!\n"
          ]
        },
        {
          "name": "stderr",
          "output_type": "stream",
          "text": [
            "\r 14%|█▎        | 66/483 [01:13<07:27,  1.07s/it]"
          ]
        },
        {
          "name": "stdout",
          "output_type": "stream",
          "text": [
            "Crawl comment page 1 success!!!\n",
            "Crawl comment for product 198069246\n",
            "Crawl comment page 0 success!!!\n"
          ]
        },
        {
          "name": "stderr",
          "output_type": "stream",
          "text": [
            "\r 14%|█▍        | 67/483 [01:14<06:54,  1.00it/s]"
          ]
        },
        {
          "name": "stdout",
          "output_type": "stream",
          "text": [
            "Crawl comment page 1 success!!!\n",
            "Crawl comment for product 77775165\n",
            "Crawl comment page 0 success!!!\n"
          ]
        },
        {
          "name": "stderr",
          "output_type": "stream",
          "text": [
            "\r 14%|█▍        | 68/483 [01:15<07:00,  1.01s/it]"
          ]
        },
        {
          "name": "stdout",
          "output_type": "stream",
          "text": [
            "Crawl comment page 1 success!!!\n",
            "Crawl comment for product 58804363\n",
            "Crawl comment page 0 success!!!\n"
          ]
        },
        {
          "name": "stderr",
          "output_type": "stream",
          "text": [
            "\r 14%|█▍        | 69/483 [01:16<07:15,  1.05s/it]"
          ]
        },
        {
          "name": "stdout",
          "output_type": "stream",
          "text": [
            "Crawl comment page 1 success!!!\n",
            "Crawl comment for product 117353723\n",
            "Crawl comment page 0 success!!!\n"
          ]
        },
        {
          "name": "stderr",
          "output_type": "stream",
          "text": [
            "\r 14%|█▍        | 70/483 [01:17<07:11,  1.05s/it]"
          ]
        },
        {
          "name": "stdout",
          "output_type": "stream",
          "text": [
            "Crawl comment page 1 success!!!\n",
            "Crawl comment for product 56400156\n",
            "Crawl comment page 0 success!!!\n"
          ]
        },
        {
          "name": "stderr",
          "output_type": "stream",
          "text": [
            "\r 15%|█▍        | 71/483 [01:18<07:07,  1.04s/it]"
          ]
        },
        {
          "name": "stdout",
          "output_type": "stream",
          "text": [
            "Crawl comment page 1 success!!!\n",
            "Crawl comment for product 47115292\n",
            "Crawl comment page 0 success!!!\n"
          ]
        },
        {
          "name": "stderr",
          "output_type": "stream",
          "text": [
            "\r 15%|█▍        | 72/483 [01:19<07:03,  1.03s/it]"
          ]
        },
        {
          "name": "stdout",
          "output_type": "stream",
          "text": [
            "Crawl comment page 1 success!!!\n",
            "Crawl comment for product 257770303\n",
            "Crawl comment page 0 success!!!\n"
          ]
        },
        {
          "name": "stderr",
          "output_type": "stream",
          "text": [
            "\r 15%|█▌        | 73/483 [01:20<06:25,  1.06it/s]"
          ]
        },
        {
          "name": "stdout",
          "output_type": "stream",
          "text": [
            "Crawl comment page 1 success!!!\n",
            "Crawl comment for product 55900887\n",
            "Crawl comment page 0 success!!!\n"
          ]
        },
        {
          "name": "stderr",
          "output_type": "stream",
          "text": [
            "\r 15%|█▌        | 74/483 [01:21<07:16,  1.07s/it]"
          ]
        },
        {
          "name": "stdout",
          "output_type": "stream",
          "text": [
            "Crawl comment page 1 success!!!\n",
            "Crawl comment for product 71924330\n",
            "Crawl comment page 0 success!!!\n"
          ]
        },
        {
          "name": "stderr",
          "output_type": "stream",
          "text": [
            "\r 16%|█▌        | 75/483 [01:22<07:13,  1.06s/it]"
          ]
        },
        {
          "name": "stdout",
          "output_type": "stream",
          "text": [
            "Crawl comment page 1 success!!!\n",
            "Crawl comment for product 696349\n",
            "Crawl comment page 0 success!!!\n"
          ]
        },
        {
          "name": "stderr",
          "output_type": "stream",
          "text": [
            "\r 16%|█▌        | 76/483 [01:23<06:50,  1.01s/it]"
          ]
        },
        {
          "name": "stdout",
          "output_type": "stream",
          "text": [
            "Crawl comment page 1 success!!!\n",
            "Crawl comment for product 73638934\n",
            "Crawl comment page 0 success!!!\n"
          ]
        },
        {
          "name": "stderr",
          "output_type": "stream",
          "text": [
            "\r 16%|█▌        | 77/483 [01:24<06:31,  1.04it/s]"
          ]
        },
        {
          "name": "stdout",
          "output_type": "stream",
          "text": [
            "Crawl comment page 1 success!!!\n",
            "Crawl comment for product 262300577\n",
            "Crawl comment page 0 success!!!\n"
          ]
        },
        {
          "name": "stderr",
          "output_type": "stream",
          "text": [
            "\r 16%|█▌        | 78/483 [01:25<06:48,  1.01s/it]"
          ]
        },
        {
          "name": "stdout",
          "output_type": "stream",
          "text": [
            "Crawl comment page 1 success!!!\n",
            "Crawl comment for product 207934401\n",
            "Crawl comment page 0 success!!!\n"
          ]
        },
        {
          "name": "stderr",
          "output_type": "stream",
          "text": [
            "\r 16%|█▋        | 79/483 [01:27<07:34,  1.13s/it]"
          ]
        },
        {
          "name": "stdout",
          "output_type": "stream",
          "text": [
            "Crawl comment page 1 success!!!\n",
            "Crawl comment for product 73125530\n",
            "Crawl comment page 0 success!!!\n"
          ]
        },
        {
          "name": "stderr",
          "output_type": "stream",
          "text": [
            "\r 17%|█▋        | 80/483 [01:28<07:39,  1.14s/it]"
          ]
        },
        {
          "name": "stdout",
          "output_type": "stream",
          "text": [
            "Crawl comment page 1 success!!!\n",
            "Crawl comment for product 70656791\n",
            "Crawl comment page 0 success!!!\n"
          ]
        },
        {
          "name": "stderr",
          "output_type": "stream",
          "text": [
            "\r 17%|█▋        | 81/483 [01:29<08:01,  1.20s/it]"
          ]
        },
        {
          "name": "stdout",
          "output_type": "stream",
          "text": [
            "Crawl comment page 1 success!!!\n",
            "Crawl comment for product 115092053\n",
            "Crawl comment page 0 success!!!\n"
          ]
        },
        {
          "name": "stderr",
          "output_type": "stream",
          "text": [
            "\r 17%|█▋        | 82/483 [01:30<07:37,  1.14s/it]"
          ]
        },
        {
          "name": "stdout",
          "output_type": "stream",
          "text": [
            "Crawl comment page 1 success!!!\n",
            "Crawl comment for product 2119169\n",
            "Crawl comment page 0 success!!!\n"
          ]
        },
        {
          "name": "stderr",
          "output_type": "stream",
          "text": [
            "\r 17%|█▋        | 83/483 [01:32<07:50,  1.18s/it]"
          ]
        },
        {
          "name": "stdout",
          "output_type": "stream",
          "text": [
            "Crawl comment page 1 success!!!\n",
            "Crawl comment for product 148918960\n",
            "Crawl comment page 0 success!!!\n"
          ]
        },
        {
          "name": "stderr",
          "output_type": "stream",
          "text": [
            "\r 17%|█▋        | 84/483 [01:32<07:22,  1.11s/it]"
          ]
        },
        {
          "name": "stdout",
          "output_type": "stream",
          "text": [
            "Crawl comment page 1 success!!!\n",
            "Crawl comment for product 107961500\n",
            "Crawl comment page 0 success!!!\n"
          ]
        },
        {
          "name": "stderr",
          "output_type": "stream",
          "text": [
            "\r 18%|█▊        | 85/483 [01:34<07:19,  1.10s/it]"
          ]
        },
        {
          "name": "stdout",
          "output_type": "stream",
          "text": [
            "Crawl comment page 1 success!!!\n",
            "Crawl comment for product 110001215\n",
            "Crawl comment page 0 success!!!\n"
          ]
        },
        {
          "name": "stderr",
          "output_type": "stream",
          "text": [
            "\r 18%|█▊        | 86/483 [01:35<07:14,  1.09s/it]"
          ]
        },
        {
          "name": "stdout",
          "output_type": "stream",
          "text": [
            "Crawl comment page 1 success!!!\n",
            "Crawl comment for product 263393347\n",
            "Crawl comment page 0 success!!!\n"
          ]
        },
        {
          "name": "stderr",
          "output_type": "stream",
          "text": [
            "\r 18%|█▊        | 87/483 [01:37<08:59,  1.36s/it]"
          ]
        },
        {
          "name": "stdout",
          "output_type": "stream",
          "text": [
            "Crawl comment page 1 success!!!\n",
            "Crawl comment for product 51662145\n",
            "Crawl comment page 0 success!!!\n"
          ]
        },
        {
          "name": "stderr",
          "output_type": "stream",
          "text": [
            "\r 18%|█▊        | 88/483 [01:38<08:45,  1.33s/it]"
          ]
        },
        {
          "name": "stdout",
          "output_type": "stream",
          "text": [
            "Crawl comment page 1 success!!!\n",
            "Crawl comment for product 104991715\n",
            "Crawl comment page 0 success!!!\n"
          ]
        },
        {
          "name": "stderr",
          "output_type": "stream",
          "text": [
            "\r 18%|█▊        | 89/483 [01:41<11:56,  1.82s/it]"
          ]
        },
        {
          "name": "stdout",
          "output_type": "stream",
          "text": [
            "Crawl comment page 1 success!!!\n",
            "Crawl comment for product 578967\n",
            "Crawl comment page 0 success!!!\n"
          ]
        },
        {
          "name": "stderr",
          "output_type": "stream",
          "text": [
            "\r 19%|█▊        | 90/483 [01:42<10:44,  1.64s/it]"
          ]
        },
        {
          "name": "stdout",
          "output_type": "stream",
          "text": [
            "Crawl comment page 1 success!!!\n",
            "Crawl comment for product 215225085\n",
            "Crawl comment page 0 success!!!\n"
          ]
        },
        {
          "name": "stderr",
          "output_type": "stream",
          "text": [
            "\r 19%|█▉        | 91/483 [01:43<09:16,  1.42s/it]"
          ]
        },
        {
          "name": "stdout",
          "output_type": "stream",
          "text": [
            "Crawl comment page 1 success!!!\n",
            "Crawl comment for product 188769126\n",
            "Crawl comment page 0 success!!!\n"
          ]
        },
        {
          "name": "stderr",
          "output_type": "stream",
          "text": [
            "\r 19%|█▉        | 92/483 [01:44<08:20,  1.28s/it]"
          ]
        },
        {
          "name": "stdout",
          "output_type": "stream",
          "text": [
            "Crawl comment page 1 success!!!\n",
            "Crawl comment for product 202805930\n",
            "Crawl comment page 0 success!!!\n"
          ]
        },
        {
          "name": "stderr",
          "output_type": "stream",
          "text": [
            "\r 19%|█▉        | 93/483 [01:45<07:37,  1.17s/it]"
          ]
        },
        {
          "name": "stdout",
          "output_type": "stream",
          "text": [
            "Crawl comment page 1 success!!!\n",
            "Crawl comment for product 26149459\n",
            "Crawl comment page 0 success!!!\n"
          ]
        },
        {
          "name": "stderr",
          "output_type": "stream",
          "text": [
            "\r 19%|█▉        | 94/483 [01:46<07:01,  1.08s/it]"
          ]
        },
        {
          "name": "stdout",
          "output_type": "stream",
          "text": [
            "Crawl comment page 1 success!!!\n",
            "Crawl comment for product 1657931\n",
            "Crawl comment page 0 success!!!\n"
          ]
        },
        {
          "name": "stderr",
          "output_type": "stream",
          "text": [
            "\r 20%|█▉        | 95/483 [01:47<06:58,  1.08s/it]"
          ]
        },
        {
          "name": "stdout",
          "output_type": "stream",
          "text": [
            "Crawl comment page 1 success!!!\n",
            "Crawl comment for product 180967996\n",
            "Crawl comment page 0 success!!!\n"
          ]
        },
        {
          "name": "stderr",
          "output_type": "stream",
          "text": [
            "\r 20%|█▉        | 96/483 [01:48<06:26,  1.00it/s]"
          ]
        },
        {
          "name": "stdout",
          "output_type": "stream",
          "text": [
            "Crawl comment page 1 success!!!\n",
            "Crawl comment for product 56880195\n",
            "Crawl comment page 0 success!!!\n"
          ]
        },
        {
          "name": "stderr",
          "output_type": "stream",
          "text": [
            "\r 20%|██        | 97/483 [01:49<06:57,  1.08s/it]"
          ]
        },
        {
          "name": "stdout",
          "output_type": "stream",
          "text": [
            "Crawl comment page 1 success!!!\n",
            "Crawl comment for product 217639833\n",
            "Crawl comment page 0 success!!!\n"
          ]
        },
        {
          "name": "stderr",
          "output_type": "stream",
          "text": [
            "\r 20%|██        | 98/483 [01:50<06:24,  1.00it/s]"
          ]
        },
        {
          "name": "stdout",
          "output_type": "stream",
          "text": [
            "Crawl comment page 1 success!!!\n",
            "Crawl comment for product 79445924\n",
            "Crawl comment page 0 success!!!\n"
          ]
        },
        {
          "name": "stderr",
          "output_type": "stream",
          "text": [
            "\r 20%|██        | 99/483 [01:52<08:24,  1.31s/it]"
          ]
        },
        {
          "name": "stdout",
          "output_type": "stream",
          "text": [
            "Crawl comment page 1 success!!!\n",
            "Crawl comment for product 56941523\n",
            "Crawl comment page 0 success!!!\n"
          ]
        },
        {
          "name": "stderr",
          "output_type": "stream",
          "text": [
            "\r 21%|██        | 100/483 [01:53<08:11,  1.28s/it]"
          ]
        },
        {
          "name": "stdout",
          "output_type": "stream",
          "text": [
            "Crawl comment page 1 success!!!\n",
            "Crawl comment for product 558353\n",
            "Crawl comment page 0 success!!!\n"
          ]
        },
        {
          "name": "stderr",
          "output_type": "stream",
          "text": [
            "\r 21%|██        | 101/483 [01:54<07:26,  1.17s/it]"
          ]
        },
        {
          "name": "stdout",
          "output_type": "stream",
          "text": [
            "Crawl comment page 1 success!!!\n",
            "Crawl comment for product 34818286\n",
            "Crawl comment page 0 success!!!\n"
          ]
        },
        {
          "name": "stderr",
          "output_type": "stream",
          "text": [
            "\r 21%|██        | 102/483 [01:55<07:11,  1.13s/it]"
          ]
        },
        {
          "name": "stdout",
          "output_type": "stream",
          "text": [
            "Crawl comment page 1 success!!!\n",
            "Crawl comment for product 116726951\n",
            "Crawl comment page 0 success!!!\n"
          ]
        },
        {
          "name": "stderr",
          "output_type": "stream",
          "text": [
            "\r 21%|██▏       | 103/483 [01:56<07:34,  1.20s/it]"
          ]
        },
        {
          "name": "stdout",
          "output_type": "stream",
          "text": [
            "Crawl comment page 1 success!!!\n",
            "Crawl comment for product 273381046\n",
            "Crawl comment page 0 success!!!\n"
          ]
        },
        {
          "name": "stderr",
          "output_type": "stream",
          "text": [
            "\r 22%|██▏       | 104/483 [01:57<06:36,  1.04s/it]"
          ]
        },
        {
          "name": "stdout",
          "output_type": "stream",
          "text": [
            "Crawl comment page 1 success!!!\n",
            "Crawl comment for product 197172891\n",
            "Crawl comment page 0 success!!!\n"
          ]
        },
        {
          "name": "stderr",
          "output_type": "stream",
          "text": [
            "\r 22%|██▏       | 105/483 [01:58<05:51,  1.07it/s]"
          ]
        },
        {
          "name": "stdout",
          "output_type": "stream",
          "text": [
            "Crawl comment page 1 success!!!\n",
            "Crawl comment for product 189568106\n",
            "Crawl comment page 0 success!!!\n"
          ]
        },
        {
          "name": "stderr",
          "output_type": "stream",
          "text": [
            "\r 22%|██▏       | 106/483 [01:58<05:35,  1.12it/s]"
          ]
        },
        {
          "name": "stdout",
          "output_type": "stream",
          "text": [
            "Crawl comment page 1 success!!!\n",
            "Crawl comment for product 191918107\n",
            "Crawl comment page 0 success!!!\n"
          ]
        },
        {
          "name": "stderr",
          "output_type": "stream",
          "text": [
            "\r 22%|██▏       | 107/483 [01:59<05:30,  1.14it/s]"
          ]
        },
        {
          "name": "stdout",
          "output_type": "stream",
          "text": [
            "Crawl comment page 1 success!!!\n",
            "Crawl comment for product 118680989\n",
            "Crawl comment page 0 success!!!\n"
          ]
        },
        {
          "name": "stderr",
          "output_type": "stream",
          "text": [
            "\r 22%|██▏       | 108/483 [02:00<05:36,  1.11it/s]"
          ]
        },
        {
          "name": "stdout",
          "output_type": "stream",
          "text": [
            "Crawl comment page 1 success!!!\n",
            "Crawl comment for product 273172656\n",
            "Crawl comment page 0 success!!!\n"
          ]
        },
        {
          "name": "stderr",
          "output_type": "stream",
          "text": [
            "\r 23%|██▎       | 109/483 [02:01<05:17,  1.18it/s]"
          ]
        },
        {
          "name": "stdout",
          "output_type": "stream",
          "text": [
            "Crawl comment page 1 success!!!\n",
            "Crawl comment for product 58407340\n",
            "Crawl comment page 0 success!!!\n"
          ]
        },
        {
          "name": "stderr",
          "output_type": "stream",
          "text": [
            "\r 23%|██▎       | 110/483 [02:02<06:18,  1.02s/it]"
          ]
        },
        {
          "name": "stdout",
          "output_type": "stream",
          "text": [
            "Crawl comment page 1 success!!!\n",
            "Crawl comment for product 67910007\n",
            "Crawl comment page 0 success!!!\n"
          ]
        },
        {
          "name": "stderr",
          "output_type": "stream",
          "text": [
            "\r 23%|██▎       | 111/483 [02:03<06:01,  1.03it/s]"
          ]
        },
        {
          "name": "stdout",
          "output_type": "stream",
          "text": [
            "Crawl comment page 1 success!!!\n",
            "Crawl comment for product 200843684\n",
            "Crawl comment page 0 success!!!\n"
          ]
        },
        {
          "name": "stderr",
          "output_type": "stream",
          "text": [
            "\r 23%|██▎       | 112/483 [02:04<05:41,  1.09it/s]"
          ]
        },
        {
          "name": "stdout",
          "output_type": "stream",
          "text": [
            "Crawl comment page 1 success!!!\n",
            "Crawl comment for product 76004568\n",
            "Crawl comment page 0 success!!!\n"
          ]
        },
        {
          "name": "stderr",
          "output_type": "stream",
          "text": [
            "\r 23%|██▎       | 113/483 [02:06<08:01,  1.30s/it]"
          ]
        },
        {
          "name": "stdout",
          "output_type": "stream",
          "text": [
            "Crawl comment page 1 success!!!\n",
            "Crawl comment for product 199113613\n",
            "Crawl comment page 0 success!!!\n"
          ]
        },
        {
          "name": "stderr",
          "output_type": "stream",
          "text": [
            "\r 24%|██▎       | 114/483 [02:07<07:59,  1.30s/it]"
          ]
        },
        {
          "name": "stdout",
          "output_type": "stream",
          "text": [
            "Crawl comment page 1 success!!!\n",
            "Crawl comment for product 120166109\n",
            "Crawl comment page 0 success!!!\n"
          ]
        },
        {
          "name": "stderr",
          "output_type": "stream",
          "text": [
            "\r 24%|██▍       | 115/483 [02:09<07:52,  1.28s/it]"
          ]
        },
        {
          "name": "stdout",
          "output_type": "stream",
          "text": [
            "Crawl comment page 1 success!!!\n",
            "Crawl comment for product 11058658\n",
            "Crawl comment page 0 success!!!\n"
          ]
        },
        {
          "name": "stderr",
          "output_type": "stream",
          "text": [
            "\r 24%|██▍       | 116/483 [02:10<07:16,  1.19s/it]"
          ]
        },
        {
          "name": "stdout",
          "output_type": "stream",
          "text": [
            "Crawl comment page 1 success!!!\n",
            "Crawl comment for product 73502149\n",
            "Crawl comment page 0 success!!!\n"
          ]
        },
        {
          "name": "stderr",
          "output_type": "stream",
          "text": [
            "\r 24%|██▍       | 117/483 [02:11<06:39,  1.09s/it]"
          ]
        },
        {
          "name": "stdout",
          "output_type": "stream",
          "text": [
            "Crawl comment page 1 success!!!\n",
            "Crawl comment for product 252862664\n",
            "Crawl comment page 0 success!!!\n"
          ]
        },
        {
          "name": "stderr",
          "output_type": "stream",
          "text": [
            "\r 24%|██▍       | 118/483 [02:13<09:00,  1.48s/it]"
          ]
        },
        {
          "name": "stdout",
          "output_type": "stream",
          "text": [
            "Crawl comment page 1 success!!!\n",
            "Crawl comment for product 558335\n",
            "Crawl comment page 0 success!!!\n"
          ]
        },
        {
          "name": "stderr",
          "output_type": "stream",
          "text": [
            "\r 25%|██▍       | 119/483 [02:14<08:00,  1.32s/it]"
          ]
        },
        {
          "name": "stdout",
          "output_type": "stream",
          "text": [
            "Crawl comment page 1 success!!!\n",
            "Crawl comment for product 120481094\n",
            "Crawl comment page 0 success!!!\n"
          ]
        },
        {
          "name": "stderr",
          "output_type": "stream",
          "text": [
            "\r 25%|██▍       | 120/483 [02:15<07:13,  1.19s/it]"
          ]
        },
        {
          "name": "stdout",
          "output_type": "stream",
          "text": [
            "Crawl comment page 1 success!!!\n",
            "Crawl comment for product 21582013\n",
            "Crawl comment page 0 success!!!\n"
          ]
        },
        {
          "name": "stderr",
          "output_type": "stream",
          "text": [
            "\r 25%|██▌       | 121/483 [02:16<07:49,  1.30s/it]"
          ]
        },
        {
          "name": "stdout",
          "output_type": "stream",
          "text": [
            "Crawl comment page 1 success!!!\n",
            "Crawl comment for product 186627908\n",
            "Crawl comment page 0 success!!!\n"
          ]
        },
        {
          "name": "stderr",
          "output_type": "stream",
          "text": [
            "\r 25%|██▌       | 122/483 [02:19<09:28,  1.57s/it]"
          ]
        },
        {
          "name": "stdout",
          "output_type": "stream",
          "text": [
            "Crawl comment page 1 success!!!\n",
            "Crawl comment for product 242627929\n",
            "Crawl comment page 0 success!!!\n"
          ]
        },
        {
          "name": "stderr",
          "output_type": "stream",
          "text": [
            "\r 25%|██▌       | 123/483 [02:19<08:06,  1.35s/it]"
          ]
        },
        {
          "name": "stdout",
          "output_type": "stream",
          "text": [
            "Crawl comment page 1 success!!!\n",
            "Crawl comment for product 271539474\n",
            "Crawl comment page 0 success!!!\n"
          ]
        },
        {
          "name": "stderr",
          "output_type": "stream",
          "text": [
            "\r 26%|██▌       | 124/483 [02:21<07:45,  1.30s/it]"
          ]
        },
        {
          "name": "stdout",
          "output_type": "stream",
          "text": [
            "Crawl comment page 1 success!!!\n",
            "Crawl comment for product 11488920\n",
            "Crawl comment page 0 success!!!\n"
          ]
        },
        {
          "name": "stderr",
          "output_type": "stream",
          "text": [
            "\r 26%|██▌       | 125/483 [02:23<10:26,  1.75s/it]"
          ]
        },
        {
          "name": "stdout",
          "output_type": "stream",
          "text": [
            "Crawl comment page 1 success!!!\n",
            "Crawl comment for product 781987\n",
            "Crawl comment page 0 success!!!\n"
          ]
        },
        {
          "name": "stderr",
          "output_type": "stream",
          "text": [
            "\r 26%|██▌       | 126/483 [02:24<09:05,  1.53s/it]"
          ]
        },
        {
          "name": "stdout",
          "output_type": "stream",
          "text": [
            "Crawl comment page 1 success!!!\n",
            "Crawl comment for product 217474792\n",
            "Crawl comment page 0 success!!!\n"
          ]
        },
        {
          "name": "stderr",
          "output_type": "stream",
          "text": [
            "\r 26%|██▋       | 127/483 [02:25<08:01,  1.35s/it]"
          ]
        },
        {
          "name": "stdout",
          "output_type": "stream",
          "text": [
            "Crawl comment page 1 success!!!\n",
            "Crawl comment for product 52581646\n",
            "Crawl comment page 0 success!!!\n"
          ]
        },
        {
          "name": "stderr",
          "output_type": "stream",
          "text": [
            "\r 27%|██▋       | 128/483 [02:26<07:05,  1.20s/it]"
          ]
        },
        {
          "name": "stdout",
          "output_type": "stream",
          "text": [
            "Crawl comment page 1 success!!!\n",
            "Crawl comment for product 180378151\n",
            "Crawl comment page 0 success!!!\n"
          ]
        },
        {
          "name": "stderr",
          "output_type": "stream",
          "text": [
            "\r 27%|██▋       | 129/483 [02:27<06:31,  1.11s/it]"
          ]
        },
        {
          "name": "stdout",
          "output_type": "stream",
          "text": [
            "Crawl comment page 1 success!!!\n",
            "Crawl comment for product 172940012\n",
            "Crawl comment page 0 success!!!\n"
          ]
        },
        {
          "name": "stderr",
          "output_type": "stream",
          "text": [
            "\r 27%|██▋       | 130/483 [02:29<08:25,  1.43s/it]"
          ]
        },
        {
          "name": "stdout",
          "output_type": "stream",
          "text": [
            "Crawl comment page 1 success!!!\n",
            "Crawl comment for product 117195930\n",
            "Crawl comment page 0 success!!!\n"
          ]
        },
        {
          "name": "stderr",
          "output_type": "stream",
          "text": [
            "\r 27%|██▋       | 131/483 [02:30<07:22,  1.26s/it]"
          ]
        },
        {
          "name": "stdout",
          "output_type": "stream",
          "text": [
            "Crawl comment page 1 success!!!\n",
            "Crawl comment for product 181223608\n",
            "Crawl comment page 0 success!!!\n"
          ]
        },
        {
          "name": "stderr",
          "output_type": "stream",
          "text": [
            "\r 27%|██▋       | 132/483 [02:31<06:48,  1.16s/it]"
          ]
        },
        {
          "name": "stdout",
          "output_type": "stream",
          "text": [
            "Crawl comment page 1 success!!!\n",
            "Crawl comment for product 108243510\n",
            "Crawl comment page 0 success!!!\n"
          ]
        },
        {
          "name": "stderr",
          "output_type": "stream",
          "text": [
            "\r 28%|██▊       | 133/483 [02:32<06:29,  1.11s/it]"
          ]
        },
        {
          "name": "stdout",
          "output_type": "stream",
          "text": [
            "Crawl comment page 1 success!!!\n",
            "Crawl comment for product 165013585\n",
            "Crawl comment page 0 success!!!\n"
          ]
        },
        {
          "name": "stderr",
          "output_type": "stream",
          "text": [
            "\r 28%|██▊       | 134/483 [02:33<06:04,  1.04s/it]"
          ]
        },
        {
          "name": "stdout",
          "output_type": "stream",
          "text": [
            "Crawl comment page 1 success!!!\n",
            "Crawl comment for product 217767423\n",
            "Crawl comment page 0 success!!!\n"
          ]
        },
        {
          "name": "stderr",
          "output_type": "stream",
          "text": [
            "\r 28%|██▊       | 135/483 [02:34<05:40,  1.02it/s]"
          ]
        },
        {
          "name": "stdout",
          "output_type": "stream",
          "text": [
            "Crawl comment page 1 success!!!\n",
            "Crawl comment for product 46202190\n",
            "Crawl comment page 0 success!!!\n"
          ]
        },
        {
          "name": "stderr",
          "output_type": "stream",
          "text": [
            "\r 28%|██▊       | 136/483 [02:35<05:34,  1.04it/s]"
          ]
        },
        {
          "name": "stdout",
          "output_type": "stream",
          "text": [
            "Crawl comment page 1 success!!!\n",
            "Crawl comment for product 51462534\n",
            "Crawl comment page 0 success!!!\n"
          ]
        },
        {
          "name": "stderr",
          "output_type": "stream",
          "text": [
            "\r 28%|██▊       | 137/483 [02:35<05:18,  1.09it/s]"
          ]
        },
        {
          "name": "stdout",
          "output_type": "stream",
          "text": [
            "Crawl comment page 1 success!!!\n",
            "Crawl comment for product 13561925\n",
            "Crawl comment page 0 success!!!\n"
          ]
        },
        {
          "name": "stderr",
          "output_type": "stream",
          "text": [
            "\r 29%|██▊       | 138/483 [02:36<05:15,  1.09it/s]"
          ]
        },
        {
          "name": "stdout",
          "output_type": "stream",
          "text": [
            "Crawl comment page 1 success!!!\n",
            "Crawl comment for product 190989483\n",
            "Crawl comment page 0 success!!!\n"
          ]
        },
        {
          "name": "stderr",
          "output_type": "stream",
          "text": [
            "\r 29%|██▉       | 139/483 [02:38<05:36,  1.02it/s]"
          ]
        },
        {
          "name": "stdout",
          "output_type": "stream",
          "text": [
            "Crawl comment page 1 success!!!\n",
            "Crawl comment for product 217477211\n",
            "Crawl comment page 0 success!!!\n"
          ]
        },
        {
          "name": "stderr",
          "output_type": "stream",
          "text": [
            "\r 29%|██▉       | 140/483 [02:39<05:59,  1.05s/it]"
          ]
        },
        {
          "name": "stdout",
          "output_type": "stream",
          "text": [
            "Crawl comment page 1 success!!!\n",
            "Crawl comment for product 95043563\n",
            "Crawl comment page 0 success!!!\n"
          ]
        },
        {
          "name": "stderr",
          "output_type": "stream",
          "text": [
            "\r 29%|██▉       | 141/483 [02:40<05:54,  1.04s/it]"
          ]
        },
        {
          "name": "stdout",
          "output_type": "stream",
          "text": [
            "Crawl comment page 1 success!!!\n",
            "Crawl comment for product 156165766\n",
            "Crawl comment page 0 success!!!\n"
          ]
        },
        {
          "name": "stderr",
          "output_type": "stream",
          "text": [
            "\r 29%|██▉       | 142/483 [02:41<05:43,  1.01s/it]"
          ]
        },
        {
          "name": "stdout",
          "output_type": "stream",
          "text": [
            "Crawl comment page 1 success!!!\n",
            "Crawl comment for product 273170621\n",
            "Crawl comment page 0 success!!!\n"
          ]
        },
        {
          "name": "stderr",
          "output_type": "stream",
          "text": [
            "\r 30%|██▉       | 143/483 [02:42<05:45,  1.02s/it]"
          ]
        },
        {
          "name": "stdout",
          "output_type": "stream",
          "text": [
            "Crawl comment page 1 success!!!\n",
            "Crawl comment for product 146384829\n",
            "Crawl comment page 0 success!!!\n"
          ]
        },
        {
          "name": "stderr",
          "output_type": "stream",
          "text": [
            "\r 30%|██▉       | 144/483 [02:44<07:35,  1.34s/it]"
          ]
        },
        {
          "name": "stdout",
          "output_type": "stream",
          "text": [
            "Crawl comment page 1 success!!!\n",
            "Crawl comment for product 119309533\n",
            "Crawl comment page 0 success!!!\n"
          ]
        },
        {
          "name": "stderr",
          "output_type": "stream",
          "text": [
            "\r 30%|███       | 145/483 [02:45<07:36,  1.35s/it]"
          ]
        },
        {
          "name": "stdout",
          "output_type": "stream",
          "text": [
            "Crawl comment page 1 success!!!\n",
            "Crawl comment for product 121367420\n",
            "Crawl comment page 0 success!!!\n"
          ]
        },
        {
          "name": "stderr",
          "output_type": "stream",
          "text": [
            "\r 30%|███       | 146/483 [02:46<06:44,  1.20s/it]"
          ]
        },
        {
          "name": "stdout",
          "output_type": "stream",
          "text": [
            "Crawl comment page 1 success!!!\n",
            "Crawl comment for product 68413077\n",
            "Crawl comment page 0 success!!!\n"
          ]
        },
        {
          "name": "stderr",
          "output_type": "stream",
          "text": [
            "\r 30%|███       | 147/483 [02:47<06:31,  1.16s/it]"
          ]
        },
        {
          "name": "stdout",
          "output_type": "stream",
          "text": [
            "Crawl comment page 1 success!!!\n",
            "Crawl comment for product 134242996\n",
            "Crawl comment page 0 success!!!\n"
          ]
        },
        {
          "name": "stderr",
          "output_type": "stream",
          "text": [
            "\r 31%|███       | 148/483 [02:48<05:58,  1.07s/it]"
          ]
        },
        {
          "name": "stdout",
          "output_type": "stream",
          "text": [
            "Crawl comment page 1 success!!!\n",
            "Crawl comment for product 271907736\n",
            "Crawl comment page 0 success!!!\n"
          ]
        },
        {
          "name": "stderr",
          "output_type": "stream",
          "text": [
            "\r 31%|███       | 149/483 [02:49<05:20,  1.04it/s]"
          ]
        },
        {
          "name": "stdout",
          "output_type": "stream",
          "text": [
            "Crawl comment page 1 success!!!\n",
            "Crawl comment for product 575974\n",
            "Crawl comment page 0 success!!!\n"
          ]
        },
        {
          "name": "stderr",
          "output_type": "stream",
          "text": [
            "\r 31%|███       | 150/483 [02:50<05:46,  1.04s/it]"
          ]
        },
        {
          "name": "stdout",
          "output_type": "stream",
          "text": [
            "Crawl comment page 1 success!!!\n",
            "Crawl comment for product 177705463\n",
            "Crawl comment page 0 success!!!\n"
          ]
        },
        {
          "name": "stderr",
          "output_type": "stream",
          "text": [
            "\r 31%|███▏      | 151/483 [02:51<05:30,  1.00it/s]"
          ]
        },
        {
          "name": "stdout",
          "output_type": "stream",
          "text": [
            "Crawl comment page 1 success!!!\n",
            "Crawl comment for product 195109412\n",
            "Crawl comment page 0 success!!!\n"
          ]
        },
        {
          "name": "stderr",
          "output_type": "stream",
          "text": [
            "\r 31%|███▏      | 152/483 [02:52<05:30,  1.00it/s]"
          ]
        },
        {
          "name": "stdout",
          "output_type": "stream",
          "text": [
            "Crawl comment page 1 success!!!\n",
            "Crawl comment for product 177610565\n",
            "Crawl comment page 0 success!!!\n"
          ]
        },
        {
          "name": "stderr",
          "output_type": "stream",
          "text": [
            "\r 32%|███▏      | 153/483 [02:53<05:44,  1.05s/it]"
          ]
        },
        {
          "name": "stdout",
          "output_type": "stream",
          "text": [
            "Crawl comment page 1 success!!!\n",
            "Crawl comment for product 54145105\n",
            "Crawl comment page 0 success!!!\n"
          ]
        },
        {
          "name": "stderr",
          "output_type": "stream",
          "text": [
            "\r 32%|███▏      | 154/483 [02:55<07:13,  1.32s/it]"
          ]
        },
        {
          "name": "stdout",
          "output_type": "stream",
          "text": [
            "Crawl comment page 1 success!!!\n",
            "Crawl comment for product 138460516\n",
            "Crawl comment page 0 success!!!\n"
          ]
        },
        {
          "name": "stderr",
          "output_type": "stream",
          "text": [
            "\r 32%|███▏      | 155/483 [02:56<06:40,  1.22s/it]"
          ]
        },
        {
          "name": "stdout",
          "output_type": "stream",
          "text": [
            "Crawl comment page 1 success!!!\n",
            "Crawl comment for product 36560504\n",
            "Crawl comment page 0 success!!!\n"
          ]
        },
        {
          "name": "stderr",
          "output_type": "stream",
          "text": [
            "\r 32%|███▏      | 156/483 [02:57<06:25,  1.18s/it]"
          ]
        },
        {
          "name": "stdout",
          "output_type": "stream",
          "text": [
            "Crawl comment page 1 success!!!\n",
            "Crawl comment for product 71924152\n",
            "Crawl comment page 0 success!!!\n"
          ]
        },
        {
          "name": "stderr",
          "output_type": "stream",
          "text": [
            "\r 33%|███▎      | 157/483 [02:59<07:27,  1.37s/it]"
          ]
        },
        {
          "name": "stdout",
          "output_type": "stream",
          "text": [
            "Crawl comment page 1 success!!!\n",
            "Crawl comment for product 71206737\n",
            "Crawl comment page 0 success!!!\n"
          ]
        },
        {
          "name": "stderr",
          "output_type": "stream",
          "text": [
            "\r 33%|███▎      | 158/483 [03:01<08:00,  1.48s/it]"
          ]
        },
        {
          "name": "stdout",
          "output_type": "stream",
          "text": [
            "Crawl comment page 1 success!!!\n",
            "Crawl comment for product 272318899\n",
            "Crawl comment page 0 success!!!\n"
          ]
        },
        {
          "name": "stderr",
          "output_type": "stream",
          "text": [
            "\r 33%|███▎      | 159/483 [03:02<07:52,  1.46s/it]"
          ]
        },
        {
          "name": "stdout",
          "output_type": "stream",
          "text": [
            "Crawl comment page 1 success!!!\n",
            "Crawl comment for product 6710595\n",
            "Crawl comment page 0 success!!!\n"
          ]
        },
        {
          "name": "stderr",
          "output_type": "stream",
          "text": [
            "\r 33%|███▎      | 160/483 [03:03<07:47,  1.45s/it]"
          ]
        },
        {
          "name": "stdout",
          "output_type": "stream",
          "text": [
            "Crawl comment page 1 success!!!\n",
            "Crawl comment for product 99994000\n",
            "Crawl comment page 0 success!!!\n"
          ]
        },
        {
          "name": "stderr",
          "output_type": "stream",
          "text": [
            "\r 33%|███▎      | 161/483 [03:04<07:04,  1.32s/it]"
          ]
        },
        {
          "name": "stdout",
          "output_type": "stream",
          "text": [
            "Crawl comment page 1 success!!!\n",
            "Crawl comment for product 210458939\n",
            "Crawl comment page 0 success!!!\n"
          ]
        },
        {
          "name": "stderr",
          "output_type": "stream",
          "text": [
            "\r 34%|███▎      | 162/483 [03:05<06:12,  1.16s/it]"
          ]
        },
        {
          "name": "stdout",
          "output_type": "stream",
          "text": [
            "Crawl comment page 1 success!!!\n",
            "Crawl comment for product 70820849\n",
            "Crawl comment page 0 success!!!\n"
          ]
        },
        {
          "name": "stderr",
          "output_type": "stream",
          "text": [
            "\r 34%|███▎      | 163/483 [03:06<06:09,  1.16s/it]"
          ]
        },
        {
          "name": "stdout",
          "output_type": "stream",
          "text": [
            "Crawl comment page 1 success!!!\n",
            "Crawl comment for product 32021492\n",
            "Crawl comment page 0 success!!!\n"
          ]
        },
        {
          "name": "stderr",
          "output_type": "stream",
          "text": [
            "\r 34%|███▍      | 164/483 [03:07<05:42,  1.07s/it]"
          ]
        },
        {
          "name": "stdout",
          "output_type": "stream",
          "text": [
            "Crawl comment page 1 success!!!\n",
            "Crawl comment for product 255640837\n",
            "Crawl comment page 0 success!!!\n"
          ]
        },
        {
          "name": "stderr",
          "output_type": "stream",
          "text": [
            "\r 34%|███▍      | 165/483 [03:08<05:14,  1.01it/s]"
          ]
        },
        {
          "name": "stdout",
          "output_type": "stream",
          "text": [
            "Crawl comment page 1 success!!!\n",
            "Crawl comment for product 7221847\n",
            "Crawl comment page 0 success!!!\n"
          ]
        },
        {
          "name": "stderr",
          "output_type": "stream",
          "text": [
            "\r 34%|███▍      | 166/483 [03:09<05:18,  1.01s/it]"
          ]
        },
        {
          "name": "stdout",
          "output_type": "stream",
          "text": [
            "Crawl comment page 1 success!!!\n",
            "Crawl comment for product 90531871\n",
            "Crawl comment page 0 success!!!\n"
          ]
        },
        {
          "name": "stderr",
          "output_type": "stream",
          "text": [
            "\r 35%|███▍      | 167/483 [03:11<06:05,  1.16s/it]"
          ]
        },
        {
          "name": "stdout",
          "output_type": "stream",
          "text": [
            "Crawl comment page 1 success!!!\n",
            "Crawl comment for product 132247327\n",
            "Crawl comment page 0 success!!!\n"
          ]
        },
        {
          "name": "stderr",
          "output_type": "stream",
          "text": [
            "\r 35%|███▍      | 168/483 [03:12<05:46,  1.10s/it]"
          ]
        },
        {
          "name": "stdout",
          "output_type": "stream",
          "text": [
            "Crawl comment page 1 success!!!\n",
            "Crawl comment for product 197070658\n",
            "Crawl comment page 0 success!!!\n"
          ]
        },
        {
          "name": "stderr",
          "output_type": "stream",
          "text": [
            "\r 35%|███▍      | 169/483 [03:12<05:18,  1.02s/it]"
          ]
        },
        {
          "name": "stdout",
          "output_type": "stream",
          "text": [
            "Crawl comment page 1 success!!!\n",
            "Crawl comment for product 85908084\n",
            "Crawl comment page 0 success!!!\n"
          ]
        },
        {
          "name": "stderr",
          "output_type": "stream",
          "text": [
            "\r 35%|███▌      | 170/483 [03:13<04:55,  1.06it/s]"
          ]
        },
        {
          "name": "stdout",
          "output_type": "stream",
          "text": [
            "Crawl comment page 1 success!!!\n",
            "Crawl comment for product 273159831\n",
            "Crawl comment page 0 success!!!\n"
          ]
        },
        {
          "name": "stderr",
          "output_type": "stream",
          "text": [
            "\r 35%|███▌      | 171/483 [03:14<04:28,  1.16it/s]"
          ]
        },
        {
          "name": "stdout",
          "output_type": "stream",
          "text": [
            "Crawl comment page 1 success!!!\n",
            "Crawl comment for product 206202845\n",
            "Crawl comment page 0 success!!!\n"
          ]
        },
        {
          "name": "stderr",
          "output_type": "stream",
          "text": [
            "\r 36%|███▌      | 172/483 [03:14<04:10,  1.24it/s]"
          ]
        },
        {
          "name": "stdout",
          "output_type": "stream",
          "text": [
            "Crawl comment page 1 success!!!\n",
            "Crawl comment for product 57971649\n",
            "Crawl comment page 0 success!!!\n"
          ]
        },
        {
          "name": "stderr",
          "output_type": "stream",
          "text": [
            "\r 36%|███▌      | 173/483 [03:15<04:16,  1.21it/s]"
          ]
        },
        {
          "name": "stdout",
          "output_type": "stream",
          "text": [
            "Crawl comment page 1 success!!!\n",
            "Crawl comment for product 272220890\n",
            "Crawl comment page 0 success!!!\n"
          ]
        },
        {
          "name": "stderr",
          "output_type": "stream",
          "text": [
            "\r 36%|███▌      | 174/483 [03:17<05:49,  1.13s/it]"
          ]
        },
        {
          "name": "stdout",
          "output_type": "stream",
          "text": [
            "Crawl comment page 1 success!!!\n",
            "Crawl comment for product 120759154\n",
            "Crawl comment page 0 success!!!\n"
          ]
        },
        {
          "name": "stderr",
          "output_type": "stream",
          "text": [
            "\r 36%|███▌      | 175/483 [03:18<05:23,  1.05s/it]"
          ]
        },
        {
          "name": "stdout",
          "output_type": "stream",
          "text": [
            "Crawl comment page 1 success!!!\n",
            "Crawl comment for product 190708831\n",
            "Crawl comment page 0 success!!!\n"
          ]
        },
        {
          "name": "stderr",
          "output_type": "stream",
          "text": [
            "\r 36%|███▋      | 176/483 [03:20<06:15,  1.22s/it]"
          ]
        },
        {
          "name": "stdout",
          "output_type": "stream",
          "text": [
            "Crawl comment page 1 success!!!\n",
            "Crawl comment for product 27068546\n",
            "Crawl comment page 0 success!!!\n"
          ]
        },
        {
          "name": "stderr",
          "output_type": "stream",
          "text": [
            "\r 37%|███▋      | 177/483 [03:21<06:08,  1.20s/it]"
          ]
        },
        {
          "name": "stdout",
          "output_type": "stream",
          "text": [
            "Crawl comment page 1 success!!!\n",
            "Crawl comment for product 199693002\n",
            "Crawl comment page 0 success!!!\n"
          ]
        },
        {
          "name": "stderr",
          "output_type": "stream",
          "text": [
            "\r 37%|███▋      | 178/483 [03:22<05:34,  1.10s/it]"
          ]
        },
        {
          "name": "stdout",
          "output_type": "stream",
          "text": [
            "Crawl comment page 1 success!!!\n",
            "Crawl comment for product 477936\n",
            "Crawl comment page 0 success!!!\n"
          ]
        },
        {
          "name": "stderr",
          "output_type": "stream",
          "text": [
            "\r 37%|███▋      | 179/483 [03:23<05:11,  1.02s/it]"
          ]
        },
        {
          "name": "stdout",
          "output_type": "stream",
          "text": [
            "Crawl comment page 1 success!!!\n",
            "Crawl comment for product 72544008\n",
            "Crawl comment page 0 success!!!\n"
          ]
        },
        {
          "name": "stderr",
          "output_type": "stream",
          "text": [
            "\r 37%|███▋      | 180/483 [03:24<05:13,  1.03s/it]"
          ]
        },
        {
          "name": "stdout",
          "output_type": "stream",
          "text": [
            "Crawl comment page 1 success!!!\n",
            "Crawl comment for product 177780420\n",
            "Crawl comment page 0 success!!!\n"
          ]
        },
        {
          "name": "stderr",
          "output_type": "stream",
          "text": [
            "\r 37%|███▋      | 181/483 [03:24<04:49,  1.04it/s]"
          ]
        },
        {
          "name": "stdout",
          "output_type": "stream",
          "text": [
            "Crawl comment page 1 success!!!\n",
            "Crawl comment for product 5146283\n",
            "Crawl comment page 0 success!!!\n"
          ]
        },
        {
          "name": "stderr",
          "output_type": "stream",
          "text": [
            "\r 38%|███▊      | 182/483 [03:25<04:47,  1.05it/s]"
          ]
        },
        {
          "name": "stdout",
          "output_type": "stream",
          "text": [
            "Crawl comment page 1 success!!!\n",
            "Crawl comment for product 20036138\n",
            "Crawl comment page 0 success!!!\n"
          ]
        },
        {
          "name": "stderr",
          "output_type": "stream",
          "text": [
            "\r 38%|███▊      | 183/483 [03:26<05:01,  1.00s/it]"
          ]
        },
        {
          "name": "stdout",
          "output_type": "stream",
          "text": [
            "Crawl comment page 1 success!!!\n",
            "Crawl comment for product 38241122\n",
            "Crawl comment page 0 success!!!\n"
          ]
        },
        {
          "name": "stderr",
          "output_type": "stream",
          "text": [
            "\r 38%|███▊      | 184/483 [03:27<04:45,  1.05it/s]"
          ]
        },
        {
          "name": "stdout",
          "output_type": "stream",
          "text": [
            "Crawl comment page 1 success!!!\n",
            "Crawl comment for product 75615959\n",
            "Crawl comment page 0 success!!!\n"
          ]
        },
        {
          "name": "stderr",
          "output_type": "stream",
          "text": [
            "\r 38%|███▊      | 185/483 [03:29<05:39,  1.14s/it]"
          ]
        },
        {
          "name": "stdout",
          "output_type": "stream",
          "text": [
            "Crawl comment page 1 success!!!\n",
            "Crawl comment for product 73954967\n",
            "Crawl comment page 0 success!!!\n"
          ]
        },
        {
          "name": "stderr",
          "output_type": "stream",
          "text": [
            "\r 39%|███▊      | 186/483 [03:30<05:05,  1.03s/it]"
          ]
        },
        {
          "name": "stdout",
          "output_type": "stream",
          "text": [
            "Crawl comment page 1 success!!!\n",
            "Crawl comment for product 64988886\n",
            "Crawl comment page 0 success!!!\n"
          ]
        },
        {
          "name": "stderr",
          "output_type": "stream",
          "text": [
            "\r 39%|███▊      | 187/483 [03:31<05:08,  1.04s/it]"
          ]
        },
        {
          "name": "stdout",
          "output_type": "stream",
          "text": [
            "Crawl comment page 1 success!!!\n",
            "Crawl comment for product 176435276\n",
            "Crawl comment page 0 success!!!\n"
          ]
        },
        {
          "name": "stderr",
          "output_type": "stream",
          "text": [
            "\r 39%|███▉      | 188/483 [03:32<04:51,  1.01it/s]"
          ]
        },
        {
          "name": "stdout",
          "output_type": "stream",
          "text": [
            "Crawl comment page 1 success!!!\n",
            "Crawl comment for product 52626374\n",
            "Crawl comment page 0 success!!!\n"
          ]
        },
        {
          "name": "stderr",
          "output_type": "stream",
          "text": [
            "\r 39%|███▉      | 189/483 [03:33<05:25,  1.11s/it]"
          ]
        },
        {
          "name": "stdout",
          "output_type": "stream",
          "text": [
            "Crawl comment page 1 success!!!\n",
            "Crawl comment for product 206485076\n",
            "Crawl comment page 0 success!!!\n"
          ]
        },
        {
          "name": "stderr",
          "output_type": "stream",
          "text": [
            "\r 39%|███▉      | 190/483 [03:34<05:28,  1.12s/it]"
          ]
        },
        {
          "name": "stdout",
          "output_type": "stream",
          "text": [
            "Crawl comment page 1 success!!!\n",
            "Crawl comment for product 169619846\n",
            "Crawl comment page 0 success!!!\n"
          ]
        },
        {
          "name": "stderr",
          "output_type": "stream",
          "text": [
            "\r 40%|███▉      | 191/483 [03:35<05:09,  1.06s/it]"
          ]
        },
        {
          "name": "stdout",
          "output_type": "stream",
          "text": [
            "Crawl comment page 1 success!!!\n",
            "Crawl comment for product 186256010\n",
            "Crawl comment page 0 success!!!\n"
          ]
        },
        {
          "name": "stderr",
          "output_type": "stream",
          "text": [
            "\r 40%|███▉      | 192/483 [03:36<04:49,  1.01it/s]"
          ]
        },
        {
          "name": "stdout",
          "output_type": "stream",
          "text": [
            "Crawl comment page 1 success!!!\n",
            "Crawl comment for product 66877902\n",
            "Crawl comment page 0 success!!!\n"
          ]
        },
        {
          "name": "stderr",
          "output_type": "stream",
          "text": [
            "\r 40%|███▉      | 193/483 [03:38<06:03,  1.25s/it]"
          ]
        },
        {
          "name": "stdout",
          "output_type": "stream",
          "text": [
            "Crawl comment page 1 success!!!\n",
            "Crawl comment for product 52187161\n",
            "Crawl comment page 0 success!!!\n"
          ]
        },
        {
          "name": "stderr",
          "output_type": "stream",
          "text": [
            "\r 40%|████      | 194/483 [03:39<05:37,  1.17s/it]"
          ]
        },
        {
          "name": "stdout",
          "output_type": "stream",
          "text": [
            "Crawl comment page 1 success!!!\n",
            "Crawl comment for product 59238575\n",
            "Crawl comment page 0 success!!!\n"
          ]
        },
        {
          "name": "stderr",
          "output_type": "stream",
          "text": [
            "\r 40%|████      | 195/483 [03:40<05:18,  1.10s/it]"
          ]
        },
        {
          "name": "stdout",
          "output_type": "stream",
          "text": [
            "Crawl comment page 1 success!!!\n",
            "Crawl comment for product 37413745\n",
            "Crawl comment page 0 success!!!\n"
          ]
        },
        {
          "name": "stderr",
          "output_type": "stream",
          "text": [
            "\r 41%|████      | 196/483 [03:41<05:14,  1.10s/it]"
          ]
        },
        {
          "name": "stdout",
          "output_type": "stream",
          "text": [
            "Crawl comment page 1 success!!!\n",
            "Crawl comment for product 270462665\n",
            "Crawl comment page 0 success!!!\n"
          ]
        },
        {
          "name": "stderr",
          "output_type": "stream",
          "text": [
            "\r 41%|████      | 197/483 [03:42<04:52,  1.02s/it]"
          ]
        },
        {
          "name": "stdout",
          "output_type": "stream",
          "text": [
            "Crawl comment page 1 success!!!\n",
            "Crawl comment for product 1918931\n",
            "Crawl comment page 0 success!!!\n"
          ]
        },
        {
          "name": "stderr",
          "output_type": "stream",
          "text": [
            "\r 41%|████      | 198/483 [03:42<04:43,  1.00it/s]"
          ]
        },
        {
          "name": "stdout",
          "output_type": "stream",
          "text": [
            "Crawl comment page 1 success!!!\n",
            "Crawl comment for product 179520546\n",
            "Crawl comment page 0 success!!!\n"
          ]
        },
        {
          "name": "stderr",
          "output_type": "stream",
          "text": [
            "\r 41%|████      | 199/483 [03:44<04:46,  1.01s/it]"
          ]
        },
        {
          "name": "stdout",
          "output_type": "stream",
          "text": [
            "Crawl comment page 1 success!!!\n",
            "Crawl comment for product 135058409\n",
            "Crawl comment page 0 success!!!\n"
          ]
        },
        {
          "name": "stderr",
          "output_type": "stream",
          "text": [
            "\r 41%|████▏     | 200/483 [03:46<06:14,  1.32s/it]"
          ]
        },
        {
          "name": "stdout",
          "output_type": "stream",
          "text": [
            "Crawl comment page 1 success!!!\n",
            "Crawl comment for product 195979652\n",
            "Crawl comment page 0 success!!!\n"
          ]
        },
        {
          "name": "stderr",
          "output_type": "stream",
          "text": [
            "\r 42%|████▏     | 201/483 [03:46<05:28,  1.17s/it]"
          ]
        },
        {
          "name": "stdout",
          "output_type": "stream",
          "text": [
            "Crawl comment page 1 success!!!\n",
            "Crawl comment for product 122700651\n",
            "Crawl comment page 0 success!!!\n"
          ]
        },
        {
          "name": "stderr",
          "output_type": "stream",
          "text": [
            "\r 42%|████▏     | 202/483 [03:48<06:05,  1.30s/it]"
          ]
        },
        {
          "name": "stdout",
          "output_type": "stream",
          "text": [
            "Crawl comment page 1 success!!!\n",
            "Crawl comment for product 10775990\n",
            "Crawl comment page 0 success!!!\n"
          ]
        },
        {
          "name": "stderr",
          "output_type": "stream",
          "text": [
            "\r 42%|████▏     | 203/483 [03:49<05:24,  1.16s/it]"
          ]
        },
        {
          "name": "stdout",
          "output_type": "stream",
          "text": [
            "Crawl comment page 1 success!!!\n",
            "Crawl comment for product 56537855\n",
            "Crawl comment page 0 success!!!\n"
          ]
        },
        {
          "name": "stderr",
          "output_type": "stream",
          "text": [
            "\r 42%|████▏     | 204/483 [03:50<05:11,  1.12s/it]"
          ]
        },
        {
          "name": "stdout",
          "output_type": "stream",
          "text": [
            "Crawl comment page 1 success!!!\n",
            "Crawl comment for product 88222310\n",
            "Crawl comment page 0 success!!!\n"
          ]
        },
        {
          "name": "stderr",
          "output_type": "stream",
          "text": [
            "\r 42%|████▏     | 205/483 [03:52<06:27,  1.39s/it]"
          ]
        },
        {
          "name": "stdout",
          "output_type": "stream",
          "text": [
            "Crawl comment page 1 success!!!\n",
            "Crawl comment for product 247305229\n",
            "Crawl comment page 0 success!!!\n"
          ]
        },
        {
          "name": "stderr",
          "output_type": "stream",
          "text": [
            "\r 43%|████▎     | 206/483 [03:53<05:30,  1.19s/it]"
          ]
        },
        {
          "name": "stdout",
          "output_type": "stream",
          "text": [
            "Crawl comment page 1 success!!!\n",
            "Crawl comment for product 215896319\n",
            "Crawl comment page 0 success!!!\n"
          ]
        },
        {
          "name": "stderr",
          "output_type": "stream",
          "text": [
            "\r 43%|████▎     | 207/483 [03:53<04:47,  1.04s/it]"
          ]
        },
        {
          "name": "stdout",
          "output_type": "stream",
          "text": [
            "Crawl comment page 1 success!!!\n",
            "Crawl comment for product 214755184\n",
            "Crawl comment page 0 success!!!\n"
          ]
        },
        {
          "name": "stderr",
          "output_type": "stream",
          "text": [
            "\r 43%|████▎     | 208/483 [03:55<06:03,  1.32s/it]"
          ]
        },
        {
          "name": "stdout",
          "output_type": "stream",
          "text": [
            "Crawl comment page 1 success!!!\n",
            "Crawl comment for product 57284183\n",
            "Crawl comment page 0 success!!!\n"
          ]
        },
        {
          "name": "stderr",
          "output_type": "stream",
          "text": [
            "\r 43%|████▎     | 209/483 [03:56<05:38,  1.24s/it]"
          ]
        },
        {
          "name": "stdout",
          "output_type": "stream",
          "text": [
            "Crawl comment page 1 success!!!\n",
            "Crawl comment for product 192582976\n",
            "Crawl comment page 0 success!!!\n"
          ]
        },
        {
          "name": "stderr",
          "output_type": "stream",
          "text": [
            "\r 43%|████▎     | 210/483 [03:57<05:33,  1.22s/it]"
          ]
        },
        {
          "name": "stdout",
          "output_type": "stream",
          "text": [
            "Crawl comment page 1 success!!!\n",
            "Crawl comment for product 206242343\n",
            "Crawl comment page 0 success!!!\n"
          ]
        },
        {
          "name": "stderr",
          "output_type": "stream",
          "text": [
            "\r 44%|████▎     | 211/483 [03:58<04:59,  1.10s/it]"
          ]
        },
        {
          "name": "stdout",
          "output_type": "stream",
          "text": [
            "Crawl comment page 1 success!!!\n",
            "Crawl comment for product 248654107\n",
            "Crawl comment page 0 success!!!\n"
          ]
        },
        {
          "name": "stderr",
          "output_type": "stream",
          "text": [
            "\r 44%|████▍     | 212/483 [03:59<04:33,  1.01s/it]"
          ]
        },
        {
          "name": "stdout",
          "output_type": "stream",
          "text": [
            "Crawl comment page 1 success!!!\n",
            "Crawl comment for product 173211404\n",
            "Crawl comment page 0 success!!!\n"
          ]
        },
        {
          "name": "stderr",
          "output_type": "stream",
          "text": [
            "\r 44%|████▍     | 213/483 [04:00<04:37,  1.03s/it]"
          ]
        },
        {
          "name": "stdout",
          "output_type": "stream",
          "text": [
            "Crawl comment page 1 success!!!\n",
            "Crawl comment for product 141201958\n",
            "Crawl comment page 0 success!!!\n"
          ]
        },
        {
          "name": "stderr",
          "output_type": "stream",
          "text": [
            "\r 44%|████▍     | 214/483 [04:02<05:21,  1.20s/it]"
          ]
        },
        {
          "name": "stdout",
          "output_type": "stream",
          "text": [
            "Crawl comment page 1 success!!!\n",
            "Crawl comment for product 58357614\n",
            "Crawl comment page 0 success!!!\n"
          ]
        },
        {
          "name": "stderr",
          "output_type": "stream",
          "text": [
            "\r 45%|████▍     | 215/483 [04:03<05:13,  1.17s/it]"
          ]
        },
        {
          "name": "stdout",
          "output_type": "stream",
          "text": [
            "Crawl comment page 1 success!!!\n",
            "Crawl comment for product 169978766\n",
            "Crawl comment page 0 success!!!\n"
          ]
        },
        {
          "name": "stderr",
          "output_type": "stream",
          "text": [
            "\r 45%|████▍     | 216/483 [04:04<04:44,  1.07s/it]"
          ]
        },
        {
          "name": "stdout",
          "output_type": "stream",
          "text": [
            "Crawl comment page 1 success!!!\n",
            "Crawl comment for product 189339895\n",
            "Crawl comment page 0 success!!!\n"
          ]
        },
        {
          "name": "stderr",
          "output_type": "stream",
          "text": [
            "\r 45%|████▍     | 217/483 [04:05<04:41,  1.06s/it]"
          ]
        },
        {
          "name": "stdout",
          "output_type": "stream",
          "text": [
            "Crawl comment page 1 success!!!\n",
            "Crawl comment for product 12608591\n",
            "Crawl comment page 0 success!!!\n"
          ]
        },
        {
          "name": "stderr",
          "output_type": "stream",
          "text": [
            "\r 45%|████▌     | 218/483 [04:06<05:22,  1.22s/it]"
          ]
        },
        {
          "name": "stdout",
          "output_type": "stream",
          "text": [
            "Crawl comment page 1 success!!!\n",
            "Crawl comment for product 169650796\n",
            "Crawl comment page 0 success!!!\n"
          ]
        },
        {
          "name": "stderr",
          "output_type": "stream",
          "text": [
            "\r 45%|████▌     | 219/483 [04:08<06:17,  1.43s/it]"
          ]
        },
        {
          "name": "stdout",
          "output_type": "stream",
          "text": [
            "Crawl comment page 1 success!!!\n",
            "Crawl comment for product 10596972\n",
            "Crawl comment page 0 success!!!\n"
          ]
        },
        {
          "name": "stderr",
          "output_type": "stream",
          "text": [
            "\r 46%|████▌     | 220/483 [04:09<05:39,  1.29s/it]"
          ]
        },
        {
          "name": "stdout",
          "output_type": "stream",
          "text": [
            "Crawl comment page 1 success!!!\n",
            "Crawl comment for product 105100168\n",
            "Crawl comment page 0 success!!!\n"
          ]
        },
        {
          "name": "stderr",
          "output_type": "stream",
          "text": [
            "\r 46%|████▌     | 221/483 [04:10<05:05,  1.16s/it]"
          ]
        },
        {
          "name": "stdout",
          "output_type": "stream",
          "text": [
            "Crawl comment page 1 success!!!\n",
            "Crawl comment for product 58799041\n",
            "Crawl comment page 0 success!!!\n"
          ]
        },
        {
          "name": "stderr",
          "output_type": "stream",
          "text": [
            "\r 46%|████▌     | 222/483 [04:11<04:27,  1.02s/it]"
          ]
        },
        {
          "name": "stdout",
          "output_type": "stream",
          "text": [
            "Crawl comment page 1 success!!!\n",
            "Crawl comment for product 38304453\n",
            "Crawl comment page 0 success!!!\n"
          ]
        },
        {
          "name": "stderr",
          "output_type": "stream",
          "text": [
            "\r 46%|████▌     | 223/483 [04:12<04:23,  1.01s/it]"
          ]
        },
        {
          "name": "stdout",
          "output_type": "stream",
          "text": [
            "Crawl comment page 1 success!!!\n",
            "Crawl comment for product 272638497\n",
            "Crawl comment page 0 success!!!\n"
          ]
        },
        {
          "name": "stderr",
          "output_type": "stream",
          "text": [
            "\r 46%|████▋     | 224/483 [04:13<04:06,  1.05it/s]"
          ]
        },
        {
          "name": "stdout",
          "output_type": "stream",
          "text": [
            "Crawl comment page 1 success!!!\n",
            "Crawl comment for product 270462666\n",
            "Crawl comment page 0 success!!!\n"
          ]
        },
        {
          "name": "stderr",
          "output_type": "stream",
          "text": [
            "\r 47%|████▋     | 225/483 [04:13<03:48,  1.13it/s]"
          ]
        },
        {
          "name": "stdout",
          "output_type": "stream",
          "text": [
            "Crawl comment page 1 success!!!\n",
            "Crawl comment for product 194465292\n",
            "Crawl comment page 0 success!!!\n"
          ]
        },
        {
          "name": "stderr",
          "output_type": "stream",
          "text": [
            "\r 47%|████▋     | 226/483 [04:14<03:50,  1.11it/s]"
          ]
        },
        {
          "name": "stdout",
          "output_type": "stream",
          "text": [
            "Crawl comment page 1 success!!!\n",
            "Crawl comment for product 127747995\n",
            "Crawl comment page 0 success!!!\n"
          ]
        },
        {
          "name": "stderr",
          "output_type": "stream",
          "text": [
            "\r 47%|████▋     | 227/483 [04:15<03:49,  1.12it/s]"
          ]
        },
        {
          "name": "stdout",
          "output_type": "stream",
          "text": [
            "Crawl comment page 1 success!!!\n",
            "Crawl comment for product 72751318\n",
            "Crawl comment page 0 success!!!\n"
          ]
        },
        {
          "name": "stderr",
          "output_type": "stream",
          "text": [
            "\r 47%|████▋     | 228/483 [04:17<04:59,  1.18s/it]"
          ]
        },
        {
          "name": "stdout",
          "output_type": "stream",
          "text": [
            "Crawl comment page 1 success!!!\n",
            "Crawl comment for product 273084830\n",
            "Crawl comment page 0 success!!!\n"
          ]
        },
        {
          "name": "stderr",
          "output_type": "stream",
          "text": [
            "\r 47%|████▋     | 229/483 [04:18<04:25,  1.05s/it]"
          ]
        },
        {
          "name": "stdout",
          "output_type": "stream",
          "text": [
            "Crawl comment page 1 success!!!\n",
            "Crawl comment for product 43743469\n",
            "Crawl comment page 0 success!!!\n"
          ]
        },
        {
          "name": "stderr",
          "output_type": "stream",
          "text": [
            "\r 48%|████▊     | 230/483 [04:19<04:09,  1.01it/s]"
          ]
        },
        {
          "name": "stdout",
          "output_type": "stream",
          "text": [
            "Crawl comment page 1 success!!!\n",
            "Crawl comment for product 273259454\n",
            "Crawl comment page 0 success!!!\n"
          ]
        },
        {
          "name": "stderr",
          "output_type": "stream",
          "text": [
            "\r 48%|████▊     | 231/483 [04:19<03:45,  1.12it/s]"
          ]
        },
        {
          "name": "stdout",
          "output_type": "stream",
          "text": [
            "Crawl comment page 1 success!!!\n",
            "Crawl comment for product 155382183\n",
            "Crawl comment page 0 success!!!\n"
          ]
        },
        {
          "name": "stderr",
          "output_type": "stream",
          "text": [
            "\r 48%|████▊     | 232/483 [04:20<03:37,  1.15it/s]"
          ]
        },
        {
          "name": "stdout",
          "output_type": "stream",
          "text": [
            "Crawl comment page 1 success!!!\n",
            "Crawl comment for product 217476857\n",
            "Crawl comment page 0 success!!!\n"
          ]
        },
        {
          "name": "stderr",
          "output_type": "stream",
          "text": [
            "\r 48%|████▊     | 233/483 [04:21<03:35,  1.16it/s]"
          ]
        },
        {
          "name": "stdout",
          "output_type": "stream",
          "text": [
            "Crawl comment page 1 success!!!\n",
            "Crawl comment for product 247395139\n",
            "Crawl comment page 0 success!!!\n"
          ]
        },
        {
          "name": "stderr",
          "output_type": "stream",
          "text": [
            "\r 48%|████▊     | 234/483 [04:22<03:32,  1.17it/s]"
          ]
        },
        {
          "name": "stdout",
          "output_type": "stream",
          "text": [
            "Crawl comment page 1 success!!!\n",
            "Crawl comment for product 252768587\n",
            "Crawl comment page 0 success!!!\n"
          ]
        },
        {
          "name": "stderr",
          "output_type": "stream",
          "text": [
            "\r 49%|████▊     | 235/483 [04:23<03:40,  1.13it/s]"
          ]
        },
        {
          "name": "stdout",
          "output_type": "stream",
          "text": [
            "Crawl comment page 1 success!!!\n",
            "Crawl comment for product 75659112\n",
            "Crawl comment page 0 success!!!\n"
          ]
        },
        {
          "name": "stderr",
          "output_type": "stream",
          "text": [
            "\r 49%|████▉     | 236/483 [04:24<04:11,  1.02s/it]"
          ]
        },
        {
          "name": "stdout",
          "output_type": "stream",
          "text": [
            "Crawl comment page 1 success!!!\n",
            "Crawl comment for product 69927147\n",
            "Crawl comment page 0 success!!!\n"
          ]
        },
        {
          "name": "stderr",
          "output_type": "stream",
          "text": [
            "\r 49%|████▉     | 237/483 [04:25<04:00,  1.02it/s]"
          ]
        },
        {
          "name": "stdout",
          "output_type": "stream",
          "text": [
            "Crawl comment page 1 success!!!\n",
            "Crawl comment for product 118315498\n",
            "Crawl comment page 0 success!!!\n"
          ]
        },
        {
          "name": "stderr",
          "output_type": "stream",
          "text": [
            "\r 49%|████▉     | 238/483 [04:27<05:26,  1.33s/it]"
          ]
        },
        {
          "name": "stdout",
          "output_type": "stream",
          "text": [
            "Crawl comment page 1 success!!!\n",
            "Crawl comment for product 48510374\n",
            "Crawl comment page 0 success!!!\n"
          ]
        },
        {
          "name": "stderr",
          "output_type": "stream",
          "text": [
            "\r 49%|████▉     | 239/483 [04:29<06:20,  1.56s/it]"
          ]
        },
        {
          "name": "stdout",
          "output_type": "stream",
          "text": [
            "Crawl comment page 1 success!!!\n",
            "Crawl comment for product 99334685\n",
            "Crawl comment page 0 success!!!\n"
          ]
        },
        {
          "name": "stderr",
          "output_type": "stream",
          "text": [
            "\r 50%|████▉     | 240/483 [04:31<06:50,  1.69s/it]"
          ]
        },
        {
          "name": "stdout",
          "output_type": "stream",
          "text": [
            "Crawl comment page 1 success!!!\n",
            "Crawl comment for product 54412879\n",
            "Crawl comment page 0 success!!!\n"
          ]
        },
        {
          "name": "stderr",
          "output_type": "stream",
          "text": [
            "\r 50%|████▉     | 241/483 [04:32<05:46,  1.43s/it]"
          ]
        },
        {
          "name": "stdout",
          "output_type": "stream",
          "text": [
            "Crawl comment page 1 success!!!\n",
            "Crawl comment for product 199166359\n",
            "Crawl comment page 0 success!!!\n"
          ]
        },
        {
          "name": "stderr",
          "output_type": "stream",
          "text": [
            "\r 50%|█████     | 242/483 [04:33<05:01,  1.25s/it]"
          ]
        },
        {
          "name": "stdout",
          "output_type": "stream",
          "text": [
            "Crawl comment page 1 success!!!\n",
            "Crawl comment for product 19929974\n",
            "Crawl comment page 0 success!!!\n"
          ]
        },
        {
          "name": "stderr",
          "output_type": "stream",
          "text": [
            "\r 50%|█████     | 243/483 [04:34<04:43,  1.18s/it]"
          ]
        },
        {
          "name": "stdout",
          "output_type": "stream",
          "text": [
            "Crawl comment page 1 success!!!\n",
            "Crawl comment for product 35912717\n",
            "Crawl comment page 0 success!!!\n"
          ]
        },
        {
          "name": "stderr",
          "output_type": "stream",
          "text": [
            "\r 51%|█████     | 244/483 [04:35<04:21,  1.09s/it]"
          ]
        },
        {
          "name": "stdout",
          "output_type": "stream",
          "text": [
            "Crawl comment page 1 success!!!\n",
            "Crawl comment for product 155114109\n",
            "Crawl comment page 0 success!!!\n"
          ]
        },
        {
          "name": "stderr",
          "output_type": "stream",
          "text": [
            "\r 51%|█████     | 245/483 [04:36<04:00,  1.01s/it]"
          ]
        },
        {
          "name": "stdout",
          "output_type": "stream",
          "text": [
            "Crawl comment page 1 success!!!\n",
            "Crawl comment for product 152816167\n",
            "Crawl comment page 0 success!!!\n"
          ]
        },
        {
          "name": "stderr",
          "output_type": "stream",
          "text": [
            "\r 51%|█████     | 246/483 [04:36<03:49,  1.03it/s]"
          ]
        },
        {
          "name": "stdout",
          "output_type": "stream",
          "text": [
            "Crawl comment page 1 success!!!\n",
            "Crawl comment for product 247918899\n",
            "Crawl comment page 0 success!!!\n"
          ]
        },
        {
          "name": "stderr",
          "output_type": "stream",
          "text": [
            "\r 51%|█████     | 247/483 [04:37<03:30,  1.12it/s]"
          ]
        },
        {
          "name": "stdout",
          "output_type": "stream",
          "text": [
            "Crawl comment page 1 success!!!\n",
            "Crawl comment for product 51105287\n",
            "Crawl comment page 0 success!!!\n"
          ]
        },
        {
          "name": "stderr",
          "output_type": "stream",
          "text": [
            "\r 51%|█████▏    | 248/483 [04:38<03:37,  1.08it/s]"
          ]
        },
        {
          "name": "stdout",
          "output_type": "stream",
          "text": [
            "Crawl comment page 1 success!!!\n",
            "Crawl comment for product 68199747\n",
            "Crawl comment page 0 success!!!\n"
          ]
        },
        {
          "name": "stderr",
          "output_type": "stream",
          "text": [
            "\r 52%|█████▏    | 249/483 [04:39<03:27,  1.13it/s]"
          ]
        },
        {
          "name": "stdout",
          "output_type": "stream",
          "text": [
            "Crawl comment page 1 success!!!\n",
            "Crawl comment for product 122754705\n",
            "Crawl comment page 0 success!!!\n"
          ]
        },
        {
          "name": "stderr",
          "output_type": "stream",
          "text": [
            "\r 52%|█████▏    | 250/483 [04:40<03:17,  1.18it/s]"
          ]
        },
        {
          "name": "stdout",
          "output_type": "stream",
          "text": [
            "Crawl comment page 1 success!!!\n",
            "Crawl comment for product 7630143\n",
            "Crawl comment page 0 success!!!\n"
          ]
        },
        {
          "name": "stderr",
          "output_type": "stream",
          "text": [
            "\r 52%|█████▏    | 251/483 [04:40<03:12,  1.20it/s]"
          ]
        },
        {
          "name": "stdout",
          "output_type": "stream",
          "text": [
            "Crawl comment page 1 success!!!\n",
            "Crawl comment for product 249829748\n",
            "Crawl comment page 0 success!!!\n"
          ]
        },
        {
          "name": "stderr",
          "output_type": "stream",
          "text": [
            "\r 52%|█████▏    | 252/483 [04:41<03:07,  1.23it/s]"
          ]
        },
        {
          "name": "stdout",
          "output_type": "stream",
          "text": [
            "Crawl comment page 1 success!!!\n",
            "Crawl comment for product 262295618\n",
            "Crawl comment page 0 success!!!\n"
          ]
        },
        {
          "name": "stderr",
          "output_type": "stream",
          "text": [
            "\r 52%|█████▏    | 253/483 [04:42<03:07,  1.23it/s]"
          ]
        },
        {
          "name": "stdout",
          "output_type": "stream",
          "text": [
            "Crawl comment page 1 success!!!\n",
            "Crawl comment for product 98540421\n",
            "Crawl comment page 0 success!!!\n"
          ]
        },
        {
          "name": "stderr",
          "output_type": "stream",
          "text": [
            "\r 53%|█████▎    | 254/483 [04:43<03:13,  1.18it/s]"
          ]
        },
        {
          "name": "stdout",
          "output_type": "stream",
          "text": [
            "Crawl comment page 1 success!!!\n",
            "Crawl comment for product 271064637\n",
            "Crawl comment page 0 success!!!\n"
          ]
        },
        {
          "name": "stderr",
          "output_type": "stream",
          "text": [
            "\r 53%|█████▎    | 255/483 [04:44<03:00,  1.26it/s]"
          ]
        },
        {
          "name": "stdout",
          "output_type": "stream",
          "text": [
            "Crawl comment page 1 success!!!\n",
            "Crawl comment for product 55956680\n",
            "Crawl comment page 0 success!!!\n"
          ]
        },
        {
          "name": "stderr",
          "output_type": "stream",
          "text": [
            "\r 53%|█████▎    | 256/483 [04:45<03:17,  1.15it/s]"
          ]
        },
        {
          "name": "stdout",
          "output_type": "stream",
          "text": [
            "Crawl comment page 1 success!!!\n",
            "Crawl comment for product 20420164\n",
            "Crawl comment page 0 success!!!\n"
          ]
        },
        {
          "name": "stderr",
          "output_type": "stream",
          "text": [
            "\r 53%|█████▎    | 257/483 [04:46<03:16,  1.15it/s]"
          ]
        },
        {
          "name": "stdout",
          "output_type": "stream",
          "text": [
            "Crawl comment page 1 success!!!\n",
            "Crawl comment for product 195791850\n",
            "Crawl comment page 0 success!!!\n"
          ]
        },
        {
          "name": "stderr",
          "output_type": "stream",
          "text": [
            "\r 53%|█████▎    | 258/483 [04:47<03:27,  1.08it/s]"
          ]
        },
        {
          "name": "stdout",
          "output_type": "stream",
          "text": [
            "Crawl comment page 1 success!!!\n",
            "Crawl comment for product 96175682\n",
            "Crawl comment page 0 success!!!\n"
          ]
        },
        {
          "name": "stderr",
          "output_type": "stream",
          "text": [
            "\r 54%|█████▎    | 259/483 [04:47<03:22,  1.11it/s]"
          ]
        },
        {
          "name": "stdout",
          "output_type": "stream",
          "text": [
            "Crawl comment page 1 success!!!\n",
            "Crawl comment for product 35905855\n",
            "Crawl comment page 0 success!!!\n"
          ]
        },
        {
          "name": "stderr",
          "output_type": "stream",
          "text": [
            "\r 54%|█████▍    | 260/483 [04:49<03:40,  1.01it/s]"
          ]
        },
        {
          "name": "stdout",
          "output_type": "stream",
          "text": [
            "Crawl comment page 1 success!!!\n",
            "Crawl comment for product 170436708\n",
            "Crawl comment page 0 success!!!\n"
          ]
        },
        {
          "name": "stderr",
          "output_type": "stream",
          "text": [
            "\r 54%|█████▍    | 261/483 [04:49<03:24,  1.08it/s]"
          ]
        },
        {
          "name": "stdout",
          "output_type": "stream",
          "text": [
            "Crawl comment page 1 success!!!\n",
            "Crawl comment for product 79691104\n",
            "Crawl comment page 0 success!!!\n"
          ]
        },
        {
          "name": "stderr",
          "output_type": "stream",
          "text": [
            "\r 54%|█████▍    | 262/483 [04:50<03:25,  1.08it/s]"
          ]
        },
        {
          "name": "stdout",
          "output_type": "stream",
          "text": [
            "Crawl comment page 1 success!!!\n",
            "Crawl comment for product 56336206\n",
            "Crawl comment page 0 success!!!\n"
          ]
        },
        {
          "name": "stderr",
          "output_type": "stream",
          "text": [
            "\r 54%|█████▍    | 263/483 [04:52<04:23,  1.20s/it]"
          ]
        },
        {
          "name": "stdout",
          "output_type": "stream",
          "text": [
            "Crawl comment page 1 success!!!\n",
            "Crawl comment for product 191900764\n",
            "Crawl comment page 0 success!!!\n"
          ]
        },
        {
          "name": "stderr",
          "output_type": "stream",
          "text": [
            "\r 55%|█████▍    | 264/483 [04:54<04:30,  1.24s/it]"
          ]
        },
        {
          "name": "stdout",
          "output_type": "stream",
          "text": [
            "Crawl comment page 1 success!!!\n",
            "Crawl comment for product 74858773\n",
            "Crawl comment page 0 success!!!\n"
          ]
        },
        {
          "name": "stderr",
          "output_type": "stream",
          "text": [
            "\r 55%|█████▍    | 265/483 [04:55<04:31,  1.25s/it]"
          ]
        },
        {
          "name": "stdout",
          "output_type": "stream",
          "text": [
            "Crawl comment page 1 success!!!\n",
            "Crawl comment for product 70840667\n",
            "Crawl comment page 0 success!!!\n"
          ]
        },
        {
          "name": "stderr",
          "output_type": "stream",
          "text": [
            "\r 55%|█████▌    | 266/483 [04:56<04:55,  1.36s/it]"
          ]
        },
        {
          "name": "stdout",
          "output_type": "stream",
          "text": [
            "Crawl comment page 1 success!!!\n",
            "Crawl comment for product 197529564\n",
            "Crawl comment page 0 success!!!\n"
          ]
        },
        {
          "name": "stderr",
          "output_type": "stream",
          "text": [
            "\r 55%|█████▌    | 267/483 [04:57<04:32,  1.26s/it]"
          ]
        },
        {
          "name": "stdout",
          "output_type": "stream",
          "text": [
            "Crawl comment page 1 success!!!\n",
            "Crawl comment for product 70825693\n",
            "Crawl comment page 0 success!!!\n"
          ]
        },
        {
          "name": "stderr",
          "output_type": "stream",
          "text": [
            "\r 55%|█████▌    | 268/483 [04:59<04:23,  1.22s/it]"
          ]
        },
        {
          "name": "stdout",
          "output_type": "stream",
          "text": [
            "Crawl comment page 1 success!!!\n",
            "Crawl comment for product 1400785\n",
            "Crawl comment page 0 success!!!\n"
          ]
        },
        {
          "name": "stderr",
          "output_type": "stream",
          "text": [
            "\r 56%|█████▌    | 269/483 [04:59<04:01,  1.13s/it]"
          ]
        },
        {
          "name": "stdout",
          "output_type": "stream",
          "text": [
            "Crawl comment page 1 success!!!\n",
            "Crawl comment for product 181361773\n",
            "Crawl comment page 0 success!!!\n"
          ]
        },
        {
          "name": "stderr",
          "output_type": "stream",
          "text": [
            "\r 56%|█████▌    | 270/483 [05:00<03:39,  1.03s/it]"
          ]
        },
        {
          "name": "stdout",
          "output_type": "stream",
          "text": [
            "Crawl comment page 1 success!!!\n",
            "Crawl comment for product 199693007\n",
            "Crawl comment page 0 success!!!\n"
          ]
        },
        {
          "name": "stderr",
          "output_type": "stream",
          "text": [
            "\r 56%|█████▌    | 271/483 [05:01<03:36,  1.02s/it]"
          ]
        },
        {
          "name": "stdout",
          "output_type": "stream",
          "text": [
            "Crawl comment page 1 success!!!\n",
            "Crawl comment for product 58252037\n",
            "Crawl comment page 0 success!!!\n"
          ]
        },
        {
          "name": "stderr",
          "output_type": "stream",
          "text": [
            "\r 56%|█████▋    | 272/483 [05:02<03:34,  1.02s/it]"
          ]
        },
        {
          "name": "stdout",
          "output_type": "stream",
          "text": [
            "Crawl comment page 1 success!!!\n",
            "Crawl comment for product 193859499\n",
            "Crawl comment page 0 success!!!\n"
          ]
        },
        {
          "name": "stderr",
          "output_type": "stream",
          "text": [
            "\r 57%|█████▋    | 273/483 [05:03<03:27,  1.01it/s]"
          ]
        },
        {
          "name": "stdout",
          "output_type": "stream",
          "text": [
            "Crawl comment page 1 success!!!\n",
            "Crawl comment for product 23476097\n",
            "Crawl comment page 0 success!!!\n"
          ]
        },
        {
          "name": "stderr",
          "output_type": "stream",
          "text": [
            "\r 57%|█████▋    | 274/483 [05:05<03:47,  1.09s/it]"
          ]
        },
        {
          "name": "stdout",
          "output_type": "stream",
          "text": [
            "Crawl comment page 1 success!!!\n",
            "Crawl comment for product 132209590\n",
            "Crawl comment page 0 success!!!\n"
          ]
        },
        {
          "name": "stderr",
          "output_type": "stream",
          "text": [
            "\r 57%|█████▋    | 275/483 [05:05<03:37,  1.05s/it]"
          ]
        },
        {
          "name": "stdout",
          "output_type": "stream",
          "text": [
            "Crawl comment page 1 success!!!\n",
            "Crawl comment for product 112574720\n",
            "Crawl comment page 0 success!!!\n"
          ]
        },
        {
          "name": "stderr",
          "output_type": "stream",
          "text": [
            "\r 57%|█████▋    | 276/483 [05:06<03:23,  1.02it/s]"
          ]
        },
        {
          "name": "stdout",
          "output_type": "stream",
          "text": [
            "Crawl comment page 1 success!!!\n",
            "Crawl comment for product 53773221\n",
            "Crawl comment page 0 success!!!\n"
          ]
        },
        {
          "name": "stderr",
          "output_type": "stream",
          "text": [
            "\r 57%|█████▋    | 277/483 [05:07<03:31,  1.03s/it]"
          ]
        },
        {
          "name": "stdout",
          "output_type": "stream",
          "text": [
            "Crawl comment page 1 success!!!\n",
            "Crawl comment for product 225236657\n",
            "Crawl comment page 0 success!!!\n"
          ]
        },
        {
          "name": "stderr",
          "output_type": "stream",
          "text": [
            "\r 58%|█████▊    | 278/483 [05:08<03:08,  1.09it/s]"
          ]
        },
        {
          "name": "stdout",
          "output_type": "stream",
          "text": [
            "Crawl comment page 1 success!!!\n",
            "Crawl comment for product 94778000\n",
            "Crawl comment page 0 success!!!\n"
          ]
        },
        {
          "name": "stderr",
          "output_type": "stream",
          "text": [
            "\r 58%|█████▊    | 279/483 [05:09<03:34,  1.05s/it]"
          ]
        },
        {
          "name": "stdout",
          "output_type": "stream",
          "text": [
            "Crawl comment page 1 success!!!\n",
            "Crawl comment for product 38059858\n",
            "Crawl comment page 0 success!!!\n"
          ]
        },
        {
          "name": "stderr",
          "output_type": "stream",
          "text": [
            "\r 58%|█████▊    | 280/483 [05:11<03:45,  1.11s/it]"
          ]
        },
        {
          "name": "stdout",
          "output_type": "stream",
          "text": [
            "Crawl comment page 1 success!!!\n",
            "Crawl comment for product 173636676\n",
            "Crawl comment page 0 success!!!\n"
          ]
        },
        {
          "name": "stderr",
          "output_type": "stream",
          "text": [
            "\r 58%|█████▊    | 281/483 [05:12<03:48,  1.13s/it]"
          ]
        },
        {
          "name": "stdout",
          "output_type": "stream",
          "text": [
            "Crawl comment page 1 success!!!\n",
            "Crawl comment for product 212551839\n",
            "Crawl comment page 0 success!!!\n"
          ]
        },
        {
          "name": "stderr",
          "output_type": "stream",
          "text": [
            "\r 58%|█████▊    | 282/483 [05:13<03:27,  1.03s/it]"
          ]
        },
        {
          "name": "stdout",
          "output_type": "stream",
          "text": [
            "Crawl comment page 1 success!!!\n",
            "Crawl comment for product 183254388\n",
            "Crawl comment page 0 success!!!\n"
          ]
        },
        {
          "name": "stderr",
          "output_type": "stream",
          "text": [
            "\r 59%|█████▊    | 283/483 [05:14<03:15,  1.02it/s]"
          ]
        },
        {
          "name": "stdout",
          "output_type": "stream",
          "text": [
            "Crawl comment page 1 success!!!\n",
            "Crawl comment for product 212051207\n",
            "Crawl comment page 0 success!!!\n"
          ]
        },
        {
          "name": "stderr",
          "output_type": "stream",
          "text": [
            "\r 59%|█████▉    | 284/483 [05:15<03:33,  1.07s/it]"
          ]
        },
        {
          "name": "stdout",
          "output_type": "stream",
          "text": [
            "Crawl comment page 1 success!!!\n",
            "Crawl comment for product 195305799\n",
            "Crawl comment page 0 success!!!\n"
          ]
        },
        {
          "name": "stderr",
          "output_type": "stream",
          "text": [
            "\r 59%|█████▉    | 285/483 [05:16<03:08,  1.05it/s]"
          ]
        },
        {
          "name": "stdout",
          "output_type": "stream",
          "text": [
            "Crawl comment page 1 success!!!\n",
            "Crawl comment for product 242086158\n",
            "Crawl comment page 0 success!!!\n"
          ]
        },
        {
          "name": "stderr",
          "output_type": "stream",
          "text": [
            "\r 59%|█████▉    | 286/483 [05:16<03:07,  1.05it/s]"
          ]
        },
        {
          "name": "stdout",
          "output_type": "stream",
          "text": [
            "Crawl comment page 1 success!!!\n",
            "Crawl comment for product 165758266\n",
            "Crawl comment page 0 success!!!\n"
          ]
        },
        {
          "name": "stderr",
          "output_type": "stream",
          "text": [
            "\r 59%|█████▉    | 287/483 [05:17<02:57,  1.11it/s]"
          ]
        },
        {
          "name": "stdout",
          "output_type": "stream",
          "text": [
            "Crawl comment page 1 success!!!\n",
            "Crawl comment for product 20528052\n",
            "Crawl comment page 0 success!!!\n"
          ]
        },
        {
          "name": "stderr",
          "output_type": "stream",
          "text": [
            "\r 60%|█████▉    | 288/483 [05:18<02:53,  1.13it/s]"
          ]
        },
        {
          "name": "stdout",
          "output_type": "stream",
          "text": [
            "Crawl comment page 1 success!!!\n",
            "Crawl comment for product 173085730\n",
            "Crawl comment page 0 success!!!\n"
          ]
        },
        {
          "name": "stderr",
          "output_type": "stream",
          "text": [
            "\r 60%|█████▉    | 289/483 [05:19<02:40,  1.21it/s]"
          ]
        },
        {
          "name": "stdout",
          "output_type": "stream",
          "text": [
            "Crawl comment page 1 success!!!\n",
            "Crawl comment for product 47171635\n",
            "Crawl comment page 0 success!!!\n"
          ]
        },
        {
          "name": "stderr",
          "output_type": "stream",
          "text": [
            "\r 60%|██████    | 290/483 [05:20<03:16,  1.02s/it]"
          ]
        },
        {
          "name": "stdout",
          "output_type": "stream",
          "text": [
            "Crawl comment page 1 success!!!\n",
            "Crawl comment for product 215543302\n",
            "Crawl comment page 0 success!!!\n"
          ]
        },
        {
          "name": "stderr",
          "output_type": "stream",
          "text": [
            "\r 60%|██████    | 291/483 [05:21<03:20,  1.04s/it]"
          ]
        },
        {
          "name": "stdout",
          "output_type": "stream",
          "text": [
            "Crawl comment page 1 success!!!\n",
            "Crawl comment for product 71888497\n",
            "Crawl comment page 0 success!!!\n"
          ]
        },
        {
          "name": "stderr",
          "output_type": "stream",
          "text": [
            "\r 60%|██████    | 292/483 [05:22<03:12,  1.01s/it]"
          ]
        },
        {
          "name": "stdout",
          "output_type": "stream",
          "text": [
            "Crawl comment page 1 success!!!\n",
            "Crawl comment for product 41369724\n",
            "Crawl comment page 0 success!!!\n"
          ]
        },
        {
          "name": "stderr",
          "output_type": "stream",
          "text": [
            "\r 61%|██████    | 293/483 [05:23<03:03,  1.04it/s]"
          ]
        },
        {
          "name": "stdout",
          "output_type": "stream",
          "text": [
            "Crawl comment page 1 success!!!\n",
            "Crawl comment for product 192523772\n",
            "Crawl comment page 0 success!!!\n"
          ]
        },
        {
          "name": "stderr",
          "output_type": "stream",
          "text": [
            "\r 61%|██████    | 294/483 [05:24<02:52,  1.09it/s]"
          ]
        },
        {
          "name": "stdout",
          "output_type": "stream",
          "text": [
            "Crawl comment page 1 success!!!\n",
            "Crawl comment for product 139973216\n",
            "Crawl comment page 0 success!!!\n"
          ]
        },
        {
          "name": "stderr",
          "output_type": "stream",
          "text": [
            "\r 61%|██████    | 295/483 [05:25<03:23,  1.08s/it]"
          ]
        },
        {
          "name": "stdout",
          "output_type": "stream",
          "text": [
            "Crawl comment page 1 success!!!\n",
            "Crawl comment for product 75730188\n",
            "Crawl comment page 0 success!!!\n"
          ]
        },
        {
          "name": "stderr",
          "output_type": "stream",
          "text": [
            "\r 61%|██████▏   | 296/483 [05:26<03:10,  1.02s/it]"
          ]
        },
        {
          "name": "stdout",
          "output_type": "stream",
          "text": [
            "Crawl comment page 1 success!!!\n",
            "Crawl comment for product 75612281\n",
            "Crawl comment page 0 success!!!\n"
          ]
        },
        {
          "name": "stderr",
          "output_type": "stream",
          "text": [
            "\r 61%|██████▏   | 297/483 [05:27<02:55,  1.06it/s]"
          ]
        },
        {
          "name": "stdout",
          "output_type": "stream",
          "text": [
            "Crawl comment page 1 success!!!\n",
            "Crawl comment for product 203219969\n",
            "Crawl comment page 0 success!!!\n"
          ]
        },
        {
          "name": "stderr",
          "output_type": "stream",
          "text": [
            "\r 62%|██████▏   | 298/483 [05:28<02:50,  1.09it/s]"
          ]
        },
        {
          "name": "stdout",
          "output_type": "stream",
          "text": [
            "Crawl comment page 1 success!!!\n",
            "Crawl comment for product 183335921\n",
            "Crawl comment page 0 success!!!\n"
          ]
        },
        {
          "name": "stderr",
          "output_type": "stream",
          "text": [
            "\r 62%|██████▏   | 299/483 [05:30<03:56,  1.28s/it]"
          ]
        },
        {
          "name": "stdout",
          "output_type": "stream",
          "text": [
            "Crawl comment page 1 success!!!\n",
            "Crawl comment for product 7699062\n",
            "Crawl comment page 0 success!!!\n"
          ]
        },
        {
          "name": "stderr",
          "output_type": "stream",
          "text": [
            "\r 62%|██████▏   | 300/483 [05:31<03:39,  1.20s/it]"
          ]
        },
        {
          "name": "stdout",
          "output_type": "stream",
          "text": [
            "Crawl comment page 1 success!!!\n",
            "Crawl comment for product 147265074\n",
            "Crawl comment page 0 success!!!\n"
          ]
        },
        {
          "name": "stderr",
          "output_type": "stream",
          "text": [
            "\r 62%|██████▏   | 301/483 [05:33<04:17,  1.41s/it]"
          ]
        },
        {
          "name": "stdout",
          "output_type": "stream",
          "text": [
            "Crawl comment page 1 success!!!\n",
            "Crawl comment for product 271332358\n",
            "Crawl comment page 0 success!!!\n"
          ]
        },
        {
          "name": "stderr",
          "output_type": "stream",
          "text": [
            "\r 63%|██████▎   | 302/483 [05:34<03:56,  1.31s/it]"
          ]
        },
        {
          "name": "stdout",
          "output_type": "stream",
          "text": [
            "Crawl comment page 1 success!!!\n",
            "Crawl comment for product 54130086\n",
            "Crawl comment page 0 success!!!\n"
          ]
        },
        {
          "name": "stderr",
          "output_type": "stream",
          "text": [
            "\r 63%|██████▎   | 303/483 [05:36<04:17,  1.43s/it]"
          ]
        },
        {
          "name": "stdout",
          "output_type": "stream",
          "text": [
            "Crawl comment page 1 success!!!\n",
            "Crawl comment for product 74859074\n",
            "Crawl comment page 0 success!!!\n"
          ]
        },
        {
          "name": "stderr",
          "output_type": "stream",
          "text": [
            "\r 63%|██████▎   | 304/483 [05:38<04:39,  1.56s/it]"
          ]
        },
        {
          "name": "stdout",
          "output_type": "stream",
          "text": [
            "Crawl comment page 1 success!!!\n",
            "Crawl comment for product 22026615\n",
            "Crawl comment page 0 success!!!\n"
          ]
        },
        {
          "name": "stderr",
          "output_type": "stream",
          "text": [
            "\r 63%|██████▎   | 305/483 [05:39<04:07,  1.39s/it]"
          ]
        },
        {
          "name": "stdout",
          "output_type": "stream",
          "text": [
            "Crawl comment page 1 success!!!\n",
            "Crawl comment for product 272639442\n",
            "Crawl comment page 0 success!!!\n"
          ]
        },
        {
          "name": "stderr",
          "output_type": "stream",
          "text": [
            "\r 63%|██████▎   | 306/483 [05:39<03:35,  1.22s/it]"
          ]
        },
        {
          "name": "stdout",
          "output_type": "stream",
          "text": [
            "Crawl comment page 1 success!!!\n",
            "Crawl comment for product 54789405\n",
            "Crawl comment page 0 success!!!\n"
          ]
        },
        {
          "name": "stderr",
          "output_type": "stream",
          "text": [
            "\r 64%|██████▎   | 307/483 [05:40<03:19,  1.14s/it]"
          ]
        },
        {
          "name": "stdout",
          "output_type": "stream",
          "text": [
            "Crawl comment page 1 success!!!\n",
            "Crawl comment for product 108998775\n",
            "Crawl comment page 0 success!!!\n"
          ]
        },
        {
          "name": "stderr",
          "output_type": "stream",
          "text": [
            "\r 64%|██████▍   | 308/483 [05:42<03:39,  1.26s/it]"
          ]
        },
        {
          "name": "stdout",
          "output_type": "stream",
          "text": [
            "Crawl comment page 1 success!!!\n",
            "Crawl comment for product 32395267\n",
            "Crawl comment page 0 success!!!\n"
          ]
        },
        {
          "name": "stderr",
          "output_type": "stream",
          "text": [
            "\r 64%|██████▍   | 309/483 [05:44<04:21,  1.50s/it]"
          ]
        },
        {
          "name": "stdout",
          "output_type": "stream",
          "text": [
            "Crawl comment page 1 success!!!\n",
            "Crawl comment for product 7202329\n",
            "Crawl comment page 0 success!!!\n"
          ]
        },
        {
          "name": "stderr",
          "output_type": "stream",
          "text": [
            "\r 64%|██████▍   | 310/483 [05:45<03:44,  1.30s/it]"
          ]
        },
        {
          "name": "stdout",
          "output_type": "stream",
          "text": [
            "Crawl comment page 1 success!!!\n",
            "Crawl comment for product 4513771\n",
            "Crawl comment page 0 success!!!\n"
          ]
        },
        {
          "name": "stderr",
          "output_type": "stream",
          "text": [
            "\r 64%|██████▍   | 311/483 [05:46<03:20,  1.17s/it]"
          ]
        },
        {
          "name": "stdout",
          "output_type": "stream",
          "text": [
            "Crawl comment page 1 success!!!\n",
            "Crawl comment for product 272393491\n",
            "Crawl comment page 0 success!!!\n"
          ]
        },
        {
          "name": "stderr",
          "output_type": "stream",
          "text": [
            "\r 65%|██████▍   | 312/483 [05:46<02:53,  1.02s/it]"
          ]
        },
        {
          "name": "stdout",
          "output_type": "stream",
          "text": [
            "Crawl comment page 1 success!!!\n",
            "Crawl comment for product 193207962\n",
            "Crawl comment page 0 success!!!\n"
          ]
        },
        {
          "name": "stderr",
          "output_type": "stream",
          "text": [
            "\r 65%|██████▍   | 313/483 [05:47<02:40,  1.06it/s]"
          ]
        },
        {
          "name": "stdout",
          "output_type": "stream",
          "text": [
            "Crawl comment page 1 success!!!\n",
            "Crawl comment for product 27609461\n",
            "Crawl comment page 0 success!!!\n"
          ]
        },
        {
          "name": "stderr",
          "output_type": "stream",
          "text": [
            "\r 65%|██████▌   | 314/483 [05:48<02:41,  1.04it/s]"
          ]
        },
        {
          "name": "stdout",
          "output_type": "stream",
          "text": [
            "Crawl comment page 1 success!!!\n",
            "Crawl comment for product 60867693\n",
            "Crawl comment page 0 success!!!\n"
          ]
        },
        {
          "name": "stderr",
          "output_type": "stream",
          "text": [
            "\r 65%|██████▌   | 315/483 [05:49<02:44,  1.02it/s]"
          ]
        },
        {
          "name": "stdout",
          "output_type": "stream",
          "text": [
            "Crawl comment page 1 success!!!\n",
            "Crawl comment for product 81763153\n",
            "Crawl comment page 0 success!!!\n"
          ]
        },
        {
          "name": "stderr",
          "output_type": "stream",
          "text": [
            "\r 65%|██████▌   | 316/483 [05:50<02:29,  1.12it/s]"
          ]
        },
        {
          "name": "stdout",
          "output_type": "stream",
          "text": [
            "Crawl comment page 1 success!!!\n",
            "Crawl comment for product 77330041\n",
            "Crawl comment page 0 success!!!\n"
          ]
        },
        {
          "name": "stderr",
          "output_type": "stream",
          "text": [
            "\r 66%|██████▌   | 317/483 [05:51<02:42,  1.02it/s]"
          ]
        },
        {
          "name": "stdout",
          "output_type": "stream",
          "text": [
            "Crawl comment page 1 success!!!\n",
            "Crawl comment for product 146448766\n",
            "Crawl comment page 0 success!!!\n"
          ]
        },
        {
          "name": "stderr",
          "output_type": "stream",
          "text": [
            "\r 66%|██████▌   | 318/483 [05:52<02:59,  1.09s/it]"
          ]
        },
        {
          "name": "stdout",
          "output_type": "stream",
          "text": [
            "Crawl comment page 1 success!!!\n",
            "Crawl comment for product 186208082\n",
            "Crawl comment page 0 success!!!\n"
          ]
        },
        {
          "name": "stderr",
          "output_type": "stream",
          "text": [
            "\r 66%|██████▌   | 319/483 [05:53<02:39,  1.03it/s]"
          ]
        },
        {
          "name": "stdout",
          "output_type": "stream",
          "text": [
            "Crawl comment page 1 success!!!\n",
            "Crawl comment for product 35582503\n",
            "Crawl comment page 0 success!!!\n"
          ]
        },
        {
          "name": "stderr",
          "output_type": "stream",
          "text": [
            "\r 66%|██████▋   | 320/483 [05:54<02:38,  1.03it/s]"
          ]
        },
        {
          "name": "stdout",
          "output_type": "stream",
          "text": [
            "Crawl comment page 1 success!!!\n",
            "Crawl comment for product 264311574\n",
            "Crawl comment page 0 success!!!\n"
          ]
        },
        {
          "name": "stderr",
          "output_type": "stream",
          "text": [
            "\r 66%|██████▋   | 321/483 [05:55<02:28,  1.09it/s]"
          ]
        },
        {
          "name": "stdout",
          "output_type": "stream",
          "text": [
            "Crawl comment page 1 success!!!\n",
            "Crawl comment for product 181776612\n",
            "Crawl comment page 0 success!!!\n"
          ]
        },
        {
          "name": "stderr",
          "output_type": "stream",
          "text": [
            "\r 67%|██████▋   | 322/483 [05:56<02:26,  1.10it/s]"
          ]
        },
        {
          "name": "stdout",
          "output_type": "stream",
          "text": [
            "Crawl comment page 1 success!!!\n",
            "Crawl comment for product 74307765\n",
            "Crawl comment page 0 success!!!\n"
          ]
        },
        {
          "name": "stderr",
          "output_type": "stream",
          "text": [
            "\r 67%|██████▋   | 323/483 [05:57<02:31,  1.05it/s]"
          ]
        },
        {
          "name": "stdout",
          "output_type": "stream",
          "text": [
            "Crawl comment page 1 success!!!\n",
            "Crawl comment for product 271123700\n",
            "Crawl comment page 0 success!!!\n"
          ]
        },
        {
          "name": "stderr",
          "output_type": "stream",
          "text": [
            "\r 67%|██████▋   | 324/483 [05:57<02:18,  1.15it/s]"
          ]
        },
        {
          "name": "stdout",
          "output_type": "stream",
          "text": [
            "Crawl comment page 1 success!!!\n",
            "Crawl comment for product 67811819\n",
            "Crawl comment page 0 success!!!\n"
          ]
        },
        {
          "name": "stderr",
          "output_type": "stream",
          "text": [
            "\r 67%|██████▋   | 325/483 [05:58<02:17,  1.15it/s]"
          ]
        },
        {
          "name": "stdout",
          "output_type": "stream",
          "text": [
            "Crawl comment page 1 success!!!\n",
            "Crawl comment for product 110895947\n",
            "Crawl comment page 0 success!!!\n"
          ]
        },
        {
          "name": "stderr",
          "output_type": "stream",
          "text": [
            "\r 67%|██████▋   | 326/483 [06:00<03:18,  1.26s/it]"
          ]
        },
        {
          "name": "stdout",
          "output_type": "stream",
          "text": [
            "Crawl comment page 1 success!!!\n",
            "Crawl comment for product 59259444\n",
            "Crawl comment page 0 success!!!\n"
          ]
        },
        {
          "name": "stderr",
          "output_type": "stream",
          "text": [
            "\r 68%|██████▊   | 327/483 [06:02<03:39,  1.40s/it]"
          ]
        },
        {
          "name": "stdout",
          "output_type": "stream",
          "text": [
            "Crawl comment page 1 success!!!\n",
            "Crawl comment for product 192121064\n",
            "Crawl comment page 0 success!!!\n"
          ]
        },
        {
          "name": "stderr",
          "output_type": "stream",
          "text": [
            "\r 68%|██████▊   | 328/483 [06:03<03:10,  1.23s/it]"
          ]
        },
        {
          "name": "stdout",
          "output_type": "stream",
          "text": [
            "Crawl comment page 1 success!!!\n",
            "Crawl comment for product 264015994\n",
            "Crawl comment page 0 success!!!\n"
          ]
        },
        {
          "name": "stderr",
          "output_type": "stream",
          "text": [
            "\r 68%|██████▊   | 329/483 [06:05<03:25,  1.33s/it]"
          ]
        },
        {
          "name": "stdout",
          "output_type": "stream",
          "text": [
            "Crawl comment page 1 success!!!\n",
            "Crawl comment for product 155268931\n",
            "Crawl comment page 0 success!!!\n"
          ]
        },
        {
          "name": "stderr",
          "output_type": "stream",
          "text": [
            "\r 68%|██████▊   | 330/483 [06:05<02:59,  1.17s/it]"
          ]
        },
        {
          "name": "stdout",
          "output_type": "stream",
          "text": [
            "Crawl comment page 1 success!!!\n",
            "Crawl comment for product 146432055\n",
            "Crawl comment page 0 success!!!\n"
          ]
        },
        {
          "name": "stderr",
          "output_type": "stream",
          "text": [
            "\r 69%|██████▊   | 331/483 [06:06<02:47,  1.10s/it]"
          ]
        },
        {
          "name": "stdout",
          "output_type": "stream",
          "text": [
            "Crawl comment page 1 success!!!\n",
            "Crawl comment for product 59386141\n",
            "Crawl comment page 0 success!!!\n"
          ]
        },
        {
          "name": "stderr",
          "output_type": "stream",
          "text": [
            "\r 69%|██████▊   | 332/483 [06:07<02:36,  1.04s/it]"
          ]
        },
        {
          "name": "stdout",
          "output_type": "stream",
          "text": [
            "Crawl comment page 1 success!!!\n",
            "Crawl comment for product 88792564\n",
            "Crawl comment page 0 success!!!\n"
          ]
        },
        {
          "name": "stderr",
          "output_type": "stream",
          "text": [
            "\r 69%|██████▉   | 333/483 [06:08<02:24,  1.04it/s]"
          ]
        },
        {
          "name": "stdout",
          "output_type": "stream",
          "text": [
            "Crawl comment page 1 success!!!\n",
            "Crawl comment for product 273217518\n",
            "Crawl comment page 0 success!!!\n"
          ]
        },
        {
          "name": "stderr",
          "output_type": "stream",
          "text": [
            "\r 69%|██████▉   | 334/483 [06:09<02:11,  1.13it/s]"
          ]
        },
        {
          "name": "stdout",
          "output_type": "stream",
          "text": [
            "Crawl comment page 1 success!!!\n",
            "Crawl comment for product 16869707\n",
            "Crawl comment page 0 success!!!\n"
          ]
        },
        {
          "name": "stderr",
          "output_type": "stream",
          "text": [
            "\r 69%|██████▉   | 335/483 [06:10<02:30,  1.02s/it]"
          ]
        },
        {
          "name": "stdout",
          "output_type": "stream",
          "text": [
            "Crawl comment page 1 success!!!\n",
            "Crawl comment for product 186272724\n",
            "Crawl comment page 0 success!!!\n"
          ]
        },
        {
          "name": "stderr",
          "output_type": "stream",
          "text": [
            "\r 70%|██████▉   | 336/483 [06:11<02:15,  1.08it/s]"
          ]
        },
        {
          "name": "stdout",
          "output_type": "stream",
          "text": [
            "Crawl comment page 1 success!!!\n",
            "Crawl comment for product 52145747\n",
            "Crawl comment page 0 success!!!\n"
          ]
        },
        {
          "name": "stderr",
          "output_type": "stream",
          "text": [
            "\r 70%|██████▉   | 337/483 [06:12<02:12,  1.10it/s]"
          ]
        },
        {
          "name": "stdout",
          "output_type": "stream",
          "text": [
            "Crawl comment page 1 success!!!\n",
            "Crawl comment for product 271044803\n",
            "Crawl comment page 0 success!!!\n"
          ]
        },
        {
          "name": "stderr",
          "output_type": "stream",
          "text": [
            "\r 70%|██████▉   | 338/483 [06:12<02:01,  1.19it/s]"
          ]
        },
        {
          "name": "stdout",
          "output_type": "stream",
          "text": [
            "Crawl comment page 1 success!!!\n",
            "Crawl comment for product 68741500\n",
            "Crawl comment page 0 success!!!\n"
          ]
        },
        {
          "name": "stderr",
          "output_type": "stream",
          "text": [
            "\r 70%|███████   | 339/483 [06:13<01:59,  1.20it/s]"
          ]
        },
        {
          "name": "stdout",
          "output_type": "stream",
          "text": [
            "Crawl comment page 1 success!!!\n",
            "Crawl comment for product 212465483\n",
            "Crawl comment page 0 success!!!\n"
          ]
        },
        {
          "name": "stderr",
          "output_type": "stream",
          "text": [
            "\r 70%|███████   | 340/483 [06:14<01:53,  1.26it/s]"
          ]
        },
        {
          "name": "stdout",
          "output_type": "stream",
          "text": [
            "Crawl comment page 1 success!!!\n",
            "Crawl comment for product 111998312\n",
            "Crawl comment page 0 success!!!\n"
          ]
        },
        {
          "name": "stderr",
          "output_type": "stream",
          "text": [
            "\r 71%|███████   | 341/483 [06:14<01:47,  1.32it/s]"
          ]
        },
        {
          "name": "stdout",
          "output_type": "stream",
          "text": [
            "Crawl comment page 1 success!!!\n",
            "Crawl comment for product 225935212\n",
            "Crawl comment page 0 success!!!\n"
          ]
        },
        {
          "name": "stderr",
          "output_type": "stream",
          "text": [
            "\r 71%|███████   | 342/483 [06:15<01:43,  1.37it/s]"
          ]
        },
        {
          "name": "stdout",
          "output_type": "stream",
          "text": [
            "Crawl comment page 1 success!!!\n",
            "Crawl comment for product 106948794\n",
            "Crawl comment page 0 success!!!\n"
          ]
        },
        {
          "name": "stderr",
          "output_type": "stream",
          "text": [
            "\r 71%|███████   | 343/483 [06:17<02:25,  1.04s/it]"
          ]
        },
        {
          "name": "stdout",
          "output_type": "stream",
          "text": [
            "Crawl comment page 1 success!!!\n",
            "Crawl comment for product 249868377\n",
            "Crawl comment page 0 success!!!\n"
          ]
        },
        {
          "name": "stderr",
          "output_type": "stream",
          "text": [
            "\r 71%|███████   | 344/483 [06:18<02:14,  1.03it/s]"
          ]
        },
        {
          "name": "stdout",
          "output_type": "stream",
          "text": [
            "Crawl comment page 1 success!!!\n",
            "Crawl comment for product 76122563\n",
            "Crawl comment page 0 success!!!\n"
          ]
        },
        {
          "name": "stderr",
          "output_type": "stream",
          "text": [
            "\r 71%|███████▏  | 345/483 [06:19<02:13,  1.03it/s]"
          ]
        },
        {
          "name": "stdout",
          "output_type": "stream",
          "text": [
            "Crawl comment page 1 success!!!\n",
            "Crawl comment for product 191504379\n",
            "Crawl comment page 0 success!!!\n"
          ]
        },
        {
          "name": "stderr",
          "output_type": "stream",
          "text": [
            "\r 72%|███████▏  | 346/483 [06:19<02:04,  1.10it/s]"
          ]
        },
        {
          "name": "stdout",
          "output_type": "stream",
          "text": [
            "Crawl comment page 1 success!!!\n",
            "Crawl comment for product 119025800\n",
            "Crawl comment page 0 success!!!\n"
          ]
        },
        {
          "name": "stderr",
          "output_type": "stream",
          "text": [
            "\r 72%|███████▏  | 347/483 [06:20<02:02,  1.11it/s]"
          ]
        },
        {
          "name": "stdout",
          "output_type": "stream",
          "text": [
            "Crawl comment page 1 success!!!\n",
            "Crawl comment for product 686902\n",
            "Crawl comment page 0 success!!!\n"
          ]
        },
        {
          "name": "stderr",
          "output_type": "stream",
          "text": [
            "\r 72%|███████▏  | 348/483 [06:21<01:58,  1.13it/s]"
          ]
        },
        {
          "name": "stdout",
          "output_type": "stream",
          "text": [
            "Crawl comment page 1 success!!!\n",
            "Crawl comment for product 17012777\n",
            "Crawl comment page 0 success!!!\n"
          ]
        },
        {
          "name": "stderr",
          "output_type": "stream",
          "text": [
            "\r 72%|███████▏  | 349/483 [06:22<01:57,  1.14it/s]"
          ]
        },
        {
          "name": "stdout",
          "output_type": "stream",
          "text": [
            "Crawl comment page 1 success!!!\n",
            "Crawl comment for product 160310658\n",
            "Crawl comment page 0 success!!!\n"
          ]
        },
        {
          "name": "stderr",
          "output_type": "stream",
          "text": [
            "\r 72%|███████▏  | 350/483 [06:23<02:15,  1.02s/it]"
          ]
        },
        {
          "name": "stdout",
          "output_type": "stream",
          "text": [
            "Crawl comment page 1 success!!!\n",
            "Crawl comment for product 141393457\n",
            "Crawl comment page 0 success!!!\n"
          ]
        },
        {
          "name": "stderr",
          "output_type": "stream",
          "text": [
            "\r 73%|███████▎  | 351/483 [06:24<02:13,  1.01s/it]"
          ]
        },
        {
          "name": "stdout",
          "output_type": "stream",
          "text": [
            "Crawl comment page 1 success!!!\n",
            "Crawl comment for product 216213220\n",
            "Crawl comment page 0 success!!!\n"
          ]
        },
        {
          "name": "stderr",
          "output_type": "stream",
          "text": [
            "\r 73%|███████▎  | 352/483 [06:25<02:00,  1.08it/s]"
          ]
        },
        {
          "name": "stdout",
          "output_type": "stream",
          "text": [
            "Crawl comment page 1 success!!!\n",
            "Crawl comment for product 7449007\n",
            "Crawl comment page 0 success!!!\n"
          ]
        },
        {
          "name": "stderr",
          "output_type": "stream",
          "text": [
            "\r 73%|███████▎  | 353/483 [06:26<01:57,  1.11it/s]"
          ]
        },
        {
          "name": "stdout",
          "output_type": "stream",
          "text": [
            "Crawl comment page 1 success!!!\n",
            "Crawl comment for product 48161458\n",
            "Crawl comment page 0 success!!!\n"
          ]
        },
        {
          "name": "stderr",
          "output_type": "stream",
          "text": [
            "\r 73%|███████▎  | 354/483 [06:27<02:03,  1.04it/s]"
          ]
        },
        {
          "name": "stdout",
          "output_type": "stream",
          "text": [
            "Crawl comment page 1 success!!!\n",
            "Crawl comment for product 14886261\n",
            "Crawl comment page 0 success!!!\n"
          ]
        },
        {
          "name": "stderr",
          "output_type": "stream",
          "text": [
            "\r 73%|███████▎  | 355/483 [06:29<02:24,  1.13s/it]"
          ]
        },
        {
          "name": "stdout",
          "output_type": "stream",
          "text": [
            "Crawl comment page 1 success!!!\n",
            "Crawl comment for product 271044598\n",
            "Crawl comment page 0 success!!!\n"
          ]
        },
        {
          "name": "stderr",
          "output_type": "stream",
          "text": [
            "\r 74%|███████▎  | 356/483 [06:29<02:09,  1.02s/it]"
          ]
        },
        {
          "name": "stdout",
          "output_type": "stream",
          "text": [
            "Crawl comment page 1 success!!!\n",
            "Crawl comment for product 41345863\n",
            "Crawl comment page 0 success!!!\n"
          ]
        },
        {
          "name": "stderr",
          "output_type": "stream",
          "text": [
            "\r 74%|███████▍  | 357/483 [06:30<02:04,  1.01it/s]"
          ]
        },
        {
          "name": "stdout",
          "output_type": "stream",
          "text": [
            "Crawl comment page 1 success!!!\n",
            "Crawl comment for product 173206717\n",
            "Crawl comment page 0 success!!!\n"
          ]
        },
        {
          "name": "stderr",
          "output_type": "stream",
          "text": [
            "\r 74%|███████▍  | 358/483 [06:31<01:52,  1.11it/s]"
          ]
        },
        {
          "name": "stdout",
          "output_type": "stream",
          "text": [
            "Crawl comment page 1 success!!!\n",
            "Crawl comment for product 107961495\n",
            "Crawl comment page 0 success!!!\n"
          ]
        },
        {
          "name": "stderr",
          "output_type": "stream",
          "text": [
            "\r 74%|███████▍  | 359/483 [06:32<01:52,  1.10it/s]"
          ]
        },
        {
          "name": "stdout",
          "output_type": "stream",
          "text": [
            "Crawl comment page 1 success!!!\n",
            "Crawl comment for product 106563599\n",
            "Crawl comment page 0 success!!!\n"
          ]
        },
        {
          "name": "stderr",
          "output_type": "stream",
          "text": [
            "\r 75%|███████▍  | 360/483 [06:33<02:03,  1.00s/it]"
          ]
        },
        {
          "name": "stdout",
          "output_type": "stream",
          "text": [
            "Crawl comment page 1 success!!!\n",
            "Crawl comment for product 272306509\n",
            "Crawl comment page 0 success!!!\n"
          ]
        },
        {
          "name": "stderr",
          "output_type": "stream",
          "text": [
            "\r 75%|███████▍  | 361/483 [06:34<01:55,  1.06it/s]"
          ]
        },
        {
          "name": "stdout",
          "output_type": "stream",
          "text": [
            "Crawl comment page 1 success!!!\n",
            "Crawl comment for product 185949624\n",
            "Crawl comment page 0 success!!!\n"
          ]
        },
        {
          "name": "stderr",
          "output_type": "stream",
          "text": [
            "\r 75%|███████▍  | 362/483 [06:35<01:49,  1.11it/s]"
          ]
        },
        {
          "name": "stdout",
          "output_type": "stream",
          "text": [
            "Crawl comment page 1 success!!!\n",
            "Crawl comment for product 73873533\n",
            "Crawl comment page 0 success!!!\n"
          ]
        },
        {
          "name": "stderr",
          "output_type": "stream",
          "text": [
            "\r 75%|███████▌  | 363/483 [06:35<01:44,  1.15it/s]"
          ]
        },
        {
          "name": "stdout",
          "output_type": "stream",
          "text": [
            "Crawl comment page 1 success!!!\n",
            "Crawl comment for product 192120961\n",
            "Crawl comment page 0 success!!!\n"
          ]
        },
        {
          "name": "stderr",
          "output_type": "stream",
          "text": [
            "\r 75%|███████▌  | 364/483 [06:36<01:47,  1.11it/s]"
          ]
        },
        {
          "name": "stdout",
          "output_type": "stream",
          "text": [
            "Crawl comment page 1 success!!!\n",
            "Crawl comment for product 271887126\n",
            "Crawl comment page 0 success!!!\n"
          ]
        },
        {
          "name": "stderr",
          "output_type": "stream",
          "text": [
            "\r 76%|███████▌  | 365/483 [06:37<01:38,  1.20it/s]"
          ]
        },
        {
          "name": "stdout",
          "output_type": "stream",
          "text": [
            "Crawl comment page 1 success!!!\n",
            "Crawl comment for product 116598902\n",
            "Crawl comment page 0 success!!!\n"
          ]
        },
        {
          "name": "stderr",
          "output_type": "stream",
          "text": [
            "\r 76%|███████▌  | 366/483 [06:38<01:51,  1.05it/s]"
          ]
        },
        {
          "name": "stdout",
          "output_type": "stream",
          "text": [
            "Crawl comment page 1 success!!!\n",
            "Crawl comment for product 117370665\n",
            "Crawl comment page 0 success!!!\n"
          ]
        },
        {
          "name": "stderr",
          "output_type": "stream",
          "text": [
            "\r 76%|███████▌  | 367/483 [06:40<01:57,  1.01s/it]"
          ]
        },
        {
          "name": "stdout",
          "output_type": "stream",
          "text": [
            "Crawl comment page 1 success!!!\n",
            "Crawl comment for product 89992214\n",
            "Crawl comment page 0 success!!!\n"
          ]
        },
        {
          "name": "stderr",
          "output_type": "stream",
          "text": [
            "\r 76%|███████▌  | 368/483 [06:40<01:51,  1.03it/s]"
          ]
        },
        {
          "name": "stdout",
          "output_type": "stream",
          "text": [
            "Crawl comment page 1 success!!!\n",
            "Crawl comment for product 190791221\n",
            "Crawl comment page 0 success!!!\n"
          ]
        },
        {
          "name": "stderr",
          "output_type": "stream",
          "text": [
            "\r 76%|███████▋  | 369/483 [06:41<01:49,  1.04it/s]"
          ]
        },
        {
          "name": "stdout",
          "output_type": "stream",
          "text": [
            "Crawl comment page 1 success!!!\n",
            "Crawl comment for product 131397027\n",
            "Crawl comment page 0 success!!!\n"
          ]
        },
        {
          "name": "stderr",
          "output_type": "stream",
          "text": [
            "\r 77%|███████▋  | 370/483 [06:42<01:48,  1.04it/s]"
          ]
        },
        {
          "name": "stdout",
          "output_type": "stream",
          "text": [
            "Crawl comment page 1 success!!!\n",
            "Crawl comment for product 86376338\n",
            "Crawl comment page 0 success!!!\n"
          ]
        },
        {
          "name": "stderr",
          "output_type": "stream",
          "text": [
            "\r 77%|███████▋  | 371/483 [06:44<02:09,  1.16s/it]"
          ]
        },
        {
          "name": "stdout",
          "output_type": "stream",
          "text": [
            "Crawl comment page 1 success!!!\n",
            "Crawl comment for product 247238605\n",
            "Crawl comment page 0 success!!!\n"
          ]
        },
        {
          "name": "stderr",
          "output_type": "stream",
          "text": [
            "\r 77%|███████▋  | 372/483 [06:45<01:57,  1.06s/it]"
          ]
        },
        {
          "name": "stdout",
          "output_type": "stream",
          "text": [
            "Crawl comment page 1 success!!!\n",
            "Crawl comment for product 53518638\n",
            "Crawl comment page 0 success!!!\n"
          ]
        },
        {
          "name": "stderr",
          "output_type": "stream",
          "text": [
            "\r 77%|███████▋  | 373/483 [06:46<01:53,  1.03s/it]"
          ]
        },
        {
          "name": "stdout",
          "output_type": "stream",
          "text": [
            "Crawl comment page 1 success!!!\n",
            "Crawl comment for product 247061239\n",
            "Crawl comment page 0 success!!!\n"
          ]
        },
        {
          "name": "stderr",
          "output_type": "stream",
          "text": [
            "\r 77%|███████▋  | 374/483 [06:47<01:46,  1.02it/s]"
          ]
        },
        {
          "name": "stdout",
          "output_type": "stream",
          "text": [
            "Crawl comment page 1 success!!!\n",
            "Crawl comment for product 83614649\n",
            "Crawl comment page 0 success!!!\n"
          ]
        },
        {
          "name": "stderr",
          "output_type": "stream",
          "text": [
            "\r 78%|███████▊  | 375/483 [06:47<01:39,  1.08it/s]"
          ]
        },
        {
          "name": "stdout",
          "output_type": "stream",
          "text": [
            "Crawl comment page 1 success!!!\n",
            "Crawl comment for product 74396976\n",
            "Crawl comment page 0 success!!!\n"
          ]
        },
        {
          "name": "stderr",
          "output_type": "stream",
          "text": [
            "\r 78%|███████▊  | 376/483 [06:50<02:18,  1.30s/it]"
          ]
        },
        {
          "name": "stdout",
          "output_type": "stream",
          "text": [
            "Crawl comment page 1 success!!!\n",
            "Crawl comment for product 32328782\n",
            "Crawl comment page 0 success!!!\n"
          ]
        },
        {
          "name": "stderr",
          "output_type": "stream",
          "text": [
            "\r 78%|███████▊  | 377/483 [06:51<02:11,  1.24s/it]"
          ]
        },
        {
          "name": "stdout",
          "output_type": "stream",
          "text": [
            "Crawl comment page 1 success!!!\n",
            "Crawl comment for product 198295325\n",
            "Crawl comment page 0 success!!!\n"
          ]
        },
        {
          "name": "stderr",
          "output_type": "stream",
          "text": [
            "\r 78%|███████▊  | 378/483 [06:51<01:56,  1.11s/it]"
          ]
        },
        {
          "name": "stdout",
          "output_type": "stream",
          "text": [
            "Crawl comment page 1 success!!!\n",
            "Crawl comment for product 14640240\n",
            "Crawl comment page 0 success!!!\n"
          ]
        },
        {
          "name": "stderr",
          "output_type": "stream",
          "text": [
            "\r 78%|███████▊  | 379/483 [06:53<01:58,  1.14s/it]"
          ]
        },
        {
          "name": "stdout",
          "output_type": "stream",
          "text": [
            "Crawl comment page 1 success!!!\n",
            "Crawl comment for product 35058677\n",
            "Crawl comment page 0 success!!!\n"
          ]
        },
        {
          "name": "stderr",
          "output_type": "stream",
          "text": [
            "\r 79%|███████▊  | 380/483 [06:54<01:53,  1.10s/it]"
          ]
        },
        {
          "name": "stdout",
          "output_type": "stream",
          "text": [
            "Crawl comment page 1 success!!!\n",
            "Crawl comment for product 214009755\n",
            "Crawl comment page 0 success!!!\n"
          ]
        },
        {
          "name": "stderr",
          "output_type": "stream",
          "text": [
            "\r 79%|███████▉  | 381/483 [06:54<01:39,  1.03it/s]"
          ]
        },
        {
          "name": "stdout",
          "output_type": "stream",
          "text": [
            "Crawl comment page 1 success!!!\n",
            "Crawl comment for product 1453915\n",
            "Crawl comment page 0 success!!!\n"
          ]
        },
        {
          "name": "stderr",
          "output_type": "stream",
          "text": [
            "\r 79%|███████▉  | 382/483 [06:56<02:00,  1.19s/it]"
          ]
        },
        {
          "name": "stdout",
          "output_type": "stream",
          "text": [
            "Crawl comment page 1 success!!!\n",
            "Crawl comment for product 208413993\n",
            "Crawl comment page 0 success!!!\n"
          ]
        },
        {
          "name": "stderr",
          "output_type": "stream",
          "text": [
            "\r 79%|███████▉  | 383/483 [06:57<01:56,  1.16s/it]"
          ]
        },
        {
          "name": "stdout",
          "output_type": "stream",
          "text": [
            "Crawl comment page 1 success!!!\n",
            "Crawl comment for product 63051860\n",
            "Crawl comment page 0 success!!!\n"
          ]
        },
        {
          "name": "stderr",
          "output_type": "stream",
          "text": [
            "\r 80%|███████▉  | 384/483 [06:58<01:58,  1.20s/it]"
          ]
        },
        {
          "name": "stdout",
          "output_type": "stream",
          "text": [
            "Crawl comment page 1 success!!!\n",
            "Crawl comment for product 12736380\n",
            "Crawl comment page 0 success!!!\n"
          ]
        },
        {
          "name": "stderr",
          "output_type": "stream",
          "text": [
            "\r 80%|███████▉  | 385/483 [06:59<01:48,  1.11s/it]"
          ]
        },
        {
          "name": "stdout",
          "output_type": "stream",
          "text": [
            "Crawl comment page 1 success!!!\n",
            "Crawl comment for product 101894776\n",
            "Crawl comment page 0 success!!!\n"
          ]
        },
        {
          "name": "stderr",
          "output_type": "stream",
          "text": [
            "\r 80%|███████▉  | 386/483 [07:00<01:47,  1.10s/it]"
          ]
        },
        {
          "name": "stdout",
          "output_type": "stream",
          "text": [
            "Crawl comment page 1 success!!!\n",
            "Crawl comment for product 115673330\n",
            "Crawl comment page 0 success!!!\n"
          ]
        },
        {
          "name": "stderr",
          "output_type": "stream",
          "text": [
            "\r 80%|████████  | 387/483 [07:01<01:38,  1.03s/it]"
          ]
        },
        {
          "name": "stdout",
          "output_type": "stream",
          "text": [
            "Crawl comment page 1 success!!!\n",
            "Crawl comment for product 211924790\n",
            "Crawl comment page 0 success!!!\n"
          ]
        },
        {
          "name": "stderr",
          "output_type": "stream",
          "text": [
            "\r 80%|████████  | 388/483 [07:04<02:15,  1.42s/it]"
          ]
        },
        {
          "name": "stdout",
          "output_type": "stream",
          "text": [
            "Crawl comment page 1 success!!!\n",
            "Crawl comment for product 57999394\n",
            "Crawl comment page 0 success!!!\n"
          ]
        },
        {
          "name": "stderr",
          "output_type": "stream",
          "text": [
            "\r 81%|████████  | 389/483 [07:05<02:02,  1.31s/it]"
          ]
        },
        {
          "name": "stdout",
          "output_type": "stream",
          "text": [
            "Crawl comment page 1 success!!!\n",
            "Crawl comment for product 185438523\n",
            "Crawl comment page 0 success!!!\n"
          ]
        },
        {
          "name": "stderr",
          "output_type": "stream",
          "text": [
            "\r 81%|████████  | 390/483 [07:06<02:16,  1.47s/it]"
          ]
        },
        {
          "name": "stdout",
          "output_type": "stream",
          "text": [
            "Crawl comment page 1 success!!!\n",
            "Crawl comment for product 213491032\n",
            "Crawl comment page 0 success!!!\n"
          ]
        },
        {
          "name": "stderr",
          "output_type": "stream",
          "text": [
            "\r 81%|████████  | 391/483 [07:08<02:25,  1.58s/it]"
          ]
        },
        {
          "name": "stdout",
          "output_type": "stream",
          "text": [
            "Crawl comment page 1 success!!!\n",
            "Crawl comment for product 68716601\n",
            "Crawl comment page 0 success!!!\n"
          ]
        },
        {
          "name": "stderr",
          "output_type": "stream",
          "text": [
            "\r 81%|████████  | 392/483 [07:09<02:04,  1.36s/it]"
          ]
        },
        {
          "name": "stdout",
          "output_type": "stream",
          "text": [
            "Crawl comment page 1 success!!!\n",
            "Crawl comment for product 15785127\n",
            "Crawl comment page 0 success!!!\n"
          ]
        },
        {
          "name": "stderr",
          "output_type": "stream",
          "text": [
            "\r 81%|████████▏ | 393/483 [07:10<01:50,  1.23s/it]"
          ]
        },
        {
          "name": "stdout",
          "output_type": "stream",
          "text": [
            "Crawl comment page 1 success!!!\n",
            "Crawl comment for product 153467342\n",
            "Crawl comment page 0 success!!!\n"
          ]
        },
        {
          "name": "stderr",
          "output_type": "stream",
          "text": [
            "\r 82%|████████▏ | 394/483 [07:11<01:43,  1.16s/it]"
          ]
        },
        {
          "name": "stdout",
          "output_type": "stream",
          "text": [
            "Crawl comment page 1 success!!!\n",
            "Crawl comment for product 3258989\n",
            "Crawl comment page 0 success!!!\n"
          ]
        },
        {
          "name": "stderr",
          "output_type": "stream",
          "text": [
            "\r 82%|████████▏ | 395/483 [07:13<01:54,  1.30s/it]"
          ]
        },
        {
          "name": "stdout",
          "output_type": "stream",
          "text": [
            "Crawl comment page 1 success!!!\n",
            "Crawl comment for product 246167977\n",
            "Crawl comment page 0 success!!!\n"
          ]
        },
        {
          "name": "stderr",
          "output_type": "stream",
          "text": [
            "\r 82%|████████▏ | 396/483 [07:15<02:09,  1.49s/it]"
          ]
        },
        {
          "name": "stdout",
          "output_type": "stream",
          "text": [
            "Crawl comment page 1 success!!!\n",
            "Crawl comment for product 72652196\n",
            "Crawl comment page 0 success!!!\n"
          ]
        },
        {
          "name": "stderr",
          "output_type": "stream",
          "text": [
            "\r 82%|████████▏ | 397/483 [07:16<01:58,  1.38s/it]"
          ]
        },
        {
          "name": "stdout",
          "output_type": "stream",
          "text": [
            "Crawl comment page 1 success!!!\n",
            "Crawl comment for product 217474640\n",
            "Crawl comment page 0 success!!!\n"
          ]
        },
        {
          "name": "stderr",
          "output_type": "stream",
          "text": [
            "\r 82%|████████▏ | 398/483 [07:17<01:43,  1.22s/it]"
          ]
        },
        {
          "name": "stdout",
          "output_type": "stream",
          "text": [
            "Crawl comment page 1 success!!!\n",
            "Crawl comment for product 270862516\n",
            "Crawl comment page 0 success!!!\n"
          ]
        },
        {
          "name": "stderr",
          "output_type": "stream",
          "text": [
            "\r 83%|████████▎ | 399/483 [07:18<01:45,  1.26s/it]"
          ]
        },
        {
          "name": "stdout",
          "output_type": "stream",
          "text": [
            "Crawl comment page 1 success!!!\n",
            "Crawl comment for product 208411197\n",
            "Crawl comment page 0 success!!!\n"
          ]
        },
        {
          "name": "stderr",
          "output_type": "stream",
          "text": [
            "\r 83%|████████▎ | 400/483 [07:19<01:39,  1.19s/it]"
          ]
        },
        {
          "name": "stdout",
          "output_type": "stream",
          "text": [
            "Crawl comment page 1 success!!!\n",
            "Crawl comment for product 52089269\n",
            "Crawl comment page 0 success!!!\n"
          ]
        },
        {
          "name": "stderr",
          "output_type": "stream",
          "text": [
            "\r 83%|████████▎ | 401/483 [07:20<01:35,  1.16s/it]"
          ]
        },
        {
          "name": "stdout",
          "output_type": "stream",
          "text": [
            "Crawl comment page 1 success!!!\n",
            "Crawl comment for product 576018\n",
            "Crawl comment page 0 success!!!\n"
          ]
        },
        {
          "name": "stderr",
          "output_type": "stream",
          "text": [
            "\r 83%|████████▎ | 402/483 [07:21<01:34,  1.17s/it]"
          ]
        },
        {
          "name": "stdout",
          "output_type": "stream",
          "text": [
            "Crawl comment page 1 success!!!\n",
            "Crawl comment for product 208273199\n",
            "Crawl comment page 0 success!!!\n"
          ]
        },
        {
          "name": "stderr",
          "output_type": "stream",
          "text": [
            "\r 83%|████████▎ | 403/483 [07:22<01:24,  1.06s/it]"
          ]
        },
        {
          "name": "stdout",
          "output_type": "stream",
          "text": [
            "Crawl comment page 1 success!!!\n",
            "Crawl comment for product 157537059\n",
            "Crawl comment page 0 success!!!\n"
          ]
        },
        {
          "name": "stderr",
          "output_type": "stream",
          "text": [
            "\r 84%|████████▎ | 404/483 [07:24<01:33,  1.18s/it]"
          ]
        },
        {
          "name": "stdout",
          "output_type": "stream",
          "text": [
            "Crawl comment page 1 success!!!\n",
            "Crawl comment for product 16363204\n",
            "Crawl comment page 0 success!!!\n"
          ]
        },
        {
          "name": "stderr",
          "output_type": "stream",
          "text": [
            "\r 84%|████████▍ | 405/483 [07:24<01:24,  1.08s/it]"
          ]
        },
        {
          "name": "stdout",
          "output_type": "stream",
          "text": [
            "Crawl comment page 1 success!!!\n",
            "Crawl comment for product 25421029\n",
            "Crawl comment page 0 success!!!\n"
          ]
        },
        {
          "name": "stderr",
          "output_type": "stream",
          "text": [
            "\r 84%|████████▍ | 406/483 [07:25<01:17,  1.01s/it]"
          ]
        },
        {
          "name": "stdout",
          "output_type": "stream",
          "text": [
            "Crawl comment page 1 success!!!\n",
            "Crawl comment for product 203898025\n",
            "Crawl comment page 0 success!!!\n"
          ]
        },
        {
          "name": "stderr",
          "output_type": "stream",
          "text": [
            "\r 84%|████████▍ | 407/483 [07:26<01:11,  1.07it/s]"
          ]
        },
        {
          "name": "stdout",
          "output_type": "stream",
          "text": [
            "Crawl comment page 1 success!!!\n",
            "Crawl comment for product 201566005\n",
            "Crawl comment page 0 success!!!\n"
          ]
        },
        {
          "name": "stderr",
          "output_type": "stream",
          "text": [
            "\r 84%|████████▍ | 408/483 [07:27<01:08,  1.10it/s]"
          ]
        },
        {
          "name": "stdout",
          "output_type": "stream",
          "text": [
            "Crawl comment page 1 success!!!\n",
            "Crawl comment for product 271075554\n",
            "Crawl comment page 0 success!!!\n"
          ]
        },
        {
          "name": "stderr",
          "output_type": "stream",
          "text": [
            "\r 85%|████████▍ | 409/483 [07:28<01:07,  1.10it/s]"
          ]
        },
        {
          "name": "stdout",
          "output_type": "stream",
          "text": [
            "Crawl comment page 1 success!!!\n",
            "Crawl comment for product 196568810\n",
            "Crawl comment page 0 success!!!\n"
          ]
        },
        {
          "name": "stderr",
          "output_type": "stream",
          "text": [
            "\r 85%|████████▍ | 410/483 [07:29<01:06,  1.09it/s]"
          ]
        },
        {
          "name": "stdout",
          "output_type": "stream",
          "text": [
            "Crawl comment page 1 success!!!\n",
            "Crawl comment for product 182432982\n",
            "Crawl comment page 0 success!!!\n"
          ]
        },
        {
          "name": "stderr",
          "output_type": "stream",
          "text": [
            "\r 85%|████████▌ | 411/483 [07:30<01:04,  1.12it/s]"
          ]
        },
        {
          "name": "stdout",
          "output_type": "stream",
          "text": [
            "Crawl comment page 1 success!!!\n",
            "Crawl comment for product 105217863\n",
            "Crawl comment page 0 success!!!\n"
          ]
        },
        {
          "name": "stderr",
          "output_type": "stream",
          "text": [
            "\r 85%|████████▌ | 412/483 [07:30<01:02,  1.13it/s]"
          ]
        },
        {
          "name": "stdout",
          "output_type": "stream",
          "text": [
            "Crawl comment page 1 success!!!\n",
            "Crawl comment for product 55875210\n",
            "Crawl comment page 0 success!!!\n"
          ]
        },
        {
          "name": "stderr",
          "output_type": "stream",
          "text": [
            "\r 86%|████████▌ | 413/483 [07:32<01:10,  1.00s/it]"
          ]
        },
        {
          "name": "stdout",
          "output_type": "stream",
          "text": [
            "Crawl comment page 1 success!!!\n",
            "Crawl comment for product 31206755\n",
            "Crawl comment page 0 success!!!\n"
          ]
        },
        {
          "name": "stderr",
          "output_type": "stream",
          "text": [
            "\r 86%|████████▌ | 414/483 [07:33<01:08,  1.00it/s]"
          ]
        },
        {
          "name": "stdout",
          "output_type": "stream",
          "text": [
            "Crawl comment page 1 success!!!\n",
            "Crawl comment for product 122939123\n",
            "Crawl comment page 0 success!!!\n"
          ]
        },
        {
          "name": "stderr",
          "output_type": "stream",
          "text": [
            "\r 86%|████████▌ | 415/483 [07:34<01:09,  1.02s/it]"
          ]
        },
        {
          "name": "stdout",
          "output_type": "stream",
          "text": [
            "Crawl comment page 1 success!!!\n",
            "Crawl comment for product 272941567\n",
            "Crawl comment page 0 success!!!\n"
          ]
        },
        {
          "name": "stderr",
          "output_type": "stream",
          "text": [
            "\r 86%|████████▌ | 416/483 [07:36<01:24,  1.26s/it]"
          ]
        },
        {
          "name": "stdout",
          "output_type": "stream",
          "text": [
            "Crawl comment page 1 success!!!\n",
            "Crawl comment for product 197849955\n",
            "Crawl comment page 0 success!!!\n"
          ]
        },
        {
          "name": "stderr",
          "output_type": "stream",
          "text": [
            "\r 86%|████████▋ | 417/483 [07:37<01:31,  1.39s/it]"
          ]
        },
        {
          "name": "stdout",
          "output_type": "stream",
          "text": [
            "Crawl comment page 1 success!!!\n",
            "Crawl comment for product 92453371\n",
            "Crawl comment page 0 success!!!\n"
          ]
        },
        {
          "name": "stderr",
          "output_type": "stream",
          "text": [
            "\r 87%|████████▋ | 418/483 [07:39<01:36,  1.48s/it]"
          ]
        },
        {
          "name": "stdout",
          "output_type": "stream",
          "text": [
            "Crawl comment page 1 success!!!\n",
            "Crawl comment for product 264306017\n",
            "Crawl comment page 0 success!!!\n"
          ]
        },
        {
          "name": "stderr",
          "output_type": "stream",
          "text": [
            "\r 87%|████████▋ | 419/483 [07:40<01:20,  1.26s/it]"
          ]
        },
        {
          "name": "stdout",
          "output_type": "stream",
          "text": [
            "Crawl comment page 1 success!!!\n",
            "Crawl comment for product 273078505\n",
            "Crawl comment page 0 success!!!\n"
          ]
        },
        {
          "name": "stderr",
          "output_type": "stream",
          "text": [
            "\r 87%|████████▋ | 420/483 [07:40<01:08,  1.09s/it]"
          ]
        },
        {
          "name": "stdout",
          "output_type": "stream",
          "text": [
            "Crawl comment page 1 success!!!\n",
            "Crawl comment for product 181410158\n",
            "Crawl comment page 0 success!!!\n"
          ]
        },
        {
          "name": "stderr",
          "output_type": "stream",
          "text": [
            "\r 87%|████████▋ | 421/483 [07:41<01:02,  1.01s/it]"
          ]
        },
        {
          "name": "stdout",
          "output_type": "stream",
          "text": [
            "Crawl comment page 1 success!!!\n",
            "Crawl comment for product 178068438\n",
            "Crawl comment page 0 success!!!\n"
          ]
        },
        {
          "name": "stderr",
          "output_type": "stream",
          "text": [
            "\r 87%|████████▋ | 422/483 [07:43<01:24,  1.39s/it]"
          ]
        },
        {
          "name": "stdout",
          "output_type": "stream",
          "text": [
            "Crawl comment page 1 success!!!\n",
            "Crawl comment for product 191918105\n",
            "Crawl comment page 0 success!!!\n"
          ]
        },
        {
          "name": "stderr",
          "output_type": "stream",
          "text": [
            "\r 88%|████████▊ | 423/483 [07:44<01:16,  1.27s/it]"
          ]
        },
        {
          "name": "stdout",
          "output_type": "stream",
          "text": [
            "Crawl comment page 1 success!!!\n",
            "Crawl comment for product 73636715\n",
            "Crawl comment page 0 success!!!\n"
          ]
        },
        {
          "name": "stderr",
          "output_type": "stream",
          "text": [
            "\r 88%|████████▊ | 424/483 [07:45<01:06,  1.12s/it]"
          ]
        },
        {
          "name": "stdout",
          "output_type": "stream",
          "text": [
            "Crawl comment page 1 success!!!\n",
            "Crawl comment for product 72797082\n",
            "Crawl comment page 0 success!!!\n"
          ]
        },
        {
          "name": "stderr",
          "output_type": "stream",
          "text": [
            "\r 88%|████████▊ | 425/483 [07:46<01:00,  1.04s/it]"
          ]
        },
        {
          "name": "stdout",
          "output_type": "stream",
          "text": [
            "Crawl comment page 1 success!!!\n",
            "Crawl comment for product 47108061\n",
            "Crawl comment page 0 success!!!\n"
          ]
        },
        {
          "name": "stderr",
          "output_type": "stream",
          "text": [
            "\r 88%|████████▊ | 426/483 [07:48<01:09,  1.22s/it]"
          ]
        },
        {
          "name": "stdout",
          "output_type": "stream",
          "text": [
            "Crawl comment page 1 success!!!\n",
            "Crawl comment for product 199171217\n",
            "Crawl comment page 0 success!!!\n"
          ]
        },
        {
          "name": "stderr",
          "output_type": "stream",
          "text": [
            "\r 88%|████████▊ | 427/483 [07:49<01:00,  1.08s/it]"
          ]
        },
        {
          "name": "stdout",
          "output_type": "stream",
          "text": [
            "Crawl comment page 1 success!!!\n",
            "Crawl comment for product 38114299\n",
            "Crawl comment page 0 success!!!\n"
          ]
        },
        {
          "name": "stderr",
          "output_type": "stream",
          "text": [
            "\r 89%|████████▊ | 428/483 [07:50<01:03,  1.15s/it]"
          ]
        },
        {
          "name": "stdout",
          "output_type": "stream",
          "text": [
            "Crawl comment page 1 success!!!\n",
            "Crawl comment for product 34171666\n",
            "Crawl comment page 0 success!!!\n"
          ]
        },
        {
          "name": "stderr",
          "output_type": "stream",
          "text": [
            "\r 89%|████████▉ | 429/483 [07:51<01:01,  1.14s/it]"
          ]
        },
        {
          "name": "stdout",
          "output_type": "stream",
          "text": [
            "Crawl comment page 1 success!!!\n",
            "Crawl comment for product 79665351\n",
            "Crawl comment page 0 success!!!\n"
          ]
        },
        {
          "name": "stderr",
          "output_type": "stream",
          "text": [
            "\r 89%|████████▉ | 430/483 [07:52<00:57,  1.09s/it]"
          ]
        },
        {
          "name": "stdout",
          "output_type": "stream",
          "text": [
            "Crawl comment page 1 success!!!\n",
            "Crawl comment for product 181223364\n",
            "Crawl comment page 0 success!!!\n"
          ]
        },
        {
          "name": "stderr",
          "output_type": "stream",
          "text": [
            "\r 89%|████████▉ | 431/483 [07:53<00:51,  1.00it/s]"
          ]
        },
        {
          "name": "stdout",
          "output_type": "stream",
          "text": [
            "Crawl comment page 1 success!!!\n",
            "Crawl comment for product 189491905\n",
            "Crawl comment page 0 success!!!\n"
          ]
        },
        {
          "name": "stderr",
          "output_type": "stream",
          "text": [
            "\r 89%|████████▉ | 432/483 [07:54<01:03,  1.24s/it]"
          ]
        },
        {
          "name": "stdout",
          "output_type": "stream",
          "text": [
            "Crawl comment page 1 success!!!\n",
            "Crawl comment for product 270502435\n",
            "Crawl comment page 0 success!!!\n"
          ]
        },
        {
          "name": "stderr",
          "output_type": "stream",
          "text": [
            "\r 90%|████████▉ | 433/483 [07:55<00:54,  1.08s/it]"
          ]
        },
        {
          "name": "stdout",
          "output_type": "stream",
          "text": [
            "Crawl comment page 1 success!!!\n",
            "Crawl comment for product 177530727\n",
            "Crawl comment page 0 success!!!\n"
          ]
        },
        {
          "name": "stderr",
          "output_type": "stream",
          "text": [
            "\r 90%|████████▉ | 434/483 [07:56<00:49,  1.01s/it]"
          ]
        },
        {
          "name": "stdout",
          "output_type": "stream",
          "text": [
            "Crawl comment page 1 success!!!\n",
            "Crawl comment for product 43775153\n",
            "Crawl comment page 0 success!!!\n"
          ]
        },
        {
          "name": "stderr",
          "output_type": "stream",
          "text": [
            "\r 90%|█████████ | 435/483 [07:57<00:46,  1.02it/s]"
          ]
        },
        {
          "name": "stdout",
          "output_type": "stream",
          "text": [
            "Crawl comment page 1 success!!!\n",
            "Crawl comment for product 71005991\n",
            "Crawl comment page 0 success!!!\n"
          ]
        },
        {
          "name": "stderr",
          "output_type": "stream",
          "text": [
            "\r 90%|█████████ | 436/483 [07:58<00:47,  1.00s/it]"
          ]
        },
        {
          "name": "stdout",
          "output_type": "stream",
          "text": [
            "Crawl comment page 1 success!!!\n",
            "Crawl comment for product 52885368\n",
            "Crawl comment page 0 success!!!\n"
          ]
        },
        {
          "name": "stderr",
          "output_type": "stream",
          "text": [
            "\r 90%|█████████ | 437/483 [07:59<00:44,  1.02it/s]"
          ]
        },
        {
          "name": "stdout",
          "output_type": "stream",
          "text": [
            "Crawl comment page 1 success!!!\n",
            "Crawl comment for product 50294624\n",
            "Crawl comment page 0 success!!!\n"
          ]
        },
        {
          "name": "stderr",
          "output_type": "stream",
          "text": [
            "\r 91%|█████████ | 438/483 [08:00<00:41,  1.08it/s]"
          ]
        },
        {
          "name": "stdout",
          "output_type": "stream",
          "text": [
            "Crawl comment page 1 success!!!\n",
            "Crawl comment for product 50272433\n",
            "Crawl comment page 0 success!!!\n"
          ]
        },
        {
          "name": "stderr",
          "output_type": "stream",
          "text": [
            "\r 91%|█████████ | 439/483 [08:01<00:39,  1.12it/s]"
          ]
        },
        {
          "name": "stdout",
          "output_type": "stream",
          "text": [
            "Crawl comment page 1 success!!!\n",
            "Crawl comment for product 247787064\n",
            "Crawl comment page 0 success!!!\n"
          ]
        },
        {
          "name": "stderr",
          "output_type": "stream",
          "text": [
            "\r 91%|█████████ | 440/483 [08:01<00:37,  1.15it/s]"
          ]
        },
        {
          "name": "stdout",
          "output_type": "stream",
          "text": [
            "Crawl comment page 1 success!!!\n",
            "Crawl comment for product 69226574\n",
            "Crawl comment page 0 success!!!\n"
          ]
        },
        {
          "name": "stderr",
          "output_type": "stream",
          "text": [
            "\r 91%|█████████▏| 441/483 [08:02<00:38,  1.09it/s]"
          ]
        },
        {
          "name": "stdout",
          "output_type": "stream",
          "text": [
            "Crawl comment page 1 success!!!\n",
            "Crawl comment for product 186287880\n",
            "Crawl comment page 0 success!!!\n"
          ]
        },
        {
          "name": "stderr",
          "output_type": "stream",
          "text": [
            "\r 92%|█████████▏| 442/483 [08:03<00:35,  1.16it/s]"
          ]
        },
        {
          "name": "stdout",
          "output_type": "stream",
          "text": [
            "Crawl comment page 1 success!!!\n",
            "Crawl comment for product 195469953\n",
            "Crawl comment page 0 success!!!\n"
          ]
        },
        {
          "name": "stderr",
          "output_type": "stream",
          "text": [
            "\r 92%|█████████▏| 443/483 [08:04<00:33,  1.18it/s]"
          ]
        },
        {
          "name": "stdout",
          "output_type": "stream",
          "text": [
            "Crawl comment page 1 success!!!\n",
            "Crawl comment for product 169848307\n",
            "Crawl comment page 0 success!!!\n"
          ]
        },
        {
          "name": "stderr",
          "output_type": "stream",
          "text": [
            "\r 92%|█████████▏| 444/483 [08:05<00:33,  1.17it/s]"
          ]
        },
        {
          "name": "stdout",
          "output_type": "stream",
          "text": [
            "Crawl comment page 1 success!!!\n",
            "Crawl comment for product 134360858\n",
            "Crawl comment page 0 success!!!\n"
          ]
        },
        {
          "name": "stderr",
          "output_type": "stream",
          "text": [
            "\r 92%|█████████▏| 445/483 [08:06<00:32,  1.18it/s]"
          ]
        },
        {
          "name": "stdout",
          "output_type": "stream",
          "text": [
            "Crawl comment page 1 success!!!\n",
            "Crawl comment for product 122911188\n",
            "Crawl comment page 0 success!!!\n"
          ]
        },
        {
          "name": "stderr",
          "output_type": "stream",
          "text": [
            "\r 92%|█████████▏| 446/483 [08:07<00:40,  1.08s/it]"
          ]
        },
        {
          "name": "stdout",
          "output_type": "stream",
          "text": [
            "Crawl comment page 1 success!!!\n",
            "Crawl comment for product 158639945\n",
            "Crawl comment page 0 success!!!\n"
          ]
        },
        {
          "name": "stderr",
          "output_type": "stream",
          "text": [
            "\r 93%|█████████▎| 447/483 [08:08<00:36,  1.00s/it]"
          ]
        },
        {
          "name": "stdout",
          "output_type": "stream",
          "text": [
            "Crawl comment page 1 success!!!\n",
            "Crawl comment for product 73608154\n",
            "Crawl comment page 0 success!!!\n"
          ]
        },
        {
          "name": "stderr",
          "output_type": "stream",
          "text": [
            "\r 93%|█████████▎| 448/483 [08:09<00:37,  1.08s/it]"
          ]
        },
        {
          "name": "stdout",
          "output_type": "stream",
          "text": [
            "Crawl comment page 1 success!!!\n",
            "Crawl comment for product 125604026\n",
            "Crawl comment page 0 success!!!\n"
          ]
        },
        {
          "name": "stderr",
          "output_type": "stream",
          "text": [
            "\r 93%|█████████▎| 449/483 [08:10<00:33,  1.01it/s]"
          ]
        },
        {
          "name": "stdout",
          "output_type": "stream",
          "text": [
            "Crawl comment page 1 success!!!\n",
            "Crawl comment for product 263597003\n",
            "Crawl comment page 0 success!!!\n"
          ]
        },
        {
          "name": "stderr",
          "output_type": "stream",
          "text": [
            "\r 93%|█████████▎| 450/483 [08:11<00:30,  1.07it/s]"
          ]
        },
        {
          "name": "stdout",
          "output_type": "stream",
          "text": [
            "Crawl comment page 1 success!!!\n",
            "Crawl comment for product 67650750\n",
            "Crawl comment page 0 success!!!\n"
          ]
        },
        {
          "name": "stderr",
          "output_type": "stream",
          "text": [
            "\r 93%|█████████▎| 451/483 [08:12<00:29,  1.10it/s]"
          ]
        },
        {
          "name": "stdout",
          "output_type": "stream",
          "text": [
            "Crawl comment page 1 success!!!\n",
            "Crawl comment for product 109854689\n",
            "Crawl comment page 0 success!!!\n"
          ]
        },
        {
          "name": "stderr",
          "output_type": "stream",
          "text": [
            "\r 94%|█████████▎| 452/483 [08:13<00:27,  1.13it/s]"
          ]
        },
        {
          "name": "stdout",
          "output_type": "stream",
          "text": [
            "Crawl comment page 1 success!!!\n",
            "Crawl comment for product 192258425\n",
            "Crawl comment page 0 success!!!\n"
          ]
        },
        {
          "name": "stderr",
          "output_type": "stream",
          "text": [
            "\r 94%|█████████▍| 453/483 [08:14<00:26,  1.12it/s]"
          ]
        },
        {
          "name": "stdout",
          "output_type": "stream",
          "text": [
            "Crawl comment page 1 success!!!\n",
            "Crawl comment for product 132997790\n",
            "Crawl comment page 0 success!!!\n"
          ]
        },
        {
          "name": "stderr",
          "output_type": "stream",
          "text": [
            "\r 94%|█████████▍| 454/483 [08:15<00:28,  1.03it/s]"
          ]
        },
        {
          "name": "stdout",
          "output_type": "stream",
          "text": [
            "Crawl comment page 1 success!!!\n",
            "Crawl comment for product 230038783\n",
            "Crawl comment page 0 success!!!\n"
          ]
        },
        {
          "name": "stderr",
          "output_type": "stream",
          "text": [
            "\r 94%|█████████▍| 455/483 [08:15<00:24,  1.12it/s]"
          ]
        },
        {
          "name": "stdout",
          "output_type": "stream",
          "text": [
            "Crawl comment page 1 success!!!\n",
            "Crawl comment for product 137673382\n",
            "Crawl comment page 0 success!!!\n"
          ]
        },
        {
          "name": "stderr",
          "output_type": "stream",
          "text": [
            "\r 94%|█████████▍| 456/483 [08:16<00:22,  1.21it/s]"
          ]
        },
        {
          "name": "stdout",
          "output_type": "stream",
          "text": [
            "Crawl comment page 1 success!!!\n",
            "Crawl comment for product 189568098\n",
            "Crawl comment page 0 success!!!\n"
          ]
        },
        {
          "name": "stderr",
          "output_type": "stream",
          "text": [
            "\r 95%|█████████▍| 457/483 [08:17<00:21,  1.21it/s]"
          ]
        },
        {
          "name": "stdout",
          "output_type": "stream",
          "text": [
            "Crawl comment page 1 success!!!\n",
            "Crawl comment for product 249891763\n",
            "Crawl comment page 0 success!!!\n"
          ]
        },
        {
          "name": "stderr",
          "output_type": "stream",
          "text": [
            "\r 95%|█████████▍| 458/483 [08:18<00:20,  1.22it/s]"
          ]
        },
        {
          "name": "stdout",
          "output_type": "stream",
          "text": [
            "Crawl comment page 1 success!!!\n",
            "Crawl comment for product 270660646\n",
            "Crawl comment page 0 success!!!\n"
          ]
        },
        {
          "name": "stderr",
          "output_type": "stream",
          "text": [
            "\r 95%|█████████▌| 459/483 [08:18<00:19,  1.24it/s]"
          ]
        },
        {
          "name": "stdout",
          "output_type": "stream",
          "text": [
            "Crawl comment page 1 success!!!\n",
            "Crawl comment for product 162548473\n",
            "Crawl comment page 0 success!!!\n"
          ]
        },
        {
          "name": "stderr",
          "output_type": "stream",
          "text": [
            "\r 95%|█████████▌| 460/483 [08:19<00:18,  1.23it/s]"
          ]
        },
        {
          "name": "stdout",
          "output_type": "stream",
          "text": [
            "Crawl comment page 1 success!!!\n",
            "Crawl comment for product 272362695\n",
            "Crawl comment page 0 success!!!\n"
          ]
        },
        {
          "name": "stderr",
          "output_type": "stream",
          "text": [
            "\r 95%|█████████▌| 461/483 [08:20<00:18,  1.22it/s]"
          ]
        },
        {
          "name": "stdout",
          "output_type": "stream",
          "text": [
            "Crawl comment page 1 success!!!\n",
            "Crawl comment for product 52582326\n",
            "Crawl comment page 0 success!!!\n"
          ]
        },
        {
          "name": "stderr",
          "output_type": "stream",
          "text": [
            "\r 96%|█████████▌| 462/483 [08:21<00:17,  1.22it/s]"
          ]
        },
        {
          "name": "stdout",
          "output_type": "stream",
          "text": [
            "Crawl comment page 1 success!!!\n",
            "Crawl comment for product 68187835\n",
            "Crawl comment page 0 success!!!\n"
          ]
        },
        {
          "name": "stderr",
          "output_type": "stream",
          "text": [
            "\r 96%|█████████▌| 463/483 [08:22<00:16,  1.19it/s]"
          ]
        },
        {
          "name": "stdout",
          "output_type": "stream",
          "text": [
            "Crawl comment page 1 success!!!\n",
            "Crawl comment for product 109358289\n",
            "Crawl comment page 0 success!!!\n"
          ]
        },
        {
          "name": "stderr",
          "output_type": "stream",
          "text": [
            "\r 96%|█████████▌| 464/483 [08:23<00:16,  1.18it/s]"
          ]
        },
        {
          "name": "stdout",
          "output_type": "stream",
          "text": [
            "Crawl comment page 1 success!!!\n",
            "Crawl comment for product 74267658\n",
            "Crawl comment page 0 success!!!\n"
          ]
        },
        {
          "name": "stderr",
          "output_type": "stream",
          "text": [
            "\r 96%|█████████▋| 465/483 [08:24<00:15,  1.19it/s]"
          ]
        },
        {
          "name": "stdout",
          "output_type": "stream",
          "text": [
            "Crawl comment page 1 success!!!\n",
            "Crawl comment for product 140204791\n",
            "Crawl comment page 0 success!!!\n"
          ]
        },
        {
          "name": "stderr",
          "output_type": "stream",
          "text": [
            "\r 96%|█████████▋| 466/483 [08:24<00:14,  1.19it/s]"
          ]
        },
        {
          "name": "stdout",
          "output_type": "stream",
          "text": [
            "Crawl comment page 1 success!!!\n",
            "Crawl comment for product 197972938\n",
            "Crawl comment page 0 success!!!\n"
          ]
        },
        {
          "name": "stderr",
          "output_type": "stream",
          "text": [
            "\r 97%|█████████▋| 467/483 [08:25<00:13,  1.16it/s]"
          ]
        },
        {
          "name": "stdout",
          "output_type": "stream",
          "text": [
            "Crawl comment page 1 success!!!\n",
            "Crawl comment for product 115436781\n",
            "Crawl comment page 0 success!!!\n"
          ]
        },
        {
          "name": "stderr",
          "output_type": "stream",
          "text": [
            "\r 97%|█████████▋| 468/483 [08:26<00:12,  1.19it/s]"
          ]
        },
        {
          "name": "stdout",
          "output_type": "stream",
          "text": [
            "Crawl comment page 1 success!!!\n",
            "Crawl comment for product 69193092\n",
            "Crawl comment page 0 success!!!\n"
          ]
        },
        {
          "name": "stderr",
          "output_type": "stream",
          "text": [
            "\r 97%|█████████▋| 469/483 [08:27<00:11,  1.20it/s]"
          ]
        },
        {
          "name": "stdout",
          "output_type": "stream",
          "text": [
            "Crawl comment page 1 success!!!\n",
            "Crawl comment for product 49364801\n",
            "Crawl comment page 0 success!!!\n"
          ]
        },
        {
          "name": "stderr",
          "output_type": "stream",
          "text": [
            "\r 97%|█████████▋| 470/483 [08:28<00:10,  1.20it/s]"
          ]
        },
        {
          "name": "stdout",
          "output_type": "stream",
          "text": [
            "Crawl comment page 1 success!!!\n",
            "Crawl comment for product 45300792\n",
            "Crawl comment page 0 success!!!\n"
          ]
        },
        {
          "name": "stderr",
          "output_type": "stream",
          "text": [
            "\r 98%|█████████▊| 471/483 [08:30<00:14,  1.23s/it]"
          ]
        },
        {
          "name": "stdout",
          "output_type": "stream",
          "text": [
            "Crawl comment page 1 success!!!\n",
            "Crawl comment for product 204886250\n",
            "Crawl comment page 0 success!!!\n"
          ]
        },
        {
          "name": "stderr",
          "output_type": "stream",
          "text": [
            "\r 98%|█████████▊| 472/483 [08:31<00:11,  1.07s/it]"
          ]
        },
        {
          "name": "stdout",
          "output_type": "stream",
          "text": [
            "Crawl comment page 1 success!!!\n",
            "Crawl comment for product 203875374\n",
            "Crawl comment page 0 success!!!\n"
          ]
        },
        {
          "name": "stderr",
          "output_type": "stream",
          "text": [
            "\r 98%|█████████▊| 473/483 [08:32<00:11,  1.14s/it]"
          ]
        },
        {
          "name": "stdout",
          "output_type": "stream",
          "text": [
            "Crawl comment page 1 success!!!\n",
            "Crawl comment for product 196768917\n",
            "Crawl comment page 0 success!!!\n"
          ]
        },
        {
          "name": "stderr",
          "output_type": "stream",
          "text": [
            "\r 98%|█████████▊| 474/483 [08:33<00:09,  1.04s/it]"
          ]
        },
        {
          "name": "stdout",
          "output_type": "stream",
          "text": [
            "Crawl comment page 1 success!!!\n",
            "Crawl comment for product 20103667\n",
            "Crawl comment page 0 success!!!\n"
          ]
        },
        {
          "name": "stderr",
          "output_type": "stream",
          "text": [
            "\r 98%|█████████▊| 475/483 [08:34<00:07,  1.02it/s]"
          ]
        },
        {
          "name": "stdout",
          "output_type": "stream",
          "text": [
            "Crawl comment page 1 success!!!\n",
            "Crawl comment for product 50241058\n",
            "Crawl comment page 0 success!!!\n"
          ]
        },
        {
          "name": "stderr",
          "output_type": "stream",
          "text": [
            "\r 99%|█████████▊| 476/483 [08:35<00:07,  1.07s/it]"
          ]
        },
        {
          "name": "stdout",
          "output_type": "stream",
          "text": [
            "Crawl comment page 1 success!!!\n",
            "Crawl comment for product 197964426\n",
            "Crawl comment page 0 success!!!\n"
          ]
        },
        {
          "name": "stderr",
          "output_type": "stream",
          "text": [
            "\r 99%|█████████▉| 477/483 [08:37<00:08,  1.34s/it]"
          ]
        },
        {
          "name": "stdout",
          "output_type": "stream",
          "text": [
            "Crawl comment page 1 success!!!\n",
            "Crawl comment for product 53202251\n",
            "Crawl comment page 0 success!!!\n"
          ]
        },
        {
          "name": "stderr",
          "output_type": "stream",
          "text": [
            "\r 99%|█████████▉| 478/483 [08:39<00:07,  1.57s/it]"
          ]
        },
        {
          "name": "stdout",
          "output_type": "stream",
          "text": [
            "Crawl comment page 1 success!!!\n",
            "Crawl comment for product 273156780\n",
            "Crawl comment page 0 success!!!\n"
          ]
        },
        {
          "name": "stderr",
          "output_type": "stream",
          "text": [
            "\r 99%|█████████▉| 479/483 [08:40<00:05,  1.46s/it]"
          ]
        },
        {
          "name": "stdout",
          "output_type": "stream",
          "text": [
            "Crawl comment page 1 success!!!\n",
            "Crawl comment for product 194125023\n",
            "Crawl comment page 0 success!!!\n"
          ]
        },
        {
          "name": "stderr",
          "output_type": "stream",
          "text": [
            "\r 99%|█████████▉| 480/483 [08:41<00:04,  1.41s/it]"
          ]
        },
        {
          "name": "stdout",
          "output_type": "stream",
          "text": [
            "Crawl comment page 1 success!!!\n",
            "Crawl comment for product 56383693\n",
            "Crawl comment page 0 success!!!\n"
          ]
        },
        {
          "name": "stderr",
          "output_type": "stream",
          "text": [
            "\r100%|█████████▉| 481/483 [08:42<00:02,  1.29s/it]"
          ]
        },
        {
          "name": "stdout",
          "output_type": "stream",
          "text": [
            "Crawl comment page 1 success!!!\n",
            "Crawl comment for product 36300228\n",
            "Crawl comment page 0 success!!!\n"
          ]
        },
        {
          "name": "stderr",
          "output_type": "stream",
          "text": [
            "\r100%|█████████▉| 482/483 [08:43<00:01,  1.15s/it]"
          ]
        },
        {
          "name": "stdout",
          "output_type": "stream",
          "text": [
            "Crawl comment page 1 success!!!\n",
            "Crawl comment for product 58456783\n",
            "Crawl comment page 0 success!!!\n"
          ]
        },
        {
          "name": "stderr",
          "output_type": "stream",
          "text": [
            "100%|██████████| 483/483 [08:44<00:00,  1.09s/it]"
          ]
        },
        {
          "name": "stdout",
          "output_type": "stream",
          "text": [
            "Crawl comment page 1 success!!!\n"
          ]
        },
        {
          "name": "stderr",
          "output_type": "stream",
          "text": [
            "\n"
          ]
        }
      ],
      "source": [
        "import requests\n",
        "import pandas as pd\n",
        "import time\n",
        "import random\n",
        "from tqdm import tqdm\n",
        "\n",
        "cookies = {\n",
        "    'TIKI_GUEST_TOKEN': '8jWSuIDBb2NGVzr6hsUZXpkP1FRin7lY',\n",
        "    'TOKENS': '{%22access_token%22:%228jWSuIDBb2NGVzr6hsUZXpkP1FRin7lY%22%2C%22expires_in%22:157680000%2C%22expires_at%22:1763654224277%2C%22guest_token%22:%228jWSuIDBb2NGVzr6hsUZXpkP1FRin7lY%22}',\n",
        "    'amp_99d374': 'eSc-_0HT1um7cb57E7dwA0...1enloc6a2.1enlrj4bc.1k.11.2l',\n",
        "    'amp_99d374_tiki.vn': 'eSc-_0HT1um7cb57E7dwA0...1enloc6a2.1enlrj2q9.3.1.1',\n",
        "    '_gcl_au': '1.1.559117409.1605974236',\n",
        "    '_ants_utm_v2': '',\n",
        "    '_pk_id.638735871.2fc5': 'b92ae025fbbdb31f.1605974236.1.1605977607.1605974236.',\n",
        "    '_pk_ses.638735871.2fc5': '*',\n",
        "    '_trackity': '70e316b0-96f2-dbe1-a2ed-43ff60419991',\n",
        "    '_ga_NKX31X43RV': 'GS1.1.1605974235.1.1.1605977607.0',\n",
        "    '_ga': 'GA1.2.657946765.1605974236',\n",
        "    'ai_client_id': '11935756853.1605974227',\n",
        "    'an_session': 'zizkzrzjzkzizhzkzlznzdzizizqzgzmzkzmzlzrzmzgzdzizlzjzmzqzkzlzjzgzjzdzizizdzizlzjzmzqzkzlzjzgzjzdzizlzjzmzqzkzlzjzgzjzdzjzdzhzqzdzizd2f27zdzjzdzlzmzmznzq',\n",
        "    'au_aid': '11935756853',\n",
        "    'dgs': '1605977598%3A3%3A0',\n",
        "    'au_gt': '1605974227146',\n",
        "    '_ants_services': '%5B%22cuid%22%5D',\n",
        "    '__admUTMtime': '1605974236',\n",
        "    '__iid': '749',\n",
        "    '__su': '0',\n",
        "    '_bs': 'bb9a32f6-ab13-ce80-92d6-57fd3fd6e4c8',\n",
        "    '_gid': 'GA1.2.867846791.1605974237',\n",
        "    '_fbp': 'fb.1.1605974237134.1297408816',\n",
        "    '_hjid': 'f152cf33-7323-4410-b9ae-79f6622ebc48',\n",
        "    '_hjFirstSeen': '1',\n",
        "    '_hjAbsoluteSessionInProgress': '0',\n",
        "    'tiki_client_id': '657946765.1605974236',\n",
        "    '__gads': 'ID=ae56424189ecccbe-227eb8e1d6c400a8:T=1605974229:RT=1605974229:S=ALNI_MZFWYf2BAjzCSiRNLC3bKI-W_7YHA',\n",
        "    'proxy_s_sv': '1605978058486',\n",
        "    'TKSESSID': '8bcd49b02e1e16aa1cdb795c54d7b460',\n",
        "    'TIKI_RECOMMENDATION': '21dd50e7f7c194df673ea3b717459249',\n",
        "    'cto_bundle': '7L6ha19NVXNkQmJ6aEVLcXNqbHdjcVZoQ0kzTUZwcEMyNCUyRm5nV3A2SThuOGxTRjI4Wlk1NU9xRnBEOG9tUjd2ekhyZEQxeE9qaVQ4MnFpbiUyRllGd2JiQUpTMW94MlNsTnYxd3dOYWtRcXhGdDNxSjdBVmNxU0FnUSUyQjlWYjhqTUtLdVl2cTBheWFvS0ZnY2pLdlpWRlEyUFF0Y1ElM0QlM0Q',\n",
        "    'TIKI_RECENTLYVIEWED': '58259141',\n",
        "    '_ants_event_his': '%7B%22action%22%3A%22view%22%2C%22time%22%3A1605977607258%7D',\n",
        "    '_hjIncludedInPageviewSample': '1',\n",
        "    '_hjIncludedInSessionSample': '1',\n",
        "    '_gat': '1',\n",
        "}\n",
        "\n",
        "headers = {\n",
        "    'User-Agent': 'Mozilla/5.0 (Windows NT 6.3; Win64; x64; rv:83.0) Gecko/20100101 Firefox/83.0',\n",
        "    'Accept': 'application/json, text/plain, */*',\n",
        "    'Accept-Language': 'vi-VN,vi;q=0.8,en-US;q=0.5,en;q=0.3',\n",
        "    'Referer': 'https://tiki.vn/dien-thoai-samsung-galaxy-m31-128gb-6gb-hang-chinh-hang-p58259141.html',\n",
        "    'x-guest-token': '8jWSuIDBb2NGVzr6hsUZXpkP1FRin7lY',\n",
        "    'Connection': 'keep-alive',\n",
        "    'TE': 'Trailers',\n",
        "}\n",
        "\n",
        "params = {\n",
        "    'product_id': '58259141',\n",
        "    'sort': 'score|desc,id|desc,stars|all',\n",
        "    'page': '1',\n",
        "    'limit': '10',\n",
        "    'include': 'comments'\n",
        "}\n",
        "\n",
        "def comment_parser(json):\n",
        "    d = dict()\n",
        "    d['id'] = json.get(id)\n",
        "    d['title'] = json.get('title')\n",
        "    d['content'] = json.get('content')\n",
        "    d['thank_count'] = json.get('thank_count')\n",
        "    d['customer_id']  = json.get('customer_id')\n",
        "    d['rating'] = json.get('rating')\n",
        "    d['created_at'] = json.get('created_at')\n",
        "    d['customer_name'] = json.get('created_by').get('name')\n",
        "    d['purchased_at'] = json.get('created_by').get('purchased_at')\n",
        "    return d\n",
        "\n",
        "\n",
        "df_id = pd.read_csv('product_id_ncds.csv')\n",
        "p_ids = df_id.id.to_list()\n",
        "result = []\n",
        "for pid in tqdm(p_ids, total=len(p_ids)):\n",
        "    params['product_id'] = pid\n",
        "    print('Crawl comment for product {}'.format(pid))\n",
        "    for i in range(2):\n",
        "        params['page'] = i\n",
        "        response = requests.get('https://tiki.vn/api/v2/reviews', headers=headers, params=params, cookies=cookies)\n",
        "        if response.status_code == 200:\n",
        "            print('Crawl comment page {} success!!!'.format(i))\n",
        "            for comment in response.json().get('data'):\n",
        "                result.append(comment_parser(comment))\n",
        "df_comment = pd.DataFrame(result)\n",
        "df_comment.to_csv('comments_data_tiki.csv', index=False)"
      ]
    },
    {
      "cell_type": "code",
      "execution_count": null,
      "metadata": {
        "id": "G6BiwhFRhkq2"
      },
      "outputs": [],
      "source": []
    }
  ],
  "metadata": {
    "colab": {
      "provenance": [],
      "authorship_tag": "ABX9TyOHiXB11aWQ2B+i83qgbZOC",
      "include_colab_link": true
    },
    "kernelspec": {
      "display_name": "Python 3",
      "name": "python3"
    },
    "language_info": {
      "name": "python"
    }
  },
  "nbformat": 4,
  "nbformat_minor": 0
}