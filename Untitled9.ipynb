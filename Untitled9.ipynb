{
  "nbformat": 4,
  "nbformat_minor": 0,
  "metadata": {
    "colab": {
      "provenance": [],
      "collapsed_sections": [
        "6hdS_KxbDz7M"
      ],
      "gpuType": "T4",
      "authorship_tag": "ABX9TyNq0b4f9MphtLEd0Kb+tx0R",
      "include_colab_link": true
    },
    "kernelspec": {
      "name": "python3",
      "display_name": "Python 3"
    },
    "language_info": {
      "name": "python"
    },
    "accelerator": "GPU"
  },
  "cells": [
    {
      "cell_type": "markdown",
      "metadata": {
        "id": "view-in-github",
        "colab_type": "text"
      },
      "source": [
        "<a href=\"https://colab.research.google.com/github/Dinhthixuanbinh/Note/blob/main/Untitled9.ipynb\" target=\"_parent\"><img src=\"https://colab.research.google.com/assets/colab-badge.svg\" alt=\"Open In Colab\"/></a>"
      ]
    },
    {
      "cell_type": "markdown",
      "source": [
        "### Install"
      ],
      "metadata": {
        "id": "6hdS_KxbDz7M"
      }
    },
    {
      "cell_type": "code",
      "execution_count": 2,
      "metadata": {
        "id": "gT19bDYWDdHP",
        "colab": {
          "base_uri": "https://localhost:8080/"
        },
        "outputId": "f9531249-b0d2-4e3a-8846-a5ad511e433e"
      },
      "outputs": [
        {
          "output_type": "stream",
          "name": "stdout",
          "text": [
            "Collecting pdf2image\n",
            "  Downloading pdf2image-1.16.3-py3-none-any.whl (11 kB)\n",
            "Requirement already satisfied: pillow in /usr/local/lib/python3.10/dist-packages (from pdf2image) (8.4.0)\n",
            "Installing collected packages: pdf2image\n",
            "Successfully installed pdf2image-1.16.3\n"
          ]
        }
      ],
      "source": [
        "!pip install pdf2image"
      ]
    },
    {
      "cell_type": "code",
      "source": [
        "!apt-get install poppler-utils"
      ],
      "metadata": {
        "id": "jXAQ3XrgDhAW",
        "colab": {
          "base_uri": "https://localhost:8080/"
        },
        "outputId": "dcc55a89-9efd-466d-b66b-ba34f9147bd8"
      },
      "execution_count": 3,
      "outputs": [
        {
          "output_type": "stream",
          "name": "stdout",
          "text": [
            "Reading package lists... Done\n",
            "Building dependency tree       \n",
            "Reading state information... Done\n",
            "The following NEW packages will be installed:\n",
            "  poppler-utils\n",
            "0 upgraded, 1 newly installed, 0 to remove and 15 not upgraded.\n",
            "Need to get 174 kB of archives.\n",
            "After this operation, 754 kB of additional disk space will be used.\n",
            "Get:1 http://archive.ubuntu.com/ubuntu focal-updates/main amd64 poppler-utils amd64 0.86.1-0ubuntu1.1 [174 kB]\n",
            "Fetched 174 kB in 1s (116 kB/s)\n",
            "Selecting previously unselected package poppler-utils.\n",
            "(Reading database ... 123105 files and directories currently installed.)\n",
            "Preparing to unpack .../poppler-utils_0.86.1-0ubuntu1.1_amd64.deb ...\n",
            "Unpacking poppler-utils (0.86.1-0ubuntu1.1) ...\n",
            "Setting up poppler-utils (0.86.1-0ubuntu1.1) ...\n",
            "Processing triggers for man-db (2.9.1-1) ...\n"
          ]
        }
      ]
    },
    {
      "cell_type": "code",
      "source": [
        "!python3 -m pip install paddlepaddle-gpu"
      ],
      "metadata": {
        "id": "RsgyaL5uKrR8",
        "colab": {
          "base_uri": "https://localhost:8080/"
        },
        "outputId": "dc0a7dfc-ef55-4f33-8791-6e48798591f9"
      },
      "execution_count": 4,
      "outputs": [
        {
          "output_type": "stream",
          "name": "stdout",
          "text": [
            "Collecting paddlepaddle-gpu\n",
            "  Downloading paddlepaddle_gpu-2.5.0-cp310-cp310-manylinux1_x86_64.whl (543.2 MB)\n",
            "\u001b[2K     \u001b[90m━━━━━━━━━━━━━━━━━━━━━━━━━━━━━━━━━━━━━━━\u001b[0m \u001b[32m543.2/543.2 MB\u001b[0m \u001b[31m3.2 MB/s\u001b[0m eta \u001b[36m0:00:00\u001b[0m\n",
            "\u001b[?25hCollecting httpx (from paddlepaddle-gpu)\n",
            "  Downloading httpx-0.24.1-py3-none-any.whl (75 kB)\n",
            "\u001b[2K     \u001b[90m━━━━━━━━━━━━━━━━━━━━━━━━━━━━━━━━━━━━━━━━\u001b[0m \u001b[32m75.4/75.4 kB\u001b[0m \u001b[31m8.5 MB/s\u001b[0m eta \u001b[36m0:00:00\u001b[0m\n",
            "\u001b[?25hRequirement already satisfied: numpy>=1.13 in /usr/local/lib/python3.10/dist-packages (from paddlepaddle-gpu) (1.22.4)\n",
            "Requirement already satisfied: Pillow in /usr/local/lib/python3.10/dist-packages (from paddlepaddle-gpu) (8.4.0)\n",
            "Requirement already satisfied: decorator in /usr/local/lib/python3.10/dist-packages (from paddlepaddle-gpu) (4.4.2)\n",
            "Collecting astor (from paddlepaddle-gpu)\n",
            "  Downloading astor-0.8.1-py2.py3-none-any.whl (27 kB)\n",
            "Collecting paddle-bfloat==0.1.7 (from paddlepaddle-gpu)\n",
            "  Downloading paddle_bfloat-0.1.7-cp310-cp310-manylinux_2_17_x86_64.manylinux2014_x86_64.whl (383 kB)\n",
            "\u001b[2K     \u001b[90m━━━━━━━━━━━━━━━━━━━━━━━━━━━━━━━━━━━━━━\u001b[0m \u001b[32m383.2/383.2 kB\u001b[0m \u001b[31m26.5 MB/s\u001b[0m eta \u001b[36m0:00:00\u001b[0m\n",
            "\u001b[?25hRequirement already satisfied: opt-einsum==3.3.0 in /usr/local/lib/python3.10/dist-packages (from paddlepaddle-gpu) (3.3.0)\n",
            "Requirement already satisfied: protobuf>=3.20.2 in /usr/local/lib/python3.10/dist-packages (from paddlepaddle-gpu) (3.20.3)\n",
            "Requirement already satisfied: certifi in /usr/local/lib/python3.10/dist-packages (from httpx->paddlepaddle-gpu) (2023.5.7)\n",
            "Collecting httpcore<0.18.0,>=0.15.0 (from httpx->paddlepaddle-gpu)\n",
            "  Downloading httpcore-0.17.3-py3-none-any.whl (74 kB)\n",
            "\u001b[2K     \u001b[90m━━━━━━━━━━━━━━━━━━━━━━━━━━━━━━━━━━━━━━━━\u001b[0m \u001b[32m74.5/74.5 kB\u001b[0m \u001b[31m9.1 MB/s\u001b[0m eta \u001b[36m0:00:00\u001b[0m\n",
            "\u001b[?25hRequirement already satisfied: idna in /usr/local/lib/python3.10/dist-packages (from httpx->paddlepaddle-gpu) (3.4)\n",
            "Requirement already satisfied: sniffio in /usr/local/lib/python3.10/dist-packages (from httpx->paddlepaddle-gpu) (1.3.0)\n",
            "Collecting h11<0.15,>=0.13 (from httpcore<0.18.0,>=0.15.0->httpx->paddlepaddle-gpu)\n",
            "  Downloading h11-0.14.0-py3-none-any.whl (58 kB)\n",
            "\u001b[2K     \u001b[90m━━━━━━━━━━━━━━━━━━━━━━━━━━━━━━━━━━━━━━━━\u001b[0m \u001b[32m58.3/58.3 kB\u001b[0m \u001b[31m7.2 MB/s\u001b[0m eta \u001b[36m0:00:00\u001b[0m\n",
            "\u001b[?25hRequirement already satisfied: anyio<5.0,>=3.0 in /usr/local/lib/python3.10/dist-packages (from httpcore<0.18.0,>=0.15.0->httpx->paddlepaddle-gpu) (3.7.1)\n",
            "Requirement already satisfied: exceptiongroup in /usr/local/lib/python3.10/dist-packages (from anyio<5.0,>=3.0->httpcore<0.18.0,>=0.15.0->httpx->paddlepaddle-gpu) (1.1.2)\n",
            "Installing collected packages: paddle-bfloat, h11, astor, httpcore, httpx, paddlepaddle-gpu\n",
            "Successfully installed astor-0.8.1 h11-0.14.0 httpcore-0.17.3 httpx-0.24.1 paddle-bfloat-0.1.7 paddlepaddle-gpu-2.5.0\n"
          ]
        }
      ]
    },
    {
      "cell_type": "code",
      "source": [
        "!pip install \"paddleocr>=2.0.1\""
      ],
      "metadata": {
        "id": "lem2q4bzK7qk",
        "colab": {
          "base_uri": "https://localhost:8080/"
        },
        "outputId": "11b1fd4e-5961-43fe-f855-427d00393c6d"
      },
      "execution_count": 5,
      "outputs": [
        {
          "output_type": "stream",
          "name": "stdout",
          "text": [
            "Collecting paddleocr>=2.0.1\n",
            "  Downloading paddleocr-2.6.1.3-py3-none-any.whl (445 kB)\n",
            "\u001b[?25l     \u001b[90m━━━━━━━━━━━━━━━━━━━━━━━━━━━━━━━━━━━━━━━━\u001b[0m \u001b[32m0.0/445.9 kB\u001b[0m \u001b[31m?\u001b[0m eta \u001b[36m-:--:--\u001b[0m\r\u001b[2K     \u001b[90m━━━━━━━━━━━━━━━━━━━━━━━━━━━━━━━━━━━━━━\u001b[0m \u001b[32m445.9/445.9 kB\u001b[0m \u001b[31m20.1 MB/s\u001b[0m eta \u001b[36m0:00:00\u001b[0m\n",
            "\u001b[?25hRequirement already satisfied: shapely in /usr/local/lib/python3.10/dist-packages (from paddleocr>=2.0.1) (2.0.1)\n",
            "Requirement already satisfied: scikit-image in /usr/local/lib/python3.10/dist-packages (from paddleocr>=2.0.1) (0.19.3)\n",
            "Requirement already satisfied: imgaug in /usr/local/lib/python3.10/dist-packages (from paddleocr>=2.0.1) (0.4.0)\n",
            "Collecting pyclipper (from paddleocr>=2.0.1)\n",
            "  Downloading pyclipper-1.3.0.post4-cp310-cp310-manylinux_2_12_x86_64.manylinux2010_x86_64.whl (813 kB)\n",
            "\u001b[2K     \u001b[90m━━━━━━━━━━━━━━━━━━━━━━━━━━━━━━━━━━━━━━\u001b[0m \u001b[32m813.9/813.9 kB\u001b[0m \u001b[31m49.2 MB/s\u001b[0m eta \u001b[36m0:00:00\u001b[0m\n",
            "\u001b[?25hCollecting lmdb (from paddleocr>=2.0.1)\n",
            "  Downloading lmdb-1.4.1-cp310-cp310-manylinux_2_17_x86_64.manylinux2014_x86_64.whl (299 kB)\n",
            "\u001b[2K     \u001b[90m━━━━━━━━━━━━━━━━━━━━━━━━━━━━━━━━━━━━━━\u001b[0m \u001b[32m299.2/299.2 kB\u001b[0m \u001b[31m31.4 MB/s\u001b[0m eta \u001b[36m0:00:00\u001b[0m\n",
            "\u001b[?25hRequirement already satisfied: tqdm in /usr/local/lib/python3.10/dist-packages (from paddleocr>=2.0.1) (4.65.0)\n",
            "Requirement already satisfied: numpy in /usr/local/lib/python3.10/dist-packages (from paddleocr>=2.0.1) (1.22.4)\n",
            "Collecting visualdl (from paddleocr>=2.0.1)\n",
            "  Downloading visualdl-2.5.3-py3-none-any.whl (6.3 MB)\n",
            "\u001b[2K     \u001b[90m━━━━━━━━━━━━━━━━━━━━━━━━━━━━━━━━━━━━━━━━\u001b[0m \u001b[32m6.3/6.3 MB\u001b[0m \u001b[31m52.1 MB/s\u001b[0m eta \u001b[36m0:00:00\u001b[0m\n",
            "\u001b[?25hCollecting rapidfuzz (from paddleocr>=2.0.1)\n",
            "  Downloading rapidfuzz-3.1.1-cp310-cp310-manylinux_2_17_x86_64.manylinux2014_x86_64.whl (3.1 MB)\n",
            "\u001b[2K     \u001b[90m━━━━━━━━━━━━━━━━━━━━━━━━━━━━━━━━━━━━━━━━\u001b[0m \u001b[32m3.1/3.1 MB\u001b[0m \u001b[31m76.5 MB/s\u001b[0m eta \u001b[36m0:00:00\u001b[0m\n",
            "\u001b[?25hCollecting opencv-python<=4.6.0.66 (from paddleocr>=2.0.1)\n",
            "  Downloading opencv_python-4.6.0.66-cp36-abi3-manylinux_2_17_x86_64.manylinux2014_x86_64.whl (60.9 MB)\n",
            "\u001b[2K     \u001b[90m━━━━━━━━━━━━━━━━━━━━━━━━━━━━━━━━━━━━━━━━\u001b[0m \u001b[32m60.9/60.9 MB\u001b[0m \u001b[31m9.2 MB/s\u001b[0m eta \u001b[36m0:00:00\u001b[0m\n",
            "\u001b[?25hCollecting opencv-contrib-python<=4.6.0.66 (from paddleocr>=2.0.1)\n",
            "  Downloading opencv_contrib_python-4.6.0.66-cp36-abi3-manylinux_2_17_x86_64.manylinux2014_x86_64.whl (67.1 MB)\n",
            "\u001b[2K     \u001b[90m━━━━━━━━━━━━━━━━━━━━━━━━━━━━━━━━━━━━━━━━\u001b[0m \u001b[32m67.1/67.1 MB\u001b[0m \u001b[31m9.9 MB/s\u001b[0m eta \u001b[36m0:00:00\u001b[0m\n",
            "\u001b[?25hRequirement already satisfied: cython in /usr/local/lib/python3.10/dist-packages (from paddleocr>=2.0.1) (0.29.36)\n",
            "Requirement already satisfied: lxml in /usr/local/lib/python3.10/dist-packages (from paddleocr>=2.0.1) (4.9.3)\n",
            "Collecting premailer (from paddleocr>=2.0.1)\n",
            "  Downloading premailer-3.10.0-py2.py3-none-any.whl (19 kB)\n",
            "Requirement already satisfied: openpyxl in /usr/local/lib/python3.10/dist-packages (from paddleocr>=2.0.1) (3.0.10)\n",
            "Collecting attrdict (from paddleocr>=2.0.1)\n",
            "  Downloading attrdict-2.0.1-py2.py3-none-any.whl (9.9 kB)\n",
            "Collecting PyMuPDF<1.21.0 (from paddleocr>=2.0.1)\n",
            "  Downloading PyMuPDF-1.20.2-cp310-cp310-manylinux_2_17_x86_64.manylinux2014_x86_64.whl (8.9 MB)\n",
            "\u001b[2K     \u001b[90m━━━━━━━━━━━━━━━━━━━━━━━━━━━━━━━━━━━━━━━━\u001b[0m \u001b[32m8.9/8.9 MB\u001b[0m \u001b[31m58.5 MB/s\u001b[0m eta \u001b[36m0:00:00\u001b[0m\n",
            "\u001b[?25hCollecting python-docx (from paddleocr>=2.0.1)\n",
            "  Downloading python-docx-0.8.11.tar.gz (5.6 MB)\n",
            "\u001b[2K     \u001b[90m━━━━━━━━━━━━━━━━━━━━━━━━━━━━━━━━━━━━━━━━\u001b[0m \u001b[32m5.6/5.6 MB\u001b[0m \u001b[31m74.2 MB/s\u001b[0m eta \u001b[36m0:00:00\u001b[0m\n",
            "\u001b[?25h  Preparing metadata (setup.py) ... \u001b[?25l\u001b[?25hdone\n",
            "Requirement already satisfied: beautifulsoup4 in /usr/local/lib/python3.10/dist-packages (from paddleocr>=2.0.1) (4.11.2)\n",
            "Requirement already satisfied: fonttools>=4.24.0 in /usr/local/lib/python3.10/dist-packages (from paddleocr>=2.0.1) (4.40.0)\n",
            "Collecting fire>=0.3.0 (from paddleocr>=2.0.1)\n",
            "  Downloading fire-0.5.0.tar.gz (88 kB)\n",
            "\u001b[2K     \u001b[90m━━━━━━━━━━━━━━━━━━━━━━━━━━━━━━━━━━━━━━━━\u001b[0m \u001b[32m88.3/88.3 kB\u001b[0m \u001b[31m11.1 MB/s\u001b[0m eta \u001b[36m0:00:00\u001b[0m\n",
            "\u001b[?25h  Preparing metadata (setup.py) ... \u001b[?25l\u001b[?25hdone\n",
            "Collecting pdf2docx (from paddleocr>=2.0.1)\n",
            "  Downloading pdf2docx-0.5.6-py3-none-any.whl (148 kB)\n",
            "\u001b[2K     \u001b[90m━━━━━━━━━━━━━━━━━━━━━━━━━━━━━━━━━━━━━━\u001b[0m \u001b[32m148.4/148.4 kB\u001b[0m \u001b[31m16.7 MB/s\u001b[0m eta \u001b[36m0:00:00\u001b[0m\n",
            "\u001b[?25hRequirement already satisfied: six in /usr/local/lib/python3.10/dist-packages (from fire>=0.3.0->paddleocr>=2.0.1) (1.16.0)\n",
            "Requirement already satisfied: termcolor in /usr/local/lib/python3.10/dist-packages (from fire>=0.3.0->paddleocr>=2.0.1) (2.3.0)\n",
            "Requirement already satisfied: soupsieve>1.2 in /usr/local/lib/python3.10/dist-packages (from beautifulsoup4->paddleocr>=2.0.1) (2.4.1)\n",
            "Requirement already satisfied: scipy in /usr/local/lib/python3.10/dist-packages (from imgaug->paddleocr>=2.0.1) (1.10.1)\n",
            "Requirement already satisfied: Pillow in /usr/local/lib/python3.10/dist-packages (from imgaug->paddleocr>=2.0.1) (8.4.0)\n",
            "Requirement already satisfied: matplotlib in /usr/local/lib/python3.10/dist-packages (from imgaug->paddleocr>=2.0.1) (3.7.1)\n",
            "Requirement already satisfied: imageio in /usr/local/lib/python3.10/dist-packages (from imgaug->paddleocr>=2.0.1) (2.25.1)\n",
            "Requirement already satisfied: networkx>=2.2 in /usr/local/lib/python3.10/dist-packages (from scikit-image->paddleocr>=2.0.1) (3.1)\n",
            "Requirement already satisfied: tifffile>=2019.7.26 in /usr/local/lib/python3.10/dist-packages (from scikit-image->paddleocr>=2.0.1) (2023.7.10)\n",
            "Requirement already satisfied: PyWavelets>=1.1.1 in /usr/local/lib/python3.10/dist-packages (from scikit-image->paddleocr>=2.0.1) (1.4.1)\n",
            "Requirement already satisfied: packaging>=20.0 in /usr/local/lib/python3.10/dist-packages (from scikit-image->paddleocr>=2.0.1) (23.1)\n",
            "Requirement already satisfied: et-xmlfile in /usr/local/lib/python3.10/dist-packages (from openpyxl->paddleocr>=2.0.1) (1.1.0)\n",
            "Collecting cssselect (from premailer->paddleocr>=2.0.1)\n",
            "  Downloading cssselect-1.2.0-py2.py3-none-any.whl (18 kB)\n",
            "Collecting cssutils (from premailer->paddleocr>=2.0.1)\n",
            "  Downloading cssutils-2.7.1-py3-none-any.whl (399 kB)\n",
            "\u001b[2K     \u001b[90m━━━━━━━━━━━━━━━━━━━━━━━━━━━━━━━━━━━━━━\u001b[0m \u001b[32m399.7/399.7 kB\u001b[0m \u001b[31m29.6 MB/s\u001b[0m eta \u001b[36m0:00:00\u001b[0m\n",
            "\u001b[?25hRequirement already satisfied: requests in /usr/local/lib/python3.10/dist-packages (from premailer->paddleocr>=2.0.1) (2.27.1)\n",
            "Requirement already satisfied: cachetools in /usr/local/lib/python3.10/dist-packages (from premailer->paddleocr>=2.0.1) (5.3.1)\n",
            "Collecting bce-python-sdk (from visualdl->paddleocr>=2.0.1)\n",
            "  Downloading bce_python_sdk-0.8.87-py3-none-any.whl (231 kB)\n",
            "\u001b[2K     \u001b[90m━━━━━━━━━━━━━━━━━━━━━━━━━━━━━━━━━━━━━━\u001b[0m \u001b[32m231.3/231.3 kB\u001b[0m \u001b[31m24.6 MB/s\u001b[0m eta \u001b[36m0:00:00\u001b[0m\n",
            "\u001b[?25hRequirement already satisfied: flask>=1.1.1 in /usr/local/lib/python3.10/dist-packages (from visualdl->paddleocr>=2.0.1) (2.2.5)\n",
            "Collecting Flask-Babel>=3.0.0 (from visualdl->paddleocr>=2.0.1)\n",
            "  Downloading flask_babel-3.1.0-py3-none-any.whl (9.6 kB)\n",
            "Requirement already satisfied: protobuf>=3.20.0 in /usr/local/lib/python3.10/dist-packages (from visualdl->paddleocr>=2.0.1) (3.20.3)\n",
            "Requirement already satisfied: pandas in /usr/local/lib/python3.10/dist-packages (from visualdl->paddleocr>=2.0.1) (1.5.3)\n",
            "Collecting rarfile (from visualdl->paddleocr>=2.0.1)\n",
            "  Downloading rarfile-4.0-py3-none-any.whl (28 kB)\n",
            "Requirement already satisfied: psutil in /usr/local/lib/python3.10/dist-packages (from visualdl->paddleocr>=2.0.1) (5.9.5)\n",
            "Requirement already satisfied: Werkzeug>=2.2.2 in /usr/local/lib/python3.10/dist-packages (from flask>=1.1.1->visualdl->paddleocr>=2.0.1) (2.3.6)\n",
            "Requirement already satisfied: Jinja2>=3.0 in /usr/local/lib/python3.10/dist-packages (from flask>=1.1.1->visualdl->paddleocr>=2.0.1) (3.1.2)\n",
            "Requirement already satisfied: itsdangerous>=2.0 in /usr/local/lib/python3.10/dist-packages (from flask>=1.1.1->visualdl->paddleocr>=2.0.1) (2.1.2)\n",
            "Requirement already satisfied: click>=8.0 in /usr/local/lib/python3.10/dist-packages (from flask>=1.1.1->visualdl->paddleocr>=2.0.1) (8.1.4)\n",
            "Requirement already satisfied: Babel>=2.12 in /usr/local/lib/python3.10/dist-packages (from Flask-Babel>=3.0.0->visualdl->paddleocr>=2.0.1) (2.12.1)\n",
            "Requirement already satisfied: pytz>=2022.7 in /usr/local/lib/python3.10/dist-packages (from Flask-Babel>=3.0.0->visualdl->paddleocr>=2.0.1) (2022.7.1)\n",
            "Collecting pycryptodome>=3.8.0 (from bce-python-sdk->visualdl->paddleocr>=2.0.1)\n",
            "  Downloading pycryptodome-3.18.0-cp35-abi3-manylinux_2_17_x86_64.manylinux2014_x86_64.whl (2.1 MB)\n",
            "\u001b[2K     \u001b[90m━━━━━━━━━━━━━━━━━━━━━━━━━━━━━━━━━━━━━━━━\u001b[0m \u001b[32m2.1/2.1 MB\u001b[0m \u001b[31m27.9 MB/s\u001b[0m eta \u001b[36m0:00:00\u001b[0m\n",
            "\u001b[?25hRequirement already satisfied: future>=0.6.0 in /usr/local/lib/python3.10/dist-packages (from bce-python-sdk->visualdl->paddleocr>=2.0.1) (0.18.3)\n",
            "Requirement already satisfied: contourpy>=1.0.1 in /usr/local/lib/python3.10/dist-packages (from matplotlib->imgaug->paddleocr>=2.0.1) (1.1.0)\n",
            "Requirement already satisfied: cycler>=0.10 in /usr/local/lib/python3.10/dist-packages (from matplotlib->imgaug->paddleocr>=2.0.1) (0.11.0)\n",
            "Requirement already satisfied: kiwisolver>=1.0.1 in /usr/local/lib/python3.10/dist-packages (from matplotlib->imgaug->paddleocr>=2.0.1) (1.4.4)\n",
            "Requirement already satisfied: pyparsing>=2.3.1 in /usr/local/lib/python3.10/dist-packages (from matplotlib->imgaug->paddleocr>=2.0.1) (3.1.0)\n",
            "Requirement already satisfied: python-dateutil>=2.7 in /usr/local/lib/python3.10/dist-packages (from matplotlib->imgaug->paddleocr>=2.0.1) (2.8.2)\n",
            "Requirement already satisfied: urllib3<1.27,>=1.21.1 in /usr/local/lib/python3.10/dist-packages (from requests->premailer->paddleocr>=2.0.1) (1.26.16)\n",
            "Requirement already satisfied: certifi>=2017.4.17 in /usr/local/lib/python3.10/dist-packages (from requests->premailer->paddleocr>=2.0.1) (2023.5.7)\n",
            "Requirement already satisfied: charset-normalizer~=2.0.0 in /usr/local/lib/python3.10/dist-packages (from requests->premailer->paddleocr>=2.0.1) (2.0.12)\n",
            "Requirement already satisfied: idna<4,>=2.5 in /usr/local/lib/python3.10/dist-packages (from requests->premailer->paddleocr>=2.0.1) (3.4)\n",
            "Requirement already satisfied: MarkupSafe>=2.0 in /usr/local/lib/python3.10/dist-packages (from Jinja2>=3.0->flask>=1.1.1->visualdl->paddleocr>=2.0.1) (2.1.3)\n",
            "Building wheels for collected packages: fire, python-docx\n",
            "  Building wheel for fire (setup.py) ... \u001b[?25l\u001b[?25hdone\n",
            "  Created wheel for fire: filename=fire-0.5.0-py2.py3-none-any.whl size=116932 sha256=a7569467d8fb2ae1733bd52e9f09e97e391056df6a60d3dd8b7f093325c3786d\n",
            "  Stored in directory: /root/.cache/pip/wheels/90/d4/f7/9404e5db0116bd4d43e5666eaa3e70ab53723e1e3ea40c9a95\n",
            "  Building wheel for python-docx (setup.py) ... \u001b[?25l\u001b[?25hdone\n",
            "  Created wheel for python-docx: filename=python_docx-0.8.11-py3-none-any.whl size=184491 sha256=e63fc5b2a3390f2b49f68baa4471246062bf3bc128b0a993258e37566c298a63\n",
            "  Stored in directory: /root/.cache/pip/wheels/80/27/06/837436d4c3bd989b957a91679966f207bfd71d358d63a8194d\n",
            "Successfully built fire python-docx\n",
            "Installing collected packages: rarfile, pyclipper, lmdb, rapidfuzz, python-docx, PyMuPDF, pycryptodome, opencv-python, opencv-contrib-python, fire, cssutils, cssselect, attrdict, premailer, pdf2docx, bce-python-sdk, Flask-Babel, visualdl, paddleocr\n",
            "  Attempting uninstall: opencv-python\n",
            "    Found existing installation: opencv-python 4.7.0.72\n",
            "    Uninstalling opencv-python-4.7.0.72:\n",
            "      Successfully uninstalled opencv-python-4.7.0.72\n",
            "  Attempting uninstall: opencv-contrib-python\n",
            "    Found existing installation: opencv-contrib-python 4.7.0.72\n",
            "    Uninstalling opencv-contrib-python-4.7.0.72:\n",
            "      Successfully uninstalled opencv-contrib-python-4.7.0.72\n",
            "Successfully installed Flask-Babel-3.1.0 PyMuPDF-1.20.2 attrdict-2.0.1 bce-python-sdk-0.8.87 cssselect-1.2.0 cssutils-2.7.1 fire-0.5.0 lmdb-1.4.1 opencv-contrib-python-4.6.0.66 opencv-python-4.6.0.66 paddleocr-2.6.1.3 pdf2docx-0.5.6 premailer-3.10.0 pyclipper-1.3.0.post4 pycryptodome-3.18.0 python-docx-0.8.11 rapidfuzz-3.1.1 rarfile-4.0 visualdl-2.5.3\n"
          ]
        }
      ]
    },
    {
      "cell_type": "markdown",
      "source": [
        " ### Conversion"
      ],
      "metadata": {
        "id": "-I2TYcyGEBx1"
      }
    },
    {
      "cell_type": "code",
      "source": [
        "from pdf2image import convert_from_path"
      ],
      "metadata": {
        "id": "jLTNww1SEEaH"
      },
      "execution_count": 6,
      "outputs": []
    },
    {
      "cell_type": "code",
      "source": [
        "!wget https://paddleocr.bj.bcebos.com/whl/layoutparser-0.0.0-py3-none-any.whl\n",
        "!pip install -U layoutparser-0.0.0-py3-none-any.whl"
      ],
      "metadata": {
        "id": "hrNnaGijEYgV",
        "colab": {
          "base_uri": "https://localhost:8080/"
        },
        "outputId": "9f06843f-b60f-4142-ab82-165d33e238b0"
      },
      "execution_count": 7,
      "outputs": [
        {
          "output_type": "stream",
          "name": "stdout",
          "text": [
            "--2023-07-16 15:25:01--  https://paddleocr.bj.bcebos.com/whl/layoutparser-0.0.0-py3-none-any.whl\n",
            "Resolving paddleocr.bj.bcebos.com (paddleocr.bj.bcebos.com)... 103.235.46.61, 2409:8c04:1001:1002:0:ff:b001:368a\n",
            "Connecting to paddleocr.bj.bcebos.com (paddleocr.bj.bcebos.com)|103.235.46.61|:443... connected.\n",
            "HTTP request sent, awaiting response... 200 OK\n",
            "Length: 19145360 (18M) [application/octet-stream]\n",
            "Saving to: ‘layoutparser-0.0.0-py3-none-any.whl’\n",
            "\n",
            "layoutparser-0.0.0- 100%[===================>]  18.26M  4.59MB/s    in 6.2s    \n",
            "\n",
            "2023-07-16 15:25:08 (2.95 MB/s) - ‘layoutparser-0.0.0-py3-none-any.whl’ saved [19145360/19145360]\n",
            "\n",
            "Processing ./layoutparser-0.0.0-py3-none-any.whl\n",
            "Requirement already satisfied: numpy in /usr/local/lib/python3.10/dist-packages (from layoutparser==0.0.0) (1.22.4)\n",
            "Requirement already satisfied: opencv-python in /usr/local/lib/python3.10/dist-packages (from layoutparser==0.0.0) (4.6.0.66)\n",
            "Requirement already satisfied: pandas in /usr/local/lib/python3.10/dist-packages (from layoutparser==0.0.0) (1.5.3)\n",
            "Requirement already satisfied: pillow in /usr/local/lib/python3.10/dist-packages (from layoutparser==0.0.0) (8.4.0)\n",
            "Requirement already satisfied: pyyaml>=5.1 in /usr/local/lib/python3.10/dist-packages (from layoutparser==0.0.0) (6.0)\n",
            "Collecting iopath (from layoutparser==0.0.0)\n",
            "  Downloading iopath-0.1.10.tar.gz (42 kB)\n",
            "\u001b[2K     \u001b[90m━━━━━━━━━━━━━━━━━━━━━━━━━━━━━━━━━━━━━━━━\u001b[0m \u001b[32m42.2/42.2 kB\u001b[0m \u001b[31m4.6 MB/s\u001b[0m eta \u001b[36m0:00:00\u001b[0m\n",
            "\u001b[?25h  Preparing metadata (setup.py) ... \u001b[?25l\u001b[?25hdone\n",
            "Requirement already satisfied: tqdm in /usr/local/lib/python3.10/dist-packages (from layoutparser==0.0.0) (4.65.0)\n",
            "Requirement already satisfied: typing_extensions in /usr/local/lib/python3.10/dist-packages (from iopath->layoutparser==0.0.0) (4.7.1)\n",
            "Collecting portalocker (from iopath->layoutparser==0.0.0)\n",
            "  Downloading portalocker-2.7.0-py2.py3-none-any.whl (15 kB)\n",
            "Requirement already satisfied: python-dateutil>=2.8.1 in /usr/local/lib/python3.10/dist-packages (from pandas->layoutparser==0.0.0) (2.8.2)\n",
            "Requirement already satisfied: pytz>=2020.1 in /usr/local/lib/python3.10/dist-packages (from pandas->layoutparser==0.0.0) (2022.7.1)\n",
            "Requirement already satisfied: six>=1.5 in /usr/local/lib/python3.10/dist-packages (from python-dateutil>=2.8.1->pandas->layoutparser==0.0.0) (1.16.0)\n",
            "Building wheels for collected packages: iopath\n",
            "  Building wheel for iopath (setup.py) ... \u001b[?25l\u001b[?25hdone\n",
            "  Created wheel for iopath: filename=iopath-0.1.10-py3-none-any.whl size=31531 sha256=3eeda1cf0a9efeeaffa3a66a202c8e5652614012973cd433e7bd09acffcbc103\n",
            "  Stored in directory: /root/.cache/pip/wheels/9a/a3/b6/ac0fcd1b4ed5cfeb3db92e6a0e476cfd48ed0df92b91080c1d\n",
            "Successfully built iopath\n",
            "Installing collected packages: portalocker, iopath, layoutparser\n",
            "Successfully installed iopath-0.1.10 layoutparser-0.0.0 portalocker-2.7.0\n"
          ]
        }
      ]
    },
    {
      "cell_type": "code",
      "source": [
        "!pip install protobuf==3.20.1\n",
        "\n"
      ],
      "metadata": {
        "id": "86c9XlMbLQs7",
        "colab": {
          "base_uri": "https://localhost:8080/",
          "height": 564
        },
        "outputId": "514d2d84-5364-4c55-e291-d453e59effcf"
      },
      "execution_count": 8,
      "outputs": [
        {
          "output_type": "stream",
          "name": "stdout",
          "text": [
            "Collecting protobuf==3.20.1\n",
            "  Downloading protobuf-3.20.1-cp310-cp310-manylinux_2_12_x86_64.manylinux2010_x86_64.whl (1.1 MB)\n",
            "\u001b[?25l     \u001b[90m━━━━━━━━━━━━━━━━━━━━━━━━━━━━━━━━━━━━━━━━\u001b[0m \u001b[32m0.0/1.1 MB\u001b[0m \u001b[31m?\u001b[0m eta \u001b[36m-:--:--\u001b[0m\r\u001b[2K     \u001b[90m━━━━━━━━━━━━━━━━━━━━━━━━━━━━━━━━━━━━━━━━\u001b[0m \u001b[32m1.1/1.1 MB\u001b[0m \u001b[31m37.6 MB/s\u001b[0m eta \u001b[36m0:00:00\u001b[0m\n",
            "\u001b[?25hInstalling collected packages: protobuf\n",
            "  Attempting uninstall: protobuf\n",
            "    Found existing installation: protobuf 3.20.3\n",
            "    Uninstalling protobuf-3.20.3:\n",
            "      Successfully uninstalled protobuf-3.20.3\n",
            "\u001b[31mERROR: pip's dependency resolver does not currently take into account all the packages that are installed. This behaviour is the source of the following dependency conflicts.\n",
            "google-api-core 2.11.1 requires protobuf!=3.20.0,!=3.20.1,!=4.21.0,!=4.21.1,!=4.21.2,!=4.21.3,!=4.21.4,!=4.21.5,<5.0.0.dev0,>=3.19.5, but you have protobuf 3.20.1 which is incompatible.\n",
            "google-cloud-bigquery 3.10.0 requires protobuf!=3.20.0,!=3.20.1,!=4.21.0,!=4.21.1,!=4.21.2,!=4.21.3,!=4.21.4,!=4.21.5,<5.0.0dev,>=3.19.5, but you have protobuf 3.20.1 which is incompatible.\n",
            "google-cloud-bigquery-connection 1.12.1 requires protobuf!=3.20.0,!=3.20.1,!=4.21.0,!=4.21.1,!=4.21.2,!=4.21.3,!=4.21.4,!=4.21.5,<5.0.0dev,>=3.19.5, but you have protobuf 3.20.1 which is incompatible.\n",
            "google-cloud-bigquery-storage 2.22.0 requires protobuf!=3.20.0,!=3.20.1,!=4.21.0,!=4.21.1,!=4.21.2,!=4.21.3,!=4.21.4,!=4.21.5,<5.0.0dev,>=3.19.5, but you have protobuf 3.20.1 which is incompatible.\n",
            "google-cloud-datastore 2.15.2 requires protobuf!=3.20.0,!=3.20.1,!=4.21.0,!=4.21.1,!=4.21.2,!=4.21.3,!=4.21.4,!=4.21.5,<5.0.0dev,>=3.19.5, but you have protobuf 3.20.1 which is incompatible.\n",
            "google-cloud-firestore 2.11.1 requires protobuf!=3.20.0,!=3.20.1,!=4.21.0,!=4.21.1,!=4.21.2,!=4.21.3,!=4.21.4,!=4.21.5,<5.0.0dev,>=3.19.5, but you have protobuf 3.20.1 which is incompatible.\n",
            "google-cloud-functions 1.13.1 requires protobuf!=3.20.0,!=3.20.1,!=4.21.0,!=4.21.1,!=4.21.2,!=4.21.3,!=4.21.4,!=4.21.5,<5.0.0dev,>=3.19.5, but you have protobuf 3.20.1 which is incompatible.\n",
            "google-cloud-language 2.9.1 requires protobuf!=3.20.0,!=3.20.1,!=4.21.0,!=4.21.1,!=4.21.2,!=4.21.3,!=4.21.4,!=4.21.5,<5.0.0dev,>=3.19.5, but you have protobuf 3.20.1 which is incompatible.\n",
            "google-cloud-translate 3.11.2 requires protobuf!=3.20.0,!=3.20.1,!=4.21.0,!=4.21.1,!=4.21.2,!=4.21.3,!=4.21.4,!=4.21.5,<5.0.0dev,>=3.19.5, but you have protobuf 3.20.1 which is incompatible.\n",
            "googleapis-common-protos 1.59.1 requires protobuf!=3.20.0,!=3.20.1,!=4.21.1,!=4.21.2,!=4.21.3,!=4.21.4,!=4.21.5,<5.0.0.dev0,>=3.19.5, but you have protobuf 3.20.1 which is incompatible.\n",
            "grpc-google-iam-v1 0.12.6 requires protobuf!=3.20.0,!=3.20.1,!=4.21.1,!=4.21.2,!=4.21.3,!=4.21.4,!=4.21.5,<5.0.0dev,>=3.19.5, but you have protobuf 3.20.1 which is incompatible.\n",
            "paddlepaddle-gpu 2.5.0 requires protobuf>=3.20.2; platform_system != \"Windows\", but you have protobuf 3.20.1 which is incompatible.\n",
            "tensorflow 2.12.0 requires protobuf!=4.21.0,!=4.21.1,!=4.21.2,!=4.21.3,!=4.21.4,!=4.21.5,<5.0.0dev,>=3.20.3, but you have protobuf 3.20.1 which is incompatible.\n",
            "tensorflow-metadata 1.13.1 requires protobuf<5,>=3.20.3, but you have protobuf 3.20.1 which is incompatible.\u001b[0m\u001b[31m\n",
            "\u001b[0mSuccessfully installed protobuf-3.20.1\n"
          ]
        },
        {
          "output_type": "display_data",
          "data": {
            "application/vnd.colab-display-data+json": {
              "pip_warning": {
                "packages": [
                  "google"
                ]
              }
            }
          },
          "metadata": {}
        }
      ]
    },
    {
      "cell_type": "code",
      "source": [
        "!git clone https://github.com/PaddlePaddle/PaddleOCR.git"
      ],
      "metadata": {
        "id": "kLU6qvtwLq1q",
        "colab": {
          "base_uri": "https://localhost:8080/"
        },
        "outputId": "d999412a-c672-4264-b0d6-feded768ce0e"
      },
      "execution_count": 9,
      "outputs": [
        {
          "output_type": "stream",
          "name": "stdout",
          "text": [
            "Cloning into 'PaddleOCR'...\n",
            "remote: Enumerating objects: 46673, done.\u001b[K\n",
            "remote: Counting objects: 100% (524/524), done.\u001b[K\n",
            "remote: Compressing objects: 100% (352/352), done.\u001b[K\n",
            "remote: Total 46673 (delta 290), reused 330 (delta 166), pack-reused 46149\u001b[K\n",
            "Receiving objects: 100% (46673/46673), 343.02 MiB | 15.60 MiB/s, done.\n",
            "Resolving deltas: 100% (32710/32710), done.\n",
            "Updating files: 100% (1621/1621), done.\n"
          ]
        }
      ]
    },
    {
      "cell_type": "code",
      "source": [
        "import cv2\n",
        "import layoutparser as lp\n",
        "\n",
        "image = cv2.imread(\"/content/text.jpg\")\n",
        "image = image[..., ::-1]\n",
        "\n",
        "# Load model\n",
        "model = lp.PaddleDetectionLayoutModel(\n",
        "    config_path=\"lp://PubLayNet/ppyolov2_r50vd_dcn_365e_publaynet/config\",\n",
        "    threshold=0.5,\n",
        "    label_map={0: \"Text\", 1: \"Title\", 2: \"List\", 3: \"Table\", 4: \"Figure\"},\n",
        "    enforce_cpu=True,\n",
        "    enable_mkldnn=True\n",
        ")\n",
        "\n",
        "# Detect layout\n",
        "layout = model.detect(image)\n"
      ],
      "metadata": {
        "id": "ZN1vbGjnH2BY",
        "colab": {
          "base_uri": "https://localhost:8080/"
        },
        "outputId": "9adba9d5-c142-4c19-ee57-09dc1657e31d"
      },
      "execution_count": 10,
      "outputs": [
        {
          "output_type": "stream",
          "name": "stdout",
          "text": [
            "download https://paddle-model-ecology.bj.bcebos.com/model/layout-parser/ppyolov2_r50vd_dcn_365e_publaynet.tar to /root/.paddledet/inference_model/ppyolov2_r50vd_dcn_365e_publaynet/ppyolov2_r50vd_dcn_365e_publaynet_infer/ppyolov2_r50vd_dcn_365e_publaynet.tar\n"
          ]
        },
        {
          "output_type": "stream",
          "name": "stderr",
          "text": [
            "100%|██████████| 221M/221M [00:19<00:00, 11.4MiB/s]\n"
          ]
        }
      ]
    },
    {
      "cell_type": "code",
      "source": [
        "layout"
      ],
      "metadata": {
        "id": "xLt3fwHGKnJw",
        "colab": {
          "base_uri": "https://localhost:8080/"
        },
        "outputId": "9210c314-8727-45c2-8d10-98d4bc9a78ba"
      },
      "execution_count": 11,
      "outputs": [
        {
          "output_type": "execute_result",
          "data": {
            "text/plain": [
              "Layout(_blocks=[TextBlock(block=Rectangle(x_1=12.50677490234375, y_1=8.87274169921875, x_2=952.9942016601562, y_2=1278.94970703125), text=None, id=None, type=Figure, parent=None, next=None, score=0.8873429894447327), TextBlock(block=Rectangle(x_1=16.26580810546875, y_1=4.249237060546875, x_2=949.16650390625, y_2=733.8682861328125), text=None, id=None, type=Table, parent=None, next=None, score=0.7512048482894897), TextBlock(block=Rectangle(x_1=22.87578582763672, y_1=753.29736328125, x_2=194.617431640625, y_2=773.2330322265625), text=None, id=None, type=Text, parent=None, next=None, score=0.6823875308036804)], page_data={})"
            ]
          },
          "metadata": {},
          "execution_count": 11
        }
      ]
    },
    {
      "cell_type": "code",
      "source": [
        "x_1=17.41717529296875\n",
        "y_1=7.793701171875\n",
        "\n",
        "x_2=959.0\n",
        "y_2=1279.0"
      ],
      "metadata": {
        "id": "7Zb8gzP2M7G2"
      },
      "execution_count": 12,
      "outputs": []
    },
    {
      "cell_type": "code",
      "source": [
        "for l in layout:\n",
        "  if l.type == 'Table':\n",
        "    x_1 = int(l.block.x_1)\n",
        "    y_1 = int(l.block.y_1)\n",
        "\n",
        "    x_2 = int(l.block.x_2)\n",
        "    y_2 = int(l.block.y_2)\n",
        "    # print(l.block.x_1)\n",
        "    break\n"
      ],
      "metadata": {
        "id": "_1uh9e0bR5UN"
      },
      "execution_count": 13,
      "outputs": []
    },
    {
      "cell_type": "code",
      "source": [
        "# ?l.block"
      ],
      "metadata": {
        "id": "n2hfVdh_SKX7"
      },
      "execution_count": 14,
      "outputs": []
    },
    {
      "cell_type": "code",
      "source": [
        "print(x_1,y_1, x_2, y_2)"
      ],
      "metadata": {
        "id": "ff3keupiSkV1",
        "colab": {
          "base_uri": "https://localhost:8080/"
        },
        "outputId": "743d8dba-0e3b-408e-faf6-b53c5cba9065"
      },
      "execution_count": 15,
      "outputs": [
        {
          "output_type": "stream",
          "name": "stdout",
          "text": [
            "16 4 949 733\n"
          ]
        }
      ]
    },
    {
      "cell_type": "code",
      "source": [
        "img = cv2.imread('/content/text.jpg')"
      ],
      "metadata": {
        "id": "FC8AoFdkTb7k"
      },
      "execution_count": 16,
      "outputs": []
    },
    {
      "cell_type": "code",
      "source": [
        "\n",
        "cv2.imwrite('ext_im.jpg', img[y_1:y_2, x_1:x_2])"
      ],
      "metadata": {
        "id": "cAuXh403Tk_0",
        "colab": {
          "base_uri": "https://localhost:8080/"
        },
        "outputId": "d77c36d5-a298-45dd-be0a-5a19021026f7"
      },
      "execution_count": 17,
      "outputs": [
        {
          "output_type": "execute_result",
          "data": {
            "text/plain": [
              "True"
            ]
          },
          "metadata": {},
          "execution_count": 17
        }
      ]
    },
    {
      "cell_type": "markdown",
      "source": [
        "### Text dectection and recognition"
      ],
      "metadata": {
        "id": "k0yFgNatVKyY"
      }
    },
    {
      "cell_type": "code",
      "source": [
        "from paddleocr import PaddleOCR, draw_ocr"
      ],
      "metadata": {
        "id": "EKL73cTxUGWe"
      },
      "execution_count": 18,
      "outputs": []
    },
    {
      "cell_type": "code",
      "source": [
        "ocr = PaddleOCR(lang='en')"
      ],
      "metadata": {
        "colab": {
          "base_uri": "https://localhost:8080/"
        },
        "id": "3LE1E_RaXFz9",
        "outputId": "fd3296d7-ae69-413b-d084-66e1b5334719"
      },
      "execution_count": 19,
      "outputs": [
        {
          "output_type": "stream",
          "name": "stdout",
          "text": [
            "download https://paddleocr.bj.bcebos.com/PP-OCRv3/english/en_PP-OCRv3_det_infer.tar to /root/.paddleocr/whl/det/en/en_PP-OCRv3_det_infer/en_PP-OCRv3_det_infer.tar\n"
          ]
        },
        {
          "output_type": "stream",
          "name": "stderr",
          "text": [
            "100%|██████████| 4.00M/4.00M [00:00<00:00, 5.03MiB/s]\n"
          ]
        },
        {
          "output_type": "stream",
          "name": "stdout",
          "text": [
            "download https://paddleocr.bj.bcebos.com/PP-OCRv3/english/en_PP-OCRv3_rec_infer.tar to /root/.paddleocr/whl/rec/en/en_PP-OCRv3_rec_infer/en_PP-OCRv3_rec_infer.tar\n"
          ]
        },
        {
          "output_type": "stream",
          "name": "stderr",
          "text": [
            "100%|██████████| 9.96M/9.96M [00:00<00:00, 10.1MiB/s]\n"
          ]
        },
        {
          "output_type": "stream",
          "name": "stdout",
          "text": [
            "download https://paddleocr.bj.bcebos.com/dygraph_v2.0/ch/ch_ppocr_mobile_v2.0_cls_infer.tar to /root/.paddleocr/whl/cls/ch_ppocr_mobile_v2.0_cls_infer/ch_ppocr_mobile_v2.0_cls_infer.tar\n"
          ]
        },
        {
          "output_type": "stream",
          "name": "stderr",
          "text": [
            "100%|██████████| 2.19M/2.19M [00:01<00:00, 1.62MiB/s]"
          ]
        },
        {
          "output_type": "stream",
          "name": "stdout",
          "text": [
            "[2023/07/16 15:26:35] ppocr DEBUG: Namespace(help='==SUPPRESS==', use_gpu=True, use_xpu=False, use_npu=False, ir_optim=True, use_tensorrt=False, min_subgraph_size=15, precision='fp32', gpu_mem=500, image_dir=None, page_num=0, det_algorithm='DB', det_model_dir='/root/.paddleocr/whl/det/en/en_PP-OCRv3_det_infer', det_limit_side_len=960, det_limit_type='max', det_box_type='quad', det_db_thresh=0.3, det_db_box_thresh=0.6, det_db_unclip_ratio=1.5, max_batch_size=10, use_dilation=False, det_db_score_mode='fast', det_east_score_thresh=0.8, det_east_cover_thresh=0.1, det_east_nms_thresh=0.2, det_sast_score_thresh=0.5, det_sast_nms_thresh=0.2, det_pse_thresh=0, det_pse_box_thresh=0.85, det_pse_min_area=16, det_pse_scale=1, scales=[8, 16, 32], alpha=1.0, beta=1.0, fourier_degree=5, rec_algorithm='SVTR_LCNet', rec_model_dir='/root/.paddleocr/whl/rec/en/en_PP-OCRv3_rec_infer', rec_image_inverse=True, rec_image_shape='3, 48, 320', rec_batch_num=6, max_text_length=25, rec_char_dict_path='/usr/local/lib/python3.10/dist-packages/paddleocr/ppocr/utils/en_dict.txt', use_space_char=True, vis_font_path='./doc/fonts/simfang.ttf', drop_score=0.5, e2e_algorithm='PGNet', e2e_model_dir=None, e2e_limit_side_len=768, e2e_limit_type='max', e2e_pgnet_score_thresh=0.5, e2e_char_dict_path='./ppocr/utils/ic15_dict.txt', e2e_pgnet_valid_set='totaltext', e2e_pgnet_mode='fast', use_angle_cls=False, cls_model_dir='/root/.paddleocr/whl/cls/ch_ppocr_mobile_v2.0_cls_infer', cls_image_shape='3, 48, 192', label_list=['0', '180'], cls_batch_num=6, cls_thresh=0.9, enable_mkldnn=False, cpu_threads=10, use_pdserving=False, warmup=False, sr_model_dir=None, sr_image_shape='3, 32, 128', sr_batch_num=1, draw_img_save_dir='./inference_results', save_crop_res=False, crop_res_save_dir='./output', use_mp=False, total_process_num=1, process_id=0, benchmark=False, save_log_path='./log_output/', show_log=True, use_onnx=False, output='./output', table_max_len=488, table_algorithm='TableAttn', table_model_dir=None, merge_no_span_structure=True, table_char_dict_path=None, layout_model_dir=None, layout_dict_path=None, layout_score_threshold=0.5, layout_nms_threshold=0.5, kie_algorithm='LayoutXLM', ser_model_dir=None, re_model_dir=None, use_visual_backbone=True, ser_dict_path='../train_data/XFUND/class_list_xfun.txt', ocr_order_method=None, mode='structure', image_orientation=False, layout=True, table=True, ocr=True, recovery=False, use_pdf2docx_api=False, lang='en', det=True, rec=True, type='ocr', ocr_version='PP-OCRv3', structure_version='PP-StructureV2')\n"
          ]
        },
        {
          "output_type": "stream",
          "name": "stderr",
          "text": [
            "\n"
          ]
        }
      ]
    },
    {
      "cell_type": "code",
      "source": [
        "\n",
        "image_path ='/content/ext_im.jpg'\n",
        "image_cv = cv2.imread(image_path)\n",
        "image_height = image_cv.shape[0]\n",
        "image_width = image_cv.shape[1]\n",
        "output = ocr.ocr(image_path)"
      ],
      "metadata": {
        "id": "TTM0HUK0VY0B",
        "colab": {
          "base_uri": "https://localhost:8080/"
        },
        "outputId": "6b94fe19-6290-4bea-e5cf-d6fcddec89b5"
      },
      "execution_count": 20,
      "outputs": [
        {
          "output_type": "stream",
          "name": "stdout",
          "text": [
            "[2023/07/16 15:26:39] ppocr WARNING: Since the angle classifier is not initialized, the angle classifier will not be uesd during the forward process\n",
            "[2023/07/16 15:26:47] ppocr DEBUG: dt_boxes num : 110, elapse : 7.979951858520508\n",
            "[2023/07/16 15:26:47] ppocr DEBUG: rec_res num  : 110, elapse : 0.29764413833618164\n"
          ]
        }
      ]
    },
    {
      "cell_type": "code",
      "source": [
        "print(output)"
      ],
      "metadata": {
        "id": "-3Sm00o4WXDm",
        "colab": {
          "base_uri": "https://localhost:8080/"
        },
        "outputId": "779c8c63-6afb-41bb-b140-c23692c12d95"
      },
      "execution_count": 21,
      "outputs": [
        {
          "output_type": "stream",
          "name": "stdout",
          "text": [
            "[[[[[1.0, 11.0], [84.0, 8.0], [85.0, 25.0], [1.0, 28.0]], ('10 12/07/2023', 0.9737287759780884)], [[[361.0, 5.0], [678.0, 0.0], [679.0, 14.0], [361.0, 21.0]], ('NVIDIA Corp Income statement | NVDA-Morningstar', 0.9427492618560791)], [[[0.0, 53.0], [273.0, 38.0], [275.0, 68.0], [2.0, 83.0]], ('NVIDIA Corp-NVDA /**', 0.9594489932060242)], [[[331.0, 45.0], [491.0, 40.0], [492.0, 54.0], [331.0, 59.0]], ('Bn Co CPA -Scor Dico-Mcng', 0.6956825852394104)], [[[1.0, 109.0], [136.0, 102.0], [137.0, 121.0], [2.0, 129.0]], ('Income Statement', 0.9648082852363586)], [[[487.0, 128.0], [521.0, 125.0], [522.0, 143.0], [489.0, 146.0]], ('2020', 0.9975672960281372)], [[[615.0, 124.0], [647.0, 121.0], [649.0, 139.0], [616.0, 142.0]], ('2021', 0.99715256690979)], [[[745.0, 120.0], [777.0, 120.0], [777.0, 139.0], [745.0, 139.0]], ('2022', 0.9746716618537903)], [[[871.0, 121.0], [901.0, 121.0], [901.0, 140.0], [871.0, 140.0]], ('2023', 0.9984397888183594)], [[[364.0, 132.0], [394.0, 132.0], [394.0, 148.0], [364.0, 148.0]], ('2019', 0.9991730451583862)], [[[595.0, 147.0], [649.0, 145.0], [650.0, 163.0], [595.0, 165.0]], ('16.675.00', 0.9780593514442444)], [[[723.0, 144.0], [778.0, 143.0], [778.0, 160.0], [723.0, 162.0]], ('26.914.00', 0.9694464206695557)], [[[850.0, 142.0], [903.0, 145.0], [902.0, 163.0], [849.0, 160.0]], ('26.974.00', 0.923839807510376)], [[[340.0, 155.0], [395.0, 153.0], [395.0, 171.0], [340.0, 172.0]], ('11.716.00', 0.9591655731201172)], [[[469.0, 152.0], [522.0, 152.0], [522.0, 168.0], [469.0, 168.0]], ('10,918.00', 0.9599276781082153)], [[[0.0, 173.0], [46.0, 168.0], [48.0, 186.0], [1.0, 191.0]], ('Revenue', 0.9960762858390808)], [[[472.0, 179.0], [522.0, 176.0], [523.0, 194.0], [473.0, 196.0]], ('4,150.00', 0.9077638387680054)], [[[601.0, 174.0], [651.0, 172.0], [652.0, 191.0], [602.0, 193.0]], ('6,279.00', 0.966863751411438)], [[[729.0, 171.0], [780.0, 170.0], [780.0, 188.0], [729.0, 189.0]], ('9,439.00', 0.9405813813209534)], [[[851.0, 170.0], [904.0, 174.0], [903.0, 192.0], [850.0, 188.0]], ('11,618.00', 0.97594153881073)], [[[346.0, 182.0], [394.0, 179.0], [395.0, 197.0], [347.0, 199.0]], ('4.545.00', 0.9085174798965454)], [[[0.0, 201.0], [82.0, 193.0], [84.0, 209.0], [2.0, 217.0]], ('Cost of Revenue', 0.9620662331581116)], [[[469.0, 205.0], [522.0, 203.0], [523.0, 221.0], [470.0, 223.0]], ('6,768.00', 0.9577658772468567)], [[[593.0, 201.0], [651.0, 201.0], [651.0, 219.0], [593.0, 219.0]], ('10,396.00', 0.9696904420852661)], [[[722.0, 198.0], [781.0, 198.0], [781.0, 215.0], [722.0, 215.0]], ('17,475.00', 0.9672726392745972)], [[[850.0, 196.0], [905.0, 201.0], [904.0, 218.0], [848.0, 213.0]], ('15.356.00', 0.9419682621955872)], [[[342.0, 208.0], [395.0, 206.0], [395.0, 224.0], [342.0, 226.0]], ('7,171.00', 0.9479809999465942)], [[[1.0, 227.0], [117.0, 217.0], [118.0, 234.0], [2.0, 244.0]], ('Gross Operating Profit', 0.9642134308815002)], [[[12.0, 249.0], [113.0, 242.0], [114.0, 259.0], [13.0, 266.0]], ('Operating expenses', 0.973944902420044)], [[[474.0, 255.0], [524.0, 252.0], [525.0, 270.0], [475.0, 273.0]], ('2,829.00', 0.8957089185714722)], [[[603.0, 251.0], [654.0, 248.0], [655.0, 266.0], [604.0, 269.0]], ('3.924.00', 0.9171736240386963)], [[[735.0, 247.0], [784.0, 247.0], [784.0, 264.0], [735.0, 264.0]], ('5.268.00', 0.9638726115226746)], [[[861.0, 247.0], [907.0, 250.0], [906.0, 268.0], [860.0, 265.0]], ('7,339.00', 0.9148909449577332)], [[[347.0, 257.0], [396.0, 257.0], [396.0, 274.0], [347.0, 274.0]], ('2,376.00', 0.9670385122299194)], [[[12.0, 275.0], [150.0, 267.0], [151.0, 284.0], [13.0, 291.0]], ('Research and development', 0.9608801007270813)], [[[355.0, 284.0], [396.0, 282.0], [397.0, 301.0], [356.0, 303.0]], ('991.00', 0.994860827922821)], [[[477.0, 282.0], [525.0, 282.0], [525.0, 300.0], [477.0, 300.0]], ('1,093.00', 0.9874093532562256)], [[[606.0, 278.0], [656.0, 278.0], [656.0, 296.0], [606.0, 296.0]], ('1,940.00', 0.9482845067977905)], [[[737.0, 276.0], [785.0, 276.0], [785.0, 291.0], [737.0, 291.0]], ('2,166.00', 0.9401691555976868)], [[[863.0, 275.0], [908.0, 279.0], [907.0, 297.0], [861.0, 293.0]], ('2.440.00', 0.9366477727890015)], [[[12.0, 303.0], [181.0, 293.0], [182.0, 310.0], [13.0, 320.0]], ('Sales, general and administrative', 0.9262773394584656)], [[[12.0, 329.0], [62.0, 326.0], [64.0, 343.0], [13.0, 347.0]], ('Staff cost', 0.9635442495346069)], [[[13.0, 356.0], [163.0, 347.0], [164.0, 365.0], [14.0, 374.0]], ('Depreciation and amortization', 0.971767783164978)], [[[369.0, 365.0], [398.0, 365.0], [398.0, 385.0], [369.0, 385.0]], ('0.00', 0.9894711375236511)], [[[498.0, 364.0], [528.0, 364.0], [528.0, 382.0], [498.0, 382.0]], ('0.00', 0.9961130619049072)], [[[628.0, 360.0], [658.0, 357.0], [660.0, 377.0], [630.0, 380.0]], ('0.00', 0.9797650575637817)], [[[762.0, 356.0], [791.0, 356.0], [791.0, 374.0], [762.0, 374.0]], ('0.00', 0.9958871006965637)], [[[887.0, 361.0], [912.0, 361.0], [912.0, 377.0], [887.0, 377.0]], ('0.00', 0.9889876842498779)], [[[13.0, 384.0], [142.0, 376.0], [143.0, 393.0], [14.0, 400.0]], ('Other Operating Expenses', 0.9598948955535889)], [[[478.0, 393.0], [527.0, 393.0], [527.0, 411.0], [478.0, 411.0]], ('3.922.00', 0.9847177267074585)], [[[607.0, 390.0], [659.0, 388.0], [660.0, 406.0], [608.0, 408.0]], ('5,864.00', 0.8921643495559692)], [[[742.0, 385.0], [792.0, 385.0], [792.0, 403.0], [742.0, 403.0]], ('7.434.00', 0.9413965940475464)], [[[868.0, 385.0], [913.0, 389.0], [912.0, 408.0], [866.0, 404.0]], ('9.779.00', 0.9607760906219482)], [[[348.0, 396.0], [398.0, 396.0], [398.0, 414.0], [348.0, 414.0]], ('3,367.00', 0.9233134984970093)], [[[13.0, 411.0], [139.0, 405.0], [140.0, 423.0], [14.0, 429.0]], ('Total Operating Expenses', 0.9493496417999268)], [[[474.0, 422.0], [527.0, 420.0], [528.0, 439.0], [475.0, 441.0]], ('2,846.00', 0.9502429962158203)], [[[605.0, 418.0], [659.0, 416.0], [660.0, 435.0], [606.0, 437.0]], ('4,532.00', 0.9377254843711853)], [[[733.0, 413.0], [794.0, 412.0], [794.0, 430.0], [733.0, 431.0]], ('10,041.00', 0.9581038951873779)], [[[866.0, 414.0], [914.0, 416.0], [913.0, 434.0], [865.0, 432.0]], ('5,577.00', 0.9790981411933899)], [[[344.0, 425.0], [398.0, 423.0], [398.0, 441.0], [344.0, 443.0]], ('3,804.00', 0.9494807124137878)], [[[2.0, 438.0], [229.0, 427.0], [231.0, 447.0], [3.0, 459.0]], ('Operating income before interest and taxes', 0.9648022651672363)], [[[490.0, 451.0], [529.0, 451.0], [529.0, 469.0], [490.0, 469.0]], ('124.00', 0.95954829454422)], [[[615.0, 446.0], [661.0, 443.0], [662.0, 462.0], [616.0, 465.0]], ('-123.00', 0.9756332635879517)], [[[751.0, 442.0], [796.0, 442.0], [796.0, 460.0], [751.0, 460.0]], ('-100.00', 0.9876822233200073)], [[[868.0, 442.0], [915.0, 445.0], [914.0, 463.0], [867.0, 460.0]], ('-1,396.00', 0.8655722737312317)], [[[365.0, 453.0], [400.0, 453.0], [400.0, 471.0], [365.0, 471.0]], ('92.00', 0.996529221534729)], [[[3.0, 470.0], [112.0, 462.0], [113.0, 479.0], [4.0, 487.0]], ('Non-operating income', 0.9897357821464539)], [[[478.0, 479.0], [528.0, 476.0], [529.0, 495.0], [479.0, 497.0]], ('2,970.00', 0.9781362414360046)], [[[610.0, 476.0], [662.0, 473.0], [663.0, 491.0], [611.0, 494.0]], ('4,409.00', 0.9558218717575073)], [[[746.0, 470.0], [797.0, 470.0], [797.0, 488.0], [746.0, 488.0]], ('9,941.00', 0.9597591161727905)], [[[873.0, 470.0], [916.0, 474.0], [915.0, 492.0], [871.0, 488.0]], ('4.181.00', 0.9505043625831604)], [[[350.0, 481.0], [400.0, 481.0], [400.0, 499.0], [350.0, 499.0]], ('3.896.00', 0.937021017074585)], [[[2.0, 496.0], [141.0, 489.0], [142.0, 506.0], [3.0, 513.0]], ('Income before income taxes', 0.9539366364479065)], [[[490.0, 507.0], [530.0, 507.0], [530.0, 525.0], [490.0, 525.0]], ('174.00', 0.9959599375724792)], [[[628.0, 503.0], [664.0, 503.0], [664.0, 521.0], [628.0, 521.0]], ('77.00', 0.9963623881340027)], [[[759.0, 501.0], [798.0, 501.0], [798.0, 516.0], [759.0, 516.0]], ('189.00', 0.9931483864784241)], [[[881.0, 499.0], [917.0, 502.0], [916.0, 520.0], [879.0, 518.0]], ('-187.00', 0.9750319123268127)], [[[357.0, 510.0], [400.0, 510.0], [400.0, 528.0], [357.0, 528.0]], ('-245.00', 0.9847263097763062)], [[[2.0, 524.0], [132.0, 518.0], [133.0, 535.0], [3.0, 541.0]], ('Provision for income taxes', 0.9486920833587646)], [[[480.0, 536.0], [530.0, 536.0], [530.0, 554.0], [480.0, 554.0]], ('2,796.00', 0.9718641042709351)], [[[613.0, 532.0], [664.0, 532.0], [664.0, 550.0], [613.0, 550.0]], ('4,332.00', 0.9687792062759399)], [[[749.0, 529.0], [800.0, 529.0], [800.0, 547.0], [749.0, 547.0]], ('9,752.00', 0.9263883829116821)], [[[350.0, 539.0], [401.0, 537.0], [401.0, 555.0], [350.0, 557.0]], ('4.141.00', 0.9217947125434875)], [[[877.0, 530.0], [919.0, 530.0], [919.0, 548.0], [877.0, 548.0]], ('4,368.00', 0.9737399220466614)], [[[2.0, 551.0], [200.0, 546.0], [200.0, 562.0], [2.0, 568.0]], ('Net income from continuing operations', 0.9559010863304138)], [[[476.0, 564.0], [530.0, 561.0], [531.0, 580.0], [477.0, 583.0]], ('2,796.00', 0.9660294055938721)], [[[610.0, 561.0], [665.0, 561.0], [665.0, 578.0], [610.0, 578.0]], ('4,332.00', 0.9645786285400391)], [[[746.0, 557.0], [801.0, 556.0], [801.0, 574.0], [746.0, 576.0]], ('9,752.00', 0.9578834772109985)], [[[348.0, 567.0], [401.0, 567.0], [401.0, 584.0], [348.0, 584.0]], ('4,141.00', 0.9705839157104492)], [[[875.0, 558.0], [919.0, 558.0], [919.0, 575.0], [875.0, 575.0]], ('4,368.00', 0.9871493577957153)], [[[3.0, 580.0], [59.0, 577.0], [60.0, 594.0], [3.0, 596.0]], ('Net Income', 0.9869281649589539)], [[[351.0, 596.0], [402.0, 594.0], [402.0, 613.0], [352.0, 615.0]], ('4,141.00', 0.8802502155303955)], [[[481.0, 593.0], [532.0, 593.0], [532.0, 611.0], [481.0, 611.0]], ('2,796.00', 0.9647493958473206)], [[[614.0, 590.0], [666.0, 590.0], [666.0, 608.0], [614.0, 608.0]], ('4,332.00', 0.9409222602844238)], [[[751.0, 587.0], [802.0, 587.0], [802.0, 605.0], [751.0, 605.0]], ('9.752.00', 0.9384689927101135)], [[[879.0, 587.0], [920.0, 587.0], [920.0, 605.0], [879.0, 605.0]], ('4,368.00', 0.9533986449241638)], [[[3.0, 607.0], [243.0, 602.0], [243.0, 619.0], [3.0, 624.0]], ('Net income available for common shareholders', 0.9713889956474304)], [[[3.0, 639.0], [94.0, 637.0], [95.0, 655.0], [3.0, 657.0]], ('Earnings per share', 0.9374220371246338)], [[[374.0, 659.0], [403.0, 659.0], [403.0, 677.0], [374.0, 677.0]], ('1.70', 0.996668815612793)], [[[505.0, 656.0], [535.0, 656.0], [535.0, 675.0], [505.0, 675.0]], ('1.15', 0.982512354850769)], [[[639.0, 654.0], [670.0, 654.0], [670.0, 673.0], [639.0, 673.0]], ('1.76', 0.9967185258865356)], [[[777.0, 652.0], [806.0, 652.0], [806.0, 672.0], [777.0, 672.0]], ('3.91', 0.9965174794197083)], [[[900.0, 652.0], [924.0, 652.0], [924.0, 671.0], [900.0, 671.0]], ('1.76', 0.995669960975647)], [[[4.0, 671.0], [29.0, 671.0], [29.0, 686.0], [4.0, 686.0]], ('Basic', 0.9929836988449097)], [[[374.0, 687.0], [404.0, 687.0], [404.0, 706.0], [374.0, 706.0]], ('1.66', 0.9925438165664673)], [[[506.0, 684.0], [535.0, 684.0], [535.0, 704.0], [506.0, 704.0]], ('1.13', 0.9941884875297546)], [[[640.0, 682.0], [671.0, 682.0], [671.0, 702.0], [640.0, 702.0]], ('1.73', 0.9946274161338806)], [[[777.0, 681.0], [808.0, 681.0], [808.0, 700.0], [777.0, 700.0]], ('3.85', 0.9925879240036011)], [[[902.0, 680.0], [923.0, 680.0], [923.0, 697.0], [902.0, 697.0]], ('1.74', 0.9954384565353394)], [[[3.0, 697.0], [38.0, 697.0], [38.0, 715.0], [3.0, 715.0]], ('Diluted', 0.9723383784294128)]]]\n"
          ]
        }
      ]
    },
    {
      "cell_type": "code",
      "source": [],
      "metadata": {
        "id": "VgWvtTwKTuH3"
      },
      "execution_count": 21,
      "outputs": []
    },
    {
      "cell_type": "code",
      "source": [
        "output[0]"
      ],
      "metadata": {
        "id": "NlVAH0DCZ176",
        "colab": {
          "base_uri": "https://localhost:8080/"
        },
        "outputId": "84126d13-32c8-4dd7-d7c4-c6bdb43442b9"
      },
      "execution_count": 22,
      "outputs": [
        {
          "output_type": "execute_result",
          "data": {
            "text/plain": [
              "[[[[1.0, 11.0], [84.0, 8.0], [85.0, 25.0], [1.0, 28.0]],\n",
              "  ('10 12/07/2023', 0.9737287759780884)],\n",
              " [[[361.0, 5.0], [678.0, 0.0], [679.0, 14.0], [361.0, 21.0]],\n",
              "  ('NVIDIA Corp Income statement | NVDA-Morningstar', 0.9427492618560791)],\n",
              " [[[0.0, 53.0], [273.0, 38.0], [275.0, 68.0], [2.0, 83.0]],\n",
              "  ('NVIDIA Corp-NVDA /**', 0.9594489932060242)],\n",
              " [[[331.0, 45.0], [491.0, 40.0], [492.0, 54.0], [331.0, 59.0]],\n",
              "  ('Bn Co CPA -Scor Dico-Mcng', 0.6956825852394104)],\n",
              " [[[1.0, 109.0], [136.0, 102.0], [137.0, 121.0], [2.0, 129.0]],\n",
              "  ('Income Statement', 0.9648082852363586)],\n",
              " [[[487.0, 128.0], [521.0, 125.0], [522.0, 143.0], [489.0, 146.0]],\n",
              "  ('2020', 0.9975672960281372)],\n",
              " [[[615.0, 124.0], [647.0, 121.0], [649.0, 139.0], [616.0, 142.0]],\n",
              "  ('2021', 0.99715256690979)],\n",
              " [[[745.0, 120.0], [777.0, 120.0], [777.0, 139.0], [745.0, 139.0]],\n",
              "  ('2022', 0.9746716618537903)],\n",
              " [[[871.0, 121.0], [901.0, 121.0], [901.0, 140.0], [871.0, 140.0]],\n",
              "  ('2023', 0.9984397888183594)],\n",
              " [[[364.0, 132.0], [394.0, 132.0], [394.0, 148.0], [364.0, 148.0]],\n",
              "  ('2019', 0.9991730451583862)],\n",
              " [[[595.0, 147.0], [649.0, 145.0], [650.0, 163.0], [595.0, 165.0]],\n",
              "  ('16.675.00', 0.9780593514442444)],\n",
              " [[[723.0, 144.0], [778.0, 143.0], [778.0, 160.0], [723.0, 162.0]],\n",
              "  ('26.914.00', 0.9694464206695557)],\n",
              " [[[850.0, 142.0], [903.0, 145.0], [902.0, 163.0], [849.0, 160.0]],\n",
              "  ('26.974.00', 0.923839807510376)],\n",
              " [[[340.0, 155.0], [395.0, 153.0], [395.0, 171.0], [340.0, 172.0]],\n",
              "  ('11.716.00', 0.9591655731201172)],\n",
              " [[[469.0, 152.0], [522.0, 152.0], [522.0, 168.0], [469.0, 168.0]],\n",
              "  ('10,918.00', 0.9599276781082153)],\n",
              " [[[0.0, 173.0], [46.0, 168.0], [48.0, 186.0], [1.0, 191.0]],\n",
              "  ('Revenue', 0.9960762858390808)],\n",
              " [[[472.0, 179.0], [522.0, 176.0], [523.0, 194.0], [473.0, 196.0]],\n",
              "  ('4,150.00', 0.9077638387680054)],\n",
              " [[[601.0, 174.0], [651.0, 172.0], [652.0, 191.0], [602.0, 193.0]],\n",
              "  ('6,279.00', 0.966863751411438)],\n",
              " [[[729.0, 171.0], [780.0, 170.0], [780.0, 188.0], [729.0, 189.0]],\n",
              "  ('9,439.00', 0.9405813813209534)],\n",
              " [[[851.0, 170.0], [904.0, 174.0], [903.0, 192.0], [850.0, 188.0]],\n",
              "  ('11,618.00', 0.97594153881073)],\n",
              " [[[346.0, 182.0], [394.0, 179.0], [395.0, 197.0], [347.0, 199.0]],\n",
              "  ('4.545.00', 0.9085174798965454)],\n",
              " [[[0.0, 201.0], [82.0, 193.0], [84.0, 209.0], [2.0, 217.0]],\n",
              "  ('Cost of Revenue', 0.9620662331581116)],\n",
              " [[[469.0, 205.0], [522.0, 203.0], [523.0, 221.0], [470.0, 223.0]],\n",
              "  ('6,768.00', 0.9577658772468567)],\n",
              " [[[593.0, 201.0], [651.0, 201.0], [651.0, 219.0], [593.0, 219.0]],\n",
              "  ('10,396.00', 0.9696904420852661)],\n",
              " [[[722.0, 198.0], [781.0, 198.0], [781.0, 215.0], [722.0, 215.0]],\n",
              "  ('17,475.00', 0.9672726392745972)],\n",
              " [[[850.0, 196.0], [905.0, 201.0], [904.0, 218.0], [848.0, 213.0]],\n",
              "  ('15.356.00', 0.9419682621955872)],\n",
              " [[[342.0, 208.0], [395.0, 206.0], [395.0, 224.0], [342.0, 226.0]],\n",
              "  ('7,171.00', 0.9479809999465942)],\n",
              " [[[1.0, 227.0], [117.0, 217.0], [118.0, 234.0], [2.0, 244.0]],\n",
              "  ('Gross Operating Profit', 0.9642134308815002)],\n",
              " [[[12.0, 249.0], [113.0, 242.0], [114.0, 259.0], [13.0, 266.0]],\n",
              "  ('Operating expenses', 0.973944902420044)],\n",
              " [[[474.0, 255.0], [524.0, 252.0], [525.0, 270.0], [475.0, 273.0]],\n",
              "  ('2,829.00', 0.8957089185714722)],\n",
              " [[[603.0, 251.0], [654.0, 248.0], [655.0, 266.0], [604.0, 269.0]],\n",
              "  ('3.924.00', 0.9171736240386963)],\n",
              " [[[735.0, 247.0], [784.0, 247.0], [784.0, 264.0], [735.0, 264.0]],\n",
              "  ('5.268.00', 0.9638726115226746)],\n",
              " [[[861.0, 247.0], [907.0, 250.0], [906.0, 268.0], [860.0, 265.0]],\n",
              "  ('7,339.00', 0.9148909449577332)],\n",
              " [[[347.0, 257.0], [396.0, 257.0], [396.0, 274.0], [347.0, 274.0]],\n",
              "  ('2,376.00', 0.9670385122299194)],\n",
              " [[[12.0, 275.0], [150.0, 267.0], [151.0, 284.0], [13.0, 291.0]],\n",
              "  ('Research and development', 0.9608801007270813)],\n",
              " [[[355.0, 284.0], [396.0, 282.0], [397.0, 301.0], [356.0, 303.0]],\n",
              "  ('991.00', 0.994860827922821)],\n",
              " [[[477.0, 282.0], [525.0, 282.0], [525.0, 300.0], [477.0, 300.0]],\n",
              "  ('1,093.00', 0.9874093532562256)],\n",
              " [[[606.0, 278.0], [656.0, 278.0], [656.0, 296.0], [606.0, 296.0]],\n",
              "  ('1,940.00', 0.9482845067977905)],\n",
              " [[[737.0, 276.0], [785.0, 276.0], [785.0, 291.0], [737.0, 291.0]],\n",
              "  ('2,166.00', 0.9401691555976868)],\n",
              " [[[863.0, 275.0], [908.0, 279.0], [907.0, 297.0], [861.0, 293.0]],\n",
              "  ('2.440.00', 0.9366477727890015)],\n",
              " [[[12.0, 303.0], [181.0, 293.0], [182.0, 310.0], [13.0, 320.0]],\n",
              "  ('Sales, general and administrative', 0.9262773394584656)],\n",
              " [[[12.0, 329.0], [62.0, 326.0], [64.0, 343.0], [13.0, 347.0]],\n",
              "  ('Staff cost', 0.9635442495346069)],\n",
              " [[[13.0, 356.0], [163.0, 347.0], [164.0, 365.0], [14.0, 374.0]],\n",
              "  ('Depreciation and amortization', 0.971767783164978)],\n",
              " [[[369.0, 365.0], [398.0, 365.0], [398.0, 385.0], [369.0, 385.0]],\n",
              "  ('0.00', 0.9894711375236511)],\n",
              " [[[498.0, 364.0], [528.0, 364.0], [528.0, 382.0], [498.0, 382.0]],\n",
              "  ('0.00', 0.9961130619049072)],\n",
              " [[[628.0, 360.0], [658.0, 357.0], [660.0, 377.0], [630.0, 380.0]],\n",
              "  ('0.00', 0.9797650575637817)],\n",
              " [[[762.0, 356.0], [791.0, 356.0], [791.0, 374.0], [762.0, 374.0]],\n",
              "  ('0.00', 0.9958871006965637)],\n",
              " [[[887.0, 361.0], [912.0, 361.0], [912.0, 377.0], [887.0, 377.0]],\n",
              "  ('0.00', 0.9889876842498779)],\n",
              " [[[13.0, 384.0], [142.0, 376.0], [143.0, 393.0], [14.0, 400.0]],\n",
              "  ('Other Operating Expenses', 0.9598948955535889)],\n",
              " [[[478.0, 393.0], [527.0, 393.0], [527.0, 411.0], [478.0, 411.0]],\n",
              "  ('3.922.00', 0.9847177267074585)],\n",
              " [[[607.0, 390.0], [659.0, 388.0], [660.0, 406.0], [608.0, 408.0]],\n",
              "  ('5,864.00', 0.8921643495559692)],\n",
              " [[[742.0, 385.0], [792.0, 385.0], [792.0, 403.0], [742.0, 403.0]],\n",
              "  ('7.434.00', 0.9413965940475464)],\n",
              " [[[868.0, 385.0], [913.0, 389.0], [912.0, 408.0], [866.0, 404.0]],\n",
              "  ('9.779.00', 0.9607760906219482)],\n",
              " [[[348.0, 396.0], [398.0, 396.0], [398.0, 414.0], [348.0, 414.0]],\n",
              "  ('3,367.00', 0.9233134984970093)],\n",
              " [[[13.0, 411.0], [139.0, 405.0], [140.0, 423.0], [14.0, 429.0]],\n",
              "  ('Total Operating Expenses', 0.9493496417999268)],\n",
              " [[[474.0, 422.0], [527.0, 420.0], [528.0, 439.0], [475.0, 441.0]],\n",
              "  ('2,846.00', 0.9502429962158203)],\n",
              " [[[605.0, 418.0], [659.0, 416.0], [660.0, 435.0], [606.0, 437.0]],\n",
              "  ('4,532.00', 0.9377254843711853)],\n",
              " [[[733.0, 413.0], [794.0, 412.0], [794.0, 430.0], [733.0, 431.0]],\n",
              "  ('10,041.00', 0.9581038951873779)],\n",
              " [[[866.0, 414.0], [914.0, 416.0], [913.0, 434.0], [865.0, 432.0]],\n",
              "  ('5,577.00', 0.9790981411933899)],\n",
              " [[[344.0, 425.0], [398.0, 423.0], [398.0, 441.0], [344.0, 443.0]],\n",
              "  ('3,804.00', 0.9494807124137878)],\n",
              " [[[2.0, 438.0], [229.0, 427.0], [231.0, 447.0], [3.0, 459.0]],\n",
              "  ('Operating income before interest and taxes', 0.9648022651672363)],\n",
              " [[[490.0, 451.0], [529.0, 451.0], [529.0, 469.0], [490.0, 469.0]],\n",
              "  ('124.00', 0.95954829454422)],\n",
              " [[[615.0, 446.0], [661.0, 443.0], [662.0, 462.0], [616.0, 465.0]],\n",
              "  ('-123.00', 0.9756332635879517)],\n",
              " [[[751.0, 442.0], [796.0, 442.0], [796.0, 460.0], [751.0, 460.0]],\n",
              "  ('-100.00', 0.9876822233200073)],\n",
              " [[[868.0, 442.0], [915.0, 445.0], [914.0, 463.0], [867.0, 460.0]],\n",
              "  ('-1,396.00', 0.8655722737312317)],\n",
              " [[[365.0, 453.0], [400.0, 453.0], [400.0, 471.0], [365.0, 471.0]],\n",
              "  ('92.00', 0.996529221534729)],\n",
              " [[[3.0, 470.0], [112.0, 462.0], [113.0, 479.0], [4.0, 487.0]],\n",
              "  ('Non-operating income', 0.9897357821464539)],\n",
              " [[[478.0, 479.0], [528.0, 476.0], [529.0, 495.0], [479.0, 497.0]],\n",
              "  ('2,970.00', 0.9781362414360046)],\n",
              " [[[610.0, 476.0], [662.0, 473.0], [663.0, 491.0], [611.0, 494.0]],\n",
              "  ('4,409.00', 0.9558218717575073)],\n",
              " [[[746.0, 470.0], [797.0, 470.0], [797.0, 488.0], [746.0, 488.0]],\n",
              "  ('9,941.00', 0.9597591161727905)],\n",
              " [[[873.0, 470.0], [916.0, 474.0], [915.0, 492.0], [871.0, 488.0]],\n",
              "  ('4.181.00', 0.9505043625831604)],\n",
              " [[[350.0, 481.0], [400.0, 481.0], [400.0, 499.0], [350.0, 499.0]],\n",
              "  ('3.896.00', 0.937021017074585)],\n",
              " [[[2.0, 496.0], [141.0, 489.0], [142.0, 506.0], [3.0, 513.0]],\n",
              "  ('Income before income taxes', 0.9539366364479065)],\n",
              " [[[490.0, 507.0], [530.0, 507.0], [530.0, 525.0], [490.0, 525.0]],\n",
              "  ('174.00', 0.9959599375724792)],\n",
              " [[[628.0, 503.0], [664.0, 503.0], [664.0, 521.0], [628.0, 521.0]],\n",
              "  ('77.00', 0.9963623881340027)],\n",
              " [[[759.0, 501.0], [798.0, 501.0], [798.0, 516.0], [759.0, 516.0]],\n",
              "  ('189.00', 0.9931483864784241)],\n",
              " [[[881.0, 499.0], [917.0, 502.0], [916.0, 520.0], [879.0, 518.0]],\n",
              "  ('-187.00', 0.9750319123268127)],\n",
              " [[[357.0, 510.0], [400.0, 510.0], [400.0, 528.0], [357.0, 528.0]],\n",
              "  ('-245.00', 0.9847263097763062)],\n",
              " [[[2.0, 524.0], [132.0, 518.0], [133.0, 535.0], [3.0, 541.0]],\n",
              "  ('Provision for income taxes', 0.9486920833587646)],\n",
              " [[[480.0, 536.0], [530.0, 536.0], [530.0, 554.0], [480.0, 554.0]],\n",
              "  ('2,796.00', 0.9718641042709351)],\n",
              " [[[613.0, 532.0], [664.0, 532.0], [664.0, 550.0], [613.0, 550.0]],\n",
              "  ('4,332.00', 0.9687792062759399)],\n",
              " [[[749.0, 529.0], [800.0, 529.0], [800.0, 547.0], [749.0, 547.0]],\n",
              "  ('9,752.00', 0.9263883829116821)],\n",
              " [[[350.0, 539.0], [401.0, 537.0], [401.0, 555.0], [350.0, 557.0]],\n",
              "  ('4.141.00', 0.9217947125434875)],\n",
              " [[[877.0, 530.0], [919.0, 530.0], [919.0, 548.0], [877.0, 548.0]],\n",
              "  ('4,368.00', 0.9737399220466614)],\n",
              " [[[2.0, 551.0], [200.0, 546.0], [200.0, 562.0], [2.0, 568.0]],\n",
              "  ('Net income from continuing operations', 0.9559010863304138)],\n",
              " [[[476.0, 564.0], [530.0, 561.0], [531.0, 580.0], [477.0, 583.0]],\n",
              "  ('2,796.00', 0.9660294055938721)],\n",
              " [[[610.0, 561.0], [665.0, 561.0], [665.0, 578.0], [610.0, 578.0]],\n",
              "  ('4,332.00', 0.9645786285400391)],\n",
              " [[[746.0, 557.0], [801.0, 556.0], [801.0, 574.0], [746.0, 576.0]],\n",
              "  ('9,752.00', 0.9578834772109985)],\n",
              " [[[348.0, 567.0], [401.0, 567.0], [401.0, 584.0], [348.0, 584.0]],\n",
              "  ('4,141.00', 0.9705839157104492)],\n",
              " [[[875.0, 558.0], [919.0, 558.0], [919.0, 575.0], [875.0, 575.0]],\n",
              "  ('4,368.00', 0.9871493577957153)],\n",
              " [[[3.0, 580.0], [59.0, 577.0], [60.0, 594.0], [3.0, 596.0]],\n",
              "  ('Net Income', 0.9869281649589539)],\n",
              " [[[351.0, 596.0], [402.0, 594.0], [402.0, 613.0], [352.0, 615.0]],\n",
              "  ('4,141.00', 0.8802502155303955)],\n",
              " [[[481.0, 593.0], [532.0, 593.0], [532.0, 611.0], [481.0, 611.0]],\n",
              "  ('2,796.00', 0.9647493958473206)],\n",
              " [[[614.0, 590.0], [666.0, 590.0], [666.0, 608.0], [614.0, 608.0]],\n",
              "  ('4,332.00', 0.9409222602844238)],\n",
              " [[[751.0, 587.0], [802.0, 587.0], [802.0, 605.0], [751.0, 605.0]],\n",
              "  ('9.752.00', 0.9384689927101135)],\n",
              " [[[879.0, 587.0], [920.0, 587.0], [920.0, 605.0], [879.0, 605.0]],\n",
              "  ('4,368.00', 0.9533986449241638)],\n",
              " [[[3.0, 607.0], [243.0, 602.0], [243.0, 619.0], [3.0, 624.0]],\n",
              "  ('Net income available for common shareholders', 0.9713889956474304)],\n",
              " [[[3.0, 639.0], [94.0, 637.0], [95.0, 655.0], [3.0, 657.0]],\n",
              "  ('Earnings per share', 0.9374220371246338)],\n",
              " [[[374.0, 659.0], [403.0, 659.0], [403.0, 677.0], [374.0, 677.0]],\n",
              "  ('1.70', 0.996668815612793)],\n",
              " [[[505.0, 656.0], [535.0, 656.0], [535.0, 675.0], [505.0, 675.0]],\n",
              "  ('1.15', 0.982512354850769)],\n",
              " [[[639.0, 654.0], [670.0, 654.0], [670.0, 673.0], [639.0, 673.0]],\n",
              "  ('1.76', 0.9967185258865356)],\n",
              " [[[777.0, 652.0], [806.0, 652.0], [806.0, 672.0], [777.0, 672.0]],\n",
              "  ('3.91', 0.9965174794197083)],\n",
              " [[[900.0, 652.0], [924.0, 652.0], [924.0, 671.0], [900.0, 671.0]],\n",
              "  ('1.76', 0.995669960975647)],\n",
              " [[[4.0, 671.0], [29.0, 671.0], [29.0, 686.0], [4.0, 686.0]],\n",
              "  ('Basic', 0.9929836988449097)],\n",
              " [[[374.0, 687.0], [404.0, 687.0], [404.0, 706.0], [374.0, 706.0]],\n",
              "  ('1.66', 0.9925438165664673)],\n",
              " [[[506.0, 684.0], [535.0, 684.0], [535.0, 704.0], [506.0, 704.0]],\n",
              "  ('1.13', 0.9941884875297546)],\n",
              " [[[640.0, 682.0], [671.0, 682.0], [671.0, 702.0], [640.0, 702.0]],\n",
              "  ('1.73', 0.9946274161338806)],\n",
              " [[[777.0, 681.0], [808.0, 681.0], [808.0, 700.0], [777.0, 700.0]],\n",
              "  ('3.85', 0.9925879240036011)],\n",
              " [[[902.0, 680.0], [923.0, 680.0], [923.0, 697.0], [902.0, 697.0]],\n",
              "  ('1.74', 0.9954384565353394)],\n",
              " [[[3.0, 697.0], [38.0, 697.0], [38.0, 715.0], [3.0, 715.0]],\n",
              "  ('Diluted', 0.9723383784294128)]]"
            ]
          },
          "metadata": {},
          "execution_count": 22
        }
      ]
    },
    {
      "cell_type": "code",
      "source": [
        "for out in output:\n",
        "  print(out)"
      ],
      "metadata": {
        "id": "qP9-VH8baZ4w",
        "colab": {
          "base_uri": "https://localhost:8080/"
        },
        "outputId": "d11b791f-6579-443a-e35e-51ab82f3cf86"
      },
      "execution_count": 23,
      "outputs": [
        {
          "output_type": "stream",
          "name": "stdout",
          "text": [
            "[[[[1.0, 11.0], [84.0, 8.0], [85.0, 25.0], [1.0, 28.0]], ('10 12/07/2023', 0.9737287759780884)], [[[361.0, 5.0], [678.0, 0.0], [679.0, 14.0], [361.0, 21.0]], ('NVIDIA Corp Income statement | NVDA-Morningstar', 0.9427492618560791)], [[[0.0, 53.0], [273.0, 38.0], [275.0, 68.0], [2.0, 83.0]], ('NVIDIA Corp-NVDA /**', 0.9594489932060242)], [[[331.0, 45.0], [491.0, 40.0], [492.0, 54.0], [331.0, 59.0]], ('Bn Co CPA -Scor Dico-Mcng', 0.6956825852394104)], [[[1.0, 109.0], [136.0, 102.0], [137.0, 121.0], [2.0, 129.0]], ('Income Statement', 0.9648082852363586)], [[[487.0, 128.0], [521.0, 125.0], [522.0, 143.0], [489.0, 146.0]], ('2020', 0.9975672960281372)], [[[615.0, 124.0], [647.0, 121.0], [649.0, 139.0], [616.0, 142.0]], ('2021', 0.99715256690979)], [[[745.0, 120.0], [777.0, 120.0], [777.0, 139.0], [745.0, 139.0]], ('2022', 0.9746716618537903)], [[[871.0, 121.0], [901.0, 121.0], [901.0, 140.0], [871.0, 140.0]], ('2023', 0.9984397888183594)], [[[364.0, 132.0], [394.0, 132.0], [394.0, 148.0], [364.0, 148.0]], ('2019', 0.9991730451583862)], [[[595.0, 147.0], [649.0, 145.0], [650.0, 163.0], [595.0, 165.0]], ('16.675.00', 0.9780593514442444)], [[[723.0, 144.0], [778.0, 143.0], [778.0, 160.0], [723.0, 162.0]], ('26.914.00', 0.9694464206695557)], [[[850.0, 142.0], [903.0, 145.0], [902.0, 163.0], [849.0, 160.0]], ('26.974.00', 0.923839807510376)], [[[340.0, 155.0], [395.0, 153.0], [395.0, 171.0], [340.0, 172.0]], ('11.716.00', 0.9591655731201172)], [[[469.0, 152.0], [522.0, 152.0], [522.0, 168.0], [469.0, 168.0]], ('10,918.00', 0.9599276781082153)], [[[0.0, 173.0], [46.0, 168.0], [48.0, 186.0], [1.0, 191.0]], ('Revenue', 0.9960762858390808)], [[[472.0, 179.0], [522.0, 176.0], [523.0, 194.0], [473.0, 196.0]], ('4,150.00', 0.9077638387680054)], [[[601.0, 174.0], [651.0, 172.0], [652.0, 191.0], [602.0, 193.0]], ('6,279.00', 0.966863751411438)], [[[729.0, 171.0], [780.0, 170.0], [780.0, 188.0], [729.0, 189.0]], ('9,439.00', 0.9405813813209534)], [[[851.0, 170.0], [904.0, 174.0], [903.0, 192.0], [850.0, 188.0]], ('11,618.00', 0.97594153881073)], [[[346.0, 182.0], [394.0, 179.0], [395.0, 197.0], [347.0, 199.0]], ('4.545.00', 0.9085174798965454)], [[[0.0, 201.0], [82.0, 193.0], [84.0, 209.0], [2.0, 217.0]], ('Cost of Revenue', 0.9620662331581116)], [[[469.0, 205.0], [522.0, 203.0], [523.0, 221.0], [470.0, 223.0]], ('6,768.00', 0.9577658772468567)], [[[593.0, 201.0], [651.0, 201.0], [651.0, 219.0], [593.0, 219.0]], ('10,396.00', 0.9696904420852661)], [[[722.0, 198.0], [781.0, 198.0], [781.0, 215.0], [722.0, 215.0]], ('17,475.00', 0.9672726392745972)], [[[850.0, 196.0], [905.0, 201.0], [904.0, 218.0], [848.0, 213.0]], ('15.356.00', 0.9419682621955872)], [[[342.0, 208.0], [395.0, 206.0], [395.0, 224.0], [342.0, 226.0]], ('7,171.00', 0.9479809999465942)], [[[1.0, 227.0], [117.0, 217.0], [118.0, 234.0], [2.0, 244.0]], ('Gross Operating Profit', 0.9642134308815002)], [[[12.0, 249.0], [113.0, 242.0], [114.0, 259.0], [13.0, 266.0]], ('Operating expenses', 0.973944902420044)], [[[474.0, 255.0], [524.0, 252.0], [525.0, 270.0], [475.0, 273.0]], ('2,829.00', 0.8957089185714722)], [[[603.0, 251.0], [654.0, 248.0], [655.0, 266.0], [604.0, 269.0]], ('3.924.00', 0.9171736240386963)], [[[735.0, 247.0], [784.0, 247.0], [784.0, 264.0], [735.0, 264.0]], ('5.268.00', 0.9638726115226746)], [[[861.0, 247.0], [907.0, 250.0], [906.0, 268.0], [860.0, 265.0]], ('7,339.00', 0.9148909449577332)], [[[347.0, 257.0], [396.0, 257.0], [396.0, 274.0], [347.0, 274.0]], ('2,376.00', 0.9670385122299194)], [[[12.0, 275.0], [150.0, 267.0], [151.0, 284.0], [13.0, 291.0]], ('Research and development', 0.9608801007270813)], [[[355.0, 284.0], [396.0, 282.0], [397.0, 301.0], [356.0, 303.0]], ('991.00', 0.994860827922821)], [[[477.0, 282.0], [525.0, 282.0], [525.0, 300.0], [477.0, 300.0]], ('1,093.00', 0.9874093532562256)], [[[606.0, 278.0], [656.0, 278.0], [656.0, 296.0], [606.0, 296.0]], ('1,940.00', 0.9482845067977905)], [[[737.0, 276.0], [785.0, 276.0], [785.0, 291.0], [737.0, 291.0]], ('2,166.00', 0.9401691555976868)], [[[863.0, 275.0], [908.0, 279.0], [907.0, 297.0], [861.0, 293.0]], ('2.440.00', 0.9366477727890015)], [[[12.0, 303.0], [181.0, 293.0], [182.0, 310.0], [13.0, 320.0]], ('Sales, general and administrative', 0.9262773394584656)], [[[12.0, 329.0], [62.0, 326.0], [64.0, 343.0], [13.0, 347.0]], ('Staff cost', 0.9635442495346069)], [[[13.0, 356.0], [163.0, 347.0], [164.0, 365.0], [14.0, 374.0]], ('Depreciation and amortization', 0.971767783164978)], [[[369.0, 365.0], [398.0, 365.0], [398.0, 385.0], [369.0, 385.0]], ('0.00', 0.9894711375236511)], [[[498.0, 364.0], [528.0, 364.0], [528.0, 382.0], [498.0, 382.0]], ('0.00', 0.9961130619049072)], [[[628.0, 360.0], [658.0, 357.0], [660.0, 377.0], [630.0, 380.0]], ('0.00', 0.9797650575637817)], [[[762.0, 356.0], [791.0, 356.0], [791.0, 374.0], [762.0, 374.0]], ('0.00', 0.9958871006965637)], [[[887.0, 361.0], [912.0, 361.0], [912.0, 377.0], [887.0, 377.0]], ('0.00', 0.9889876842498779)], [[[13.0, 384.0], [142.0, 376.0], [143.0, 393.0], [14.0, 400.0]], ('Other Operating Expenses', 0.9598948955535889)], [[[478.0, 393.0], [527.0, 393.0], [527.0, 411.0], [478.0, 411.0]], ('3.922.00', 0.9847177267074585)], [[[607.0, 390.0], [659.0, 388.0], [660.0, 406.0], [608.0, 408.0]], ('5,864.00', 0.8921643495559692)], [[[742.0, 385.0], [792.0, 385.0], [792.0, 403.0], [742.0, 403.0]], ('7.434.00', 0.9413965940475464)], [[[868.0, 385.0], [913.0, 389.0], [912.0, 408.0], [866.0, 404.0]], ('9.779.00', 0.9607760906219482)], [[[348.0, 396.0], [398.0, 396.0], [398.0, 414.0], [348.0, 414.0]], ('3,367.00', 0.9233134984970093)], [[[13.0, 411.0], [139.0, 405.0], [140.0, 423.0], [14.0, 429.0]], ('Total Operating Expenses', 0.9493496417999268)], [[[474.0, 422.0], [527.0, 420.0], [528.0, 439.0], [475.0, 441.0]], ('2,846.00', 0.9502429962158203)], [[[605.0, 418.0], [659.0, 416.0], [660.0, 435.0], [606.0, 437.0]], ('4,532.00', 0.9377254843711853)], [[[733.0, 413.0], [794.0, 412.0], [794.0, 430.0], [733.0, 431.0]], ('10,041.00', 0.9581038951873779)], [[[866.0, 414.0], [914.0, 416.0], [913.0, 434.0], [865.0, 432.0]], ('5,577.00', 0.9790981411933899)], [[[344.0, 425.0], [398.0, 423.0], [398.0, 441.0], [344.0, 443.0]], ('3,804.00', 0.9494807124137878)], [[[2.0, 438.0], [229.0, 427.0], [231.0, 447.0], [3.0, 459.0]], ('Operating income before interest and taxes', 0.9648022651672363)], [[[490.0, 451.0], [529.0, 451.0], [529.0, 469.0], [490.0, 469.0]], ('124.00', 0.95954829454422)], [[[615.0, 446.0], [661.0, 443.0], [662.0, 462.0], [616.0, 465.0]], ('-123.00', 0.9756332635879517)], [[[751.0, 442.0], [796.0, 442.0], [796.0, 460.0], [751.0, 460.0]], ('-100.00', 0.9876822233200073)], [[[868.0, 442.0], [915.0, 445.0], [914.0, 463.0], [867.0, 460.0]], ('-1,396.00', 0.8655722737312317)], [[[365.0, 453.0], [400.0, 453.0], [400.0, 471.0], [365.0, 471.0]], ('92.00', 0.996529221534729)], [[[3.0, 470.0], [112.0, 462.0], [113.0, 479.0], [4.0, 487.0]], ('Non-operating income', 0.9897357821464539)], [[[478.0, 479.0], [528.0, 476.0], [529.0, 495.0], [479.0, 497.0]], ('2,970.00', 0.9781362414360046)], [[[610.0, 476.0], [662.0, 473.0], [663.0, 491.0], [611.0, 494.0]], ('4,409.00', 0.9558218717575073)], [[[746.0, 470.0], [797.0, 470.0], [797.0, 488.0], [746.0, 488.0]], ('9,941.00', 0.9597591161727905)], [[[873.0, 470.0], [916.0, 474.0], [915.0, 492.0], [871.0, 488.0]], ('4.181.00', 0.9505043625831604)], [[[350.0, 481.0], [400.0, 481.0], [400.0, 499.0], [350.0, 499.0]], ('3.896.00', 0.937021017074585)], [[[2.0, 496.0], [141.0, 489.0], [142.0, 506.0], [3.0, 513.0]], ('Income before income taxes', 0.9539366364479065)], [[[490.0, 507.0], [530.0, 507.0], [530.0, 525.0], [490.0, 525.0]], ('174.00', 0.9959599375724792)], [[[628.0, 503.0], [664.0, 503.0], [664.0, 521.0], [628.0, 521.0]], ('77.00', 0.9963623881340027)], [[[759.0, 501.0], [798.0, 501.0], [798.0, 516.0], [759.0, 516.0]], ('189.00', 0.9931483864784241)], [[[881.0, 499.0], [917.0, 502.0], [916.0, 520.0], [879.0, 518.0]], ('-187.00', 0.9750319123268127)], [[[357.0, 510.0], [400.0, 510.0], [400.0, 528.0], [357.0, 528.0]], ('-245.00', 0.9847263097763062)], [[[2.0, 524.0], [132.0, 518.0], [133.0, 535.0], [3.0, 541.0]], ('Provision for income taxes', 0.9486920833587646)], [[[480.0, 536.0], [530.0, 536.0], [530.0, 554.0], [480.0, 554.0]], ('2,796.00', 0.9718641042709351)], [[[613.0, 532.0], [664.0, 532.0], [664.0, 550.0], [613.0, 550.0]], ('4,332.00', 0.9687792062759399)], [[[749.0, 529.0], [800.0, 529.0], [800.0, 547.0], [749.0, 547.0]], ('9,752.00', 0.9263883829116821)], [[[350.0, 539.0], [401.0, 537.0], [401.0, 555.0], [350.0, 557.0]], ('4.141.00', 0.9217947125434875)], [[[877.0, 530.0], [919.0, 530.0], [919.0, 548.0], [877.0, 548.0]], ('4,368.00', 0.9737399220466614)], [[[2.0, 551.0], [200.0, 546.0], [200.0, 562.0], [2.0, 568.0]], ('Net income from continuing operations', 0.9559010863304138)], [[[476.0, 564.0], [530.0, 561.0], [531.0, 580.0], [477.0, 583.0]], ('2,796.00', 0.9660294055938721)], [[[610.0, 561.0], [665.0, 561.0], [665.0, 578.0], [610.0, 578.0]], ('4,332.00', 0.9645786285400391)], [[[746.0, 557.0], [801.0, 556.0], [801.0, 574.0], [746.0, 576.0]], ('9,752.00', 0.9578834772109985)], [[[348.0, 567.0], [401.0, 567.0], [401.0, 584.0], [348.0, 584.0]], ('4,141.00', 0.9705839157104492)], [[[875.0, 558.0], [919.0, 558.0], [919.0, 575.0], [875.0, 575.0]], ('4,368.00', 0.9871493577957153)], [[[3.0, 580.0], [59.0, 577.0], [60.0, 594.0], [3.0, 596.0]], ('Net Income', 0.9869281649589539)], [[[351.0, 596.0], [402.0, 594.0], [402.0, 613.0], [352.0, 615.0]], ('4,141.00', 0.8802502155303955)], [[[481.0, 593.0], [532.0, 593.0], [532.0, 611.0], [481.0, 611.0]], ('2,796.00', 0.9647493958473206)], [[[614.0, 590.0], [666.0, 590.0], [666.0, 608.0], [614.0, 608.0]], ('4,332.00', 0.9409222602844238)], [[[751.0, 587.0], [802.0, 587.0], [802.0, 605.0], [751.0, 605.0]], ('9.752.00', 0.9384689927101135)], [[[879.0, 587.0], [920.0, 587.0], [920.0, 605.0], [879.0, 605.0]], ('4,368.00', 0.9533986449241638)], [[[3.0, 607.0], [243.0, 602.0], [243.0, 619.0], [3.0, 624.0]], ('Net income available for common shareholders', 0.9713889956474304)], [[[3.0, 639.0], [94.0, 637.0], [95.0, 655.0], [3.0, 657.0]], ('Earnings per share', 0.9374220371246338)], [[[374.0, 659.0], [403.0, 659.0], [403.0, 677.0], [374.0, 677.0]], ('1.70', 0.996668815612793)], [[[505.0, 656.0], [535.0, 656.0], [535.0, 675.0], [505.0, 675.0]], ('1.15', 0.982512354850769)], [[[639.0, 654.0], [670.0, 654.0], [670.0, 673.0], [639.0, 673.0]], ('1.76', 0.9967185258865356)], [[[777.0, 652.0], [806.0, 652.0], [806.0, 672.0], [777.0, 672.0]], ('3.91', 0.9965174794197083)], [[[900.0, 652.0], [924.0, 652.0], [924.0, 671.0], [900.0, 671.0]], ('1.76', 0.995669960975647)], [[[4.0, 671.0], [29.0, 671.0], [29.0, 686.0], [4.0, 686.0]], ('Basic', 0.9929836988449097)], [[[374.0, 687.0], [404.0, 687.0], [404.0, 706.0], [374.0, 706.0]], ('1.66', 0.9925438165664673)], [[[506.0, 684.0], [535.0, 684.0], [535.0, 704.0], [506.0, 704.0]], ('1.13', 0.9941884875297546)], [[[640.0, 682.0], [671.0, 682.0], [671.0, 702.0], [640.0, 702.0]], ('1.73', 0.9946274161338806)], [[[777.0, 681.0], [808.0, 681.0], [808.0, 700.0], [777.0, 700.0]], ('3.85', 0.9925879240036011)], [[[902.0, 680.0], [923.0, 680.0], [923.0, 697.0], [902.0, 697.0]], ('1.74', 0.9954384565353394)], [[[3.0, 697.0], [38.0, 697.0], [38.0, 715.0], [3.0, 715.0]], ('Diluted', 0.9723383784294128)]]\n"
          ]
        }
      ]
    },
    {
      "cell_type": "code",
      "source": [],
      "metadata": {
        "id": "zTWkDgJm3qvX"
      },
      "execution_count": 23,
      "outputs": []
    },
    {
      "cell_type": "code",
      "source": [
        "boxes = [line[0] for line in output[0]]\n",
        "text = [line[1][0] for line in output[0]]\n",
        "probabilities = [line[1][1] for line in output[0]]\n"
      ],
      "metadata": {
        "id": "Ba282-Gqa7nP"
      },
      "execution_count": 24,
      "outputs": []
    },
    {
      "cell_type": "code",
      "source": [
        "image_boxes = image_cv.copy()"
      ],
      "metadata": {
        "id": "zx8aUEB7dd_n"
      },
      "execution_count": 25,
      "outputs": []
    },
    {
      "cell_type": "code",
      "source": [
        "for box in boxes:\n",
        "  cv2.rectangle(image_boxes,(int(box[0][0]),int(box[0][1])), (int(box[2][0]),int(box[2][1])), (0,0,255),1 )"
      ],
      "metadata": {
        "id": "VLNhW1C0_u1D"
      },
      "execution_count": 26,
      "outputs": []
    },
    {
      "cell_type": "code",
      "source": [
        "cv2.imwrite('detection.jpg',image_boxes)"
      ],
      "metadata": {
        "id": "ue-7Uv_9BFN5",
        "colab": {
          "base_uri": "https://localhost:8080/"
        },
        "outputId": "1a351bc6-32c8-4361-c206-c3fdd97414f7"
      },
      "execution_count": 27,
      "outputs": [
        {
          "output_type": "execute_result",
          "data": {
            "text/plain": [
              "True"
            ]
          },
          "metadata": {},
          "execution_count": 27
        }
      ]
    },
    {
      "cell_type": "code",
      "source": [
        "from PIL import Image, ImageDraw, ImageFont\n",
        "\n",
        "ia = Image.open('/content/ext_im.jpg').convert('RGB')\n",
        "\n",
        "im_show = draw_ocr(ia, boxes, text, probabilities,font_path='/usr/share/fonts/truetype/humor-sans/Humor-Sans.ttf' )\n",
        "im_show = Image.fromarray(im_show)\n",
        "im_show.save('result.jpg')"
      ],
      "metadata": {
        "id": "E5_sGy2MfZJF"
      },
      "execution_count": 28,
      "outputs": []
    },
    {
      "cell_type": "markdown",
      "source": [
        "### Recontruction"
      ],
      "metadata": {
        "id": "2a3cEyPM4y3-"
      }
    },
    {
      "cell_type": "code",
      "source": [
        "ima = image_cv.copy()"
      ],
      "metadata": {
        "id": "Ww5v5Uf68cMD"
      },
      "execution_count": 29,
      "outputs": []
    },
    {
      "cell_type": "code",
      "source": [
        "horiz_boxes = []\n",
        "vert_boxes = []"
      ],
      "metadata": {
        "id": "iCckW9jq4HKc"
      },
      "execution_count": 30,
      "outputs": []
    },
    {
      "cell_type": "code",
      "source": [
        "for box in boxes:\n",
        "  x_h, x_v = 0,int(box[0][0])\n",
        "  y_h, y_v = int(box[0][1]),0\n",
        "\n",
        "  width_h, width_v = image_width, int(box[2][0]-box[0][0])\n",
        "  height_h, height_v = int(box[2][1]- box[0][1]), image_height\n",
        "\n",
        "  horiz_boxes.append([x_h,y_h, x_h+ width_h, y_h + height_h])\n",
        "  vert_boxes.append([x_v, y_v, x_v + width_v, y_v + height_v])\n",
        "\n",
        "  cv2.rectangle(ima,(x_h,y_h),(x_h+ width_h, y_h + height_h), (0,0,255),1 )\n",
        "  cv2.rectangle(ima,(x_v,y_v),(x_v+ width_v, y_v + height_v), (255,255,0),1 )"
      ],
      "metadata": {
        "id": "JUbaaPtk48K6"
      },
      "execution_count": 31,
      "outputs": []
    },
    {
      "cell_type": "code",
      "source": [
        "cv2.imwrite('horiz_vert.jpg', ima)"
      ],
      "metadata": {
        "id": "Yc9SWtwe5N2B",
        "colab": {
          "base_uri": "https://localhost:8080/"
        },
        "outputId": "23d891a1-ae8d-402d-e75e-86d9ba336dbb"
      },
      "execution_count": 32,
      "outputs": [
        {
          "output_type": "execute_result",
          "data": {
            "text/plain": [
              "True"
            ]
          },
          "metadata": {},
          "execution_count": 32
        }
      ]
    },
    {
      "cell_type": "code",
      "source": [
        "import tensorflow as tf\n",
        "horiz_out = tf.image.non_max_suppression(\n",
        "    horiz_boxes,               # Tensor of shape [num_boxes, 4] containing the bounding boxes\n",
        "    probabilities,             # Tensor of shape [num_boxes] containing the corresponding probabilities\n",
        "    max_output_size=1000,      # Maximum number of selected boxes\n",
        "    iou_threshold=0.2,         # Intersection over union (IoU) threshold for overlapping boxes\n",
        "    score_threshold=float('-inf'),  # Optional score threshold for discarding boxes\n",
        "    name=None                  # Optional name for the operation\n",
        ")\n"
      ],
      "metadata": {
        "id": "EJuthm_v9Nkj"
      },
      "execution_count": 33,
      "outputs": []
    },
    {
      "cell_type": "code",
      "source": [
        "horiz_out"
      ],
      "metadata": {
        "id": "YjAUQchfVrIV",
        "colab": {
          "base_uri": "https://localhost:8080/"
        },
        "outputId": "b6511f84-b058-45e4-d8a8-3d3c3485592e"
      },
      "execution_count": 34,
      "outputs": [
        {
          "output_type": "execute_result",
          "data": {
            "text/plain": [
              "<tf.Tensor: shape=(38,), dtype=int32, numpy=\n",
              "array([  9, 100,  65,  74,  44,  15, 108,  35,  66,  89,  90,  49,  58,\n",
              "        67,  10,  28,  83,   0, 109,  42,  96,  23,  33,   4,  60,  92,\n",
              "        27,  41,  34,  48,   2,  84,  72,   1,  97,  40,  20,   3],\n",
              "      dtype=int32)>"
            ]
          },
          "metadata": {},
          "execution_count": 34
        }
      ]
    },
    {
      "cell_type": "code",
      "source": [
        "\n",
        "import numpy as np\n",
        "\n",
        "horiz_line = np.sort(np.array(horiz_out))"
      ],
      "metadata": {
        "id": "AlyOWhXHbTH3"
      },
      "execution_count": 35,
      "outputs": []
    },
    {
      "cell_type": "code",
      "source": [
        "horiz_line"
      ],
      "metadata": {
        "id": "6xRZ_kxifCjF",
        "colab": {
          "base_uri": "https://localhost:8080/"
        },
        "outputId": "34d14d4d-813a-4c44-af08-974c14fb67be"
      },
      "execution_count": 36,
      "outputs": [
        {
          "output_type": "execute_result",
          "data": {
            "text/plain": [
              "array([  0,   1,   2,   3,   4,   9,  10,  15,  20,  23,  27,  28,  33,\n",
              "        34,  35,  40,  41,  42,  44,  48,  49,  58,  60,  65,  66,  67,\n",
              "        72,  74,  83,  84,  89,  90,  92,  96,  97, 100, 108, 109],\n",
              "      dtype=int32)"
            ]
          },
          "metadata": {},
          "execution_count": 36
        }
      ]
    },
    {
      "cell_type": "code",
      "source": [
        "boxes[3]"
      ],
      "metadata": {
        "id": "RV3ZzmlwfEsG",
        "colab": {
          "base_uri": "https://localhost:8080/"
        },
        "outputId": "8993e28d-48b8-4e2f-d867-96b10128f33b"
      },
      "execution_count": 37,
      "outputs": [
        {
          "output_type": "execute_result",
          "data": {
            "text/plain": [
              "[[331.0, 45.0], [491.0, 40.0], [492.0, 54.0], [331.0, 59.0]]"
            ]
          },
          "metadata": {},
          "execution_count": 37
        }
      ]
    },
    {
      "cell_type": "code",
      "source": [
        "im_nms = image_cv.copy()"
      ],
      "metadata": {
        "id": "Th4MZ_4KfLEl"
      },
      "execution_count": 38,
      "outputs": []
    },
    {
      "cell_type": "code",
      "source": [
        "for val in horiz_line:\n",
        "    cv2.rectangle(im_nms,(int(horiz_boxes[val][0]),int(horiz_boxes[val][1])), (int(horiz_boxes[val][2]),int(horiz_boxes[val][3])), (0,0,255),1 )"
      ],
      "metadata": {
        "id": "iYZm1IfZfmcK"
      },
      "execution_count": 39,
      "outputs": []
    },
    {
      "cell_type": "code",
      "source": [
        "import tensorflow as tf\n",
        "vert_out = tf.image.non_max_suppression(\n",
        "    vert_boxes,               # Tensor of shape [num_boxes, 4] containing the bounding boxes\n",
        "    probabilities,             # Tensor of shape [num_boxes] containing the corresponding probabilities\n",
        "    max_output_size=1000,      # Maximum number of selected boxes\n",
        "    iou_threshold=0.1,         # Intersection over union (IoU) threshold for overlapping boxes\n",
        "    score_threshold=float('-inf'),  # Optional score threshold for discarding boxes\n",
        "    name=None                  # Optional name for the operation\n",
        ")\n"
      ],
      "metadata": {
        "id": "dQkJeNrAg_JD"
      },
      "execution_count": 40,
      "outputs": []
    },
    {
      "cell_type": "code",
      "source": [
        "vert_out"
      ],
      "metadata": {
        "id": "Ch0OPJSJjJRM",
        "colab": {
          "base_uri": "https://localhost:8080/"
        },
        "outputId": "d788504e-ecde-463e-a979-d0ebee17a15b"
      },
      "execution_count": 41,
      "outputs": [
        {
          "output_type": "execute_result",
          "data": {
            "text/plain": [
              "<tf.Tensor: shape=(8,), dtype=int32, numpy=array([  9,   8,   5,   6, 101,  15, 102,   7], dtype=int32)>"
            ]
          },
          "metadata": {},
          "execution_count": 41
        }
      ]
    },
    {
      "cell_type": "code",
      "source": [
        "vert_line = np.sort(np.array(vert_out))"
      ],
      "metadata": {
        "id": "FMl-DxfwjLP-"
      },
      "execution_count": 42,
      "outputs": []
    },
    {
      "cell_type": "code",
      "source": [
        "for val in vert_line:\n",
        "    cv2.rectangle(im_nms,(int(vert_boxes[val][0]),int(vert_boxes[val][1])), (int(vert_boxes[val][2]),int(vert_boxes[val][2])), (0,255,0),1 )"
      ],
      "metadata": {
        "id": "AhmDigPojQrq"
      },
      "execution_count": 43,
      "outputs": []
    },
    {
      "cell_type": "code",
      "source": [
        "cv2.imwrite('im_nms.jpg', im_nms)"
      ],
      "metadata": {
        "id": "k2_WXf-xg4yw",
        "colab": {
          "base_uri": "https://localhost:8080/"
        },
        "outputId": "693f0248-f40b-462e-e1e7-727a8fec45b5"
      },
      "execution_count": 44,
      "outputs": [
        {
          "output_type": "execute_result",
          "data": {
            "text/plain": [
              "True"
            ]
          },
          "metadata": {},
          "execution_count": 44
        }
      ]
    },
    {
      "cell_type": "markdown",
      "source": [
        "### Convert to CSV"
      ],
      "metadata": {
        "id": "ZrFmmyKbC2mY"
      }
    },
    {
      "cell_type": "code",
      "source": [
        "\n",
        "out_array = [[\"\" for i in range(len(vert_line))] for j in range(len(horiz_line))]\n",
        "out_array"
      ],
      "metadata": {
        "id": "QXiFDlosj3X7",
        "colab": {
          "base_uri": "https://localhost:8080/"
        },
        "outputId": "c9e789b4-0fa2-4bda-b254-b4648291301a"
      },
      "execution_count": 45,
      "outputs": [
        {
          "output_type": "execute_result",
          "data": {
            "text/plain": [
              "[['', '', '', '', '', '', '', ''],\n",
              " ['', '', '', '', '', '', '', ''],\n",
              " ['', '', '', '', '', '', '', ''],\n",
              " ['', '', '', '', '', '', '', ''],\n",
              " ['', '', '', '', '', '', '', ''],\n",
              " ['', '', '', '', '', '', '', ''],\n",
              " ['', '', '', '', '', '', '', ''],\n",
              " ['', '', '', '', '', '', '', ''],\n",
              " ['', '', '', '', '', '', '', ''],\n",
              " ['', '', '', '', '', '', '', ''],\n",
              " ['', '', '', '', '', '', '', ''],\n",
              " ['', '', '', '', '', '', '', ''],\n",
              " ['', '', '', '', '', '', '', ''],\n",
              " ['', '', '', '', '', '', '', ''],\n",
              " ['', '', '', '', '', '', '', ''],\n",
              " ['', '', '', '', '', '', '', ''],\n",
              " ['', '', '', '', '', '', '', ''],\n",
              " ['', '', '', '', '', '', '', ''],\n",
              " ['', '', '', '', '', '', '', ''],\n",
              " ['', '', '', '', '', '', '', ''],\n",
              " ['', '', '', '', '', '', '', ''],\n",
              " ['', '', '', '', '', '', '', ''],\n",
              " ['', '', '', '', '', '', '', ''],\n",
              " ['', '', '', '', '', '', '', ''],\n",
              " ['', '', '', '', '', '', '', ''],\n",
              " ['', '', '', '', '', '', '', ''],\n",
              " ['', '', '', '', '', '', '', ''],\n",
              " ['', '', '', '', '', '', '', ''],\n",
              " ['', '', '', '', '', '', '', ''],\n",
              " ['', '', '', '', '', '', '', ''],\n",
              " ['', '', '', '', '', '', '', ''],\n",
              " ['', '', '', '', '', '', '', ''],\n",
              " ['', '', '', '', '', '', '', ''],\n",
              " ['', '', '', '', '', '', '', ''],\n",
              " ['', '', '', '', '', '', '', ''],\n",
              " ['', '', '', '', '', '', '', ''],\n",
              " ['', '', '', '', '', '', '', ''],\n",
              " ['', '', '', '', '', '', '', '']]"
            ]
          },
          "metadata": {},
          "execution_count": 45
        }
      ]
    },
    {
      "cell_type": "code",
      "source": [
        "unordered_boxes = []\n",
        "\n",
        "for i in vert_line:\n",
        "  unordered_boxes.append(vert_boxes[i][0])\n"
      ],
      "metadata": {
        "id": "ywPOdeAQS2D1"
      },
      "execution_count": 51,
      "outputs": []
    },
    {
      "cell_type": "code",
      "source": [
        "ordered_box = np.argsort(unordered_boxes)"
      ],
      "metadata": {
        "id": "rqJEpWyDTuwP"
      },
      "execution_count": 52,
      "outputs": []
    },
    {
      "cell_type": "code",
      "source": [
        "def intersection(box_1, box_2):\n",
        "  return [box_2[0],box_1[1], box_2[2], box_1[3]]"
      ],
      "metadata": {
        "id": "9bftgl9vKe3k"
      },
      "execution_count": 53,
      "outputs": []
    },
    {
      "cell_type": "code",
      "source": [
        "def iou(box_1, box_2):\n",
        "  x_1 = max(box_1[0], box_2[0])\n",
        "  y_1 = max(box_1[1], box_2[1])\n",
        "\n",
        "  x_2 = min(box_1[2], box_2[2])\n",
        "  y_2 = min(box_1[3], box_2[3])\n",
        "\n",
        "  inter = abs(max((x_2 - x_1, 0)) * max((y_2- y_1),0))\n",
        "  if inter == 0:\n",
        "    return 0\n",
        "\n",
        "  box_1_area = abs((box_1[2] - box_1[0]) * (box_1[3] - box_1[1]))\n",
        "  box_2_area = abs((box_2[2] - box_2[0]) * (box_2[3] - box_2[1]))\n",
        "  return inter / float(box_1_area + box_2_area - inter)"
      ],
      "metadata": {
        "id": "j4SXu3sgVpfS"
      },
      "execution_count": 54,
      "outputs": []
    },
    {
      "cell_type": "code",
      "source": [
        "for i in range(len(horiz_line)):\n",
        "  for j in range(len(vert_line)):\n",
        "    resultant = intersection(horiz_boxes[horiz_line[i]], vert_boxes[vert_line[ordered_box[j]]])\n",
        "\n",
        "    for b in range(len(boxes)):\n",
        "      the_box = [boxes[b][0][0], boxes[b][0][1],boxes[b][2][0], boxes[b][2][1]]\n",
        "      if (iou(resultant, the_box)> 0.1):\n",
        "        out_array[i][j] = text[b]"
      ],
      "metadata": {
        "id": "8u6vJXhumsi2"
      },
      "execution_count": 55,
      "outputs": []
    },
    {
      "cell_type": "code",
      "source": [
        "out_array"
      ],
      "metadata": {
        "id": "SchzGbFRKHkA",
        "colab": {
          "base_uri": "https://localhost:8080/"
        },
        "outputId": "d743862e-2a30-4f3a-b898-55e349abd364"
      },
      "execution_count": 56,
      "outputs": [
        {
          "output_type": "execute_result",
          "data": {
            "text/plain": [
              "[['10 12/07/2023', '', '', '', '', '', '', ''],\n",
              " ['',\n",
              "  '',\n",
              "  'NVIDIA Corp Income statement | NVDA-Morningstar',\n",
              "  'NVIDIA Corp Income statement | NVDA-Morningstar',\n",
              "  '',\n",
              "  '',\n",
              "  '',\n",
              "  ''],\n",
              " ['NVIDIA Corp-NVDA /**', '', '', '', '', '', '', ''],\n",
              " ['', 'Bn Co CPA -Scor Dico-Mcng', '', '', '', '', '', ''],\n",
              " ['Income Statement', '', '', '', '', '', '', ''],\n",
              " ['', '2019', '2020', '2021', '26.914.00', '', '26.974.00', ''],\n",
              " ['', '11.716.00', '10,918.00', '16.675.00', '26.914.00', '', '26.974.00', ''],\n",
              " ['Revenue',\n",
              "  '4.545.00',\n",
              "  '4,150.00',\n",
              "  '6,279.00',\n",
              "  '9,439.00',\n",
              "  '',\n",
              "  '11,618.00',\n",
              "  ''],\n",
              " ['Revenue',\n",
              "  '4.545.00',\n",
              "  '4,150.00',\n",
              "  '6,279.00',\n",
              "  '9,439.00',\n",
              "  '',\n",
              "  '11,618.00',\n",
              "  ''],\n",
              " ['Cost of Revenue',\n",
              "  '7,171.00',\n",
              "  '6,768.00',\n",
              "  '10,396.00',\n",
              "  '17,475.00',\n",
              "  '',\n",
              "  '15.356.00',\n",
              "  ''],\n",
              " ['Gross Operating Profit', '', '', '', '', '', '', ''],\n",
              " ['Operating expenses',\n",
              "  '',\n",
              "  '2,829.00',\n",
              "  '3.924.00',\n",
              "  '5.268.00',\n",
              "  '',\n",
              "  '7,339.00',\n",
              "  ''],\n",
              " ['', '2,376.00', '2,829.00', '3.924.00', '5.268.00', '', '7,339.00', ''],\n",
              " ['Research and development',\n",
              "  '',\n",
              "  '',\n",
              "  '1,940.00',\n",
              "  '2,166.00',\n",
              "  '',\n",
              "  '2.440.00',\n",
              "  ''],\n",
              " ['', '991.00', '1,093.00', '1,940.00', '2,166.00', '', '2.440.00', ''],\n",
              " ['Sales, general and administrative', '', '', '', '', '', '', ''],\n",
              " ['Staff cost', '', '', '', '', '', '', ''],\n",
              " ['Depreciation and amortization', '', '', '0.00', '0.00', '0.00', '', ''],\n",
              " ['', '0.00', '0.00', '0.00', '0.00', '0.00', '0.00', '0.00'],\n",
              " ['Other Operating Expenses',\n",
              "  '',\n",
              "  '',\n",
              "  '',\n",
              "  '7.434.00',\n",
              "  '7.434.00',\n",
              "  '9.779.00',\n",
              "  ''],\n",
              " ['',\n",
              "  '3,367.00',\n",
              "  '3.922.00',\n",
              "  '5,864.00',\n",
              "  '7.434.00',\n",
              "  '7.434.00',\n",
              "  '9.779.00',\n",
              "  '9.779.00'],\n",
              " ['Total Operating Expenses',\n",
              "  '3,804.00',\n",
              "  '2,846.00',\n",
              "  '4,532.00',\n",
              "  '10,041.00',\n",
              "  '10,041.00',\n",
              "  '5,577.00',\n",
              "  '5,577.00'],\n",
              " ['Operating income before interest and taxes',\n",
              "  '',\n",
              "  '',\n",
              "  '',\n",
              "  '-100.00',\n",
              "  '',\n",
              "  '-1,396.00',\n",
              "  ''],\n",
              " ['',\n",
              "  '92.00',\n",
              "  '124.00',\n",
              "  '-123.00',\n",
              "  '-100.00',\n",
              "  '-100.00',\n",
              "  '-1,396.00',\n",
              "  '-1,396.00'],\n",
              " ['Non-operating income',\n",
              "  '',\n",
              "  '',\n",
              "  '4,409.00',\n",
              "  '9,941.00',\n",
              "  '9,941.00',\n",
              "  '4.181.00',\n",
              "  '4.181.00'],\n",
              " ['',\n",
              "  '3.896.00',\n",
              "  '2,970.00',\n",
              "  '4,409.00',\n",
              "  '9,941.00',\n",
              "  '9,941.00',\n",
              "  '4.181.00',\n",
              "  '4.181.00'],\n",
              " ['Income before income taxes',\n",
              "  '',\n",
              "  '',\n",
              "  '',\n",
              "  '189.00',\n",
              "  '189.00',\n",
              "  '-187.00',\n",
              "  '-187.00'],\n",
              " ['', '-245.00', '174.00', '77.00', '189.00', '189.00', '-187.00', '-187.00'],\n",
              " ['Provision for income taxes',\n",
              "  '4.141.00',\n",
              "  '2,796.00',\n",
              "  '4,332.00',\n",
              "  '9,752.00',\n",
              "  '9,752.00',\n",
              "  '4,368.00',\n",
              "  '4,368.00'],\n",
              " ['Net income from continuing operations',\n",
              "  '4.141.00',\n",
              "  '',\n",
              "  '',\n",
              "  '9,752.00',\n",
              "  '9,752.00',\n",
              "  '4,368.00',\n",
              "  ''],\n",
              " ['',\n",
              "  '4,141.00',\n",
              "  '2,796.00',\n",
              "  '4,332.00',\n",
              "  '9,752.00',\n",
              "  '9,752.00',\n",
              "  '4,368.00',\n",
              "  '4,368.00'],\n",
              " ['Net Income',\n",
              "  '',\n",
              "  '',\n",
              "  '4,332.00',\n",
              "  '9.752.00',\n",
              "  '9.752.00',\n",
              "  '4,368.00',\n",
              "  '4,368.00'],\n",
              " ['',\n",
              "  '4,141.00',\n",
              "  '2,796.00',\n",
              "  '4,332.00',\n",
              "  '9.752.00',\n",
              "  '9.752.00',\n",
              "  '4,368.00',\n",
              "  '4,368.00'],\n",
              " ['Net income available for common shareholders',\n",
              "  '4,141.00',\n",
              "  '2,796.00',\n",
              "  '',\n",
              "  '',\n",
              "  '',\n",
              "  '',\n",
              "  ''],\n",
              " ['Earnings per share', '', '', '', '', '', '', ''],\n",
              " ['', '1.70', '1.15', '1.76', '', '3.91', '', '1.76'],\n",
              " ['Basic', '1.66', '1.13', '1.73', '', '3.85', '', '1.74'],\n",
              " ['Diluted', '1.66', '1.13', '', '', '', '', '']]"
            ]
          },
          "metadata": {},
          "execution_count": 56
        }
      ]
    },
    {
      "cell_type": "code",
      "source": [
        "import pandas as pd\n",
        "pd.DataFrame(out_array).to_csv('text.csv')"
      ],
      "metadata": {
        "id": "wVkDOdewYk2x"
      },
      "execution_count": 58,
      "outputs": []
    },
    {
      "cell_type": "code",
      "source": [],
      "metadata": {
        "id": "1QciYi8ZY7wG"
      },
      "execution_count": null,
      "outputs": []
    }
  ]
}