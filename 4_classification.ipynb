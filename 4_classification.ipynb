{
  "nbformat": 4,
  "nbformat_minor": 0,
  "metadata": {
    "colab": {
      "provenance": [],
      "gpuType": "T4",
      "name": "4_classification.ipynb",
      "include_colab_link": true
    },
    "kernelspec": {
      "name": "python3",
      "display_name": "Python 3"
    },
    "language_info": {
      "name": "python"
    },
    "accelerator": "GPU"
  },
  "cells": [
    {
      "cell_type": "markdown",
      "metadata": {
        "id": "view-in-github",
        "colab_type": "text"
      },
      "source": [
        "<a href=\"https://colab.research.google.com/github/Dinhthixuanbinh/Note/blob/main/4_classification.ipynb\" target=\"_parent\"><img src=\"https://colab.research.google.com/assets/colab-badge.svg\" alt=\"Open In Colab\"/></a>"
      ]
    },
    {
      "cell_type": "code",
      "source": [
        "from google.colab import drive\n",
        "drive.mount('/content/drive')"
      ],
      "metadata": {
        "id": "Uxds3OwbYq_z",
        "colab": {
          "base_uri": "https://localhost:8080/"
        },
        "outputId": "82015c7f-c452-475e-eb12-756b4a77c40b"
      },
      "execution_count": null,
      "outputs": [
        {
          "output_type": "stream",
          "name": "stdout",
          "text": [
            "Drive already mounted at /content/drive; to attempt to forcibly remount, call drive.mount(\"/content/drive\", force_remount=True).\n"
          ]
        }
      ]
    },
    {
      "cell_type": "markdown",
      "source": [
        "# Read Data"
      ],
      "metadata": {
        "id": "ivHV5hK4SbUL"
      }
    },
    {
      "cell_type": "code",
      "source": [
        "import numpy as np\n",
        "import tensorflow as tf\n",
        "from tensorflow import keras\n",
        "from tensorflow.keras.utils import image_dataset_from_directory\n",
        "import matplotlib.pyplot as plt\n",
        "from tensorflow.keras import layers\n",
        "import os, shutil, pathlib\n",
        "import random\n",
        "import cv2\n",
        "from sklearn.model_selection import train_test_split\n"
      ],
      "metadata": {
        "id": "5IGKE4Af4oUb"
      },
      "execution_count": null,
      "outputs": []
    },
    {
      "cell_type": "code",
      "source": [
        "data = []\n",
        "labels = []\n",
        "\n",
        "\n",
        "target_size = (180,180)"
      ],
      "metadata": {
        "id": "C5NG95Vz6deN"
      },
      "execution_count": null,
      "outputs": []
    },
    {
      "cell_type": "code",
      "source": [
        "train_dir = '/content/drive/MyDrive/Dataset'"
      ],
      "metadata": {
        "id": "bunkPchw6lmd"
      },
      "execution_count": null,
      "outputs": []
    },
    {
      "cell_type": "code",
      "source": [
        "def read_file(path,datas,labels):\n",
        "    for category in os.listdir(path):\n",
        "     category_dir = os.path.join(path, category)\n",
        "     for image_name in os.listdir(category_dir):\n",
        "        image_path = os.path.join(category_dir, image_name)\n",
        "        image = cv2.imread(image_path)\n",
        "        image = cv2.resize(image, target_size)\n",
        "        datas.append(image)\n",
        "        labels.append(category)\n",
        "    return np.array(datas), np.array(labels)"
      ],
      "metadata": {
        "id": "pd7t1gcP52AT"
      },
      "execution_count": null,
      "outputs": []
    },
    {
      "cell_type": "code",
      "source": [
        "read_file(train_dir,data,labels)"
      ],
      "metadata": {
        "colab": {
          "base_uri": "https://localhost:8080/"
        },
        "id": "2Mah2t506SC0",
        "outputId": "c1024d32-1b98-40fa-8ad3-0ba2a5bee6fe"
      },
      "execution_count": null,
      "outputs": [
        {
          "output_type": "execute_result",
          "data": {
            "text/plain": [
              "(array([[[[145, 135, 128],\n",
              "          [144, 134, 127],\n",
              "          [146, 136, 130],\n",
              "          ...,\n",
              "          [155, 147, 134],\n",
              "          [164, 156, 143],\n",
              "          [167, 159, 146]],\n",
              " \n",
              "         [[148, 138, 131],\n",
              "          [138, 128, 121],\n",
              "          [143, 133, 126],\n",
              "          ...,\n",
              "          [156, 148, 136],\n",
              "          [159, 151, 138],\n",
              "          [163, 155, 142]],\n",
              " \n",
              "         [[141, 131, 124],\n",
              "          [133, 123, 116],\n",
              "          [143, 133, 126],\n",
              "          ...,\n",
              "          [162, 154, 141],\n",
              "          [164, 156, 143],\n",
              "          [169, 161, 148]],\n",
              " \n",
              "         ...,\n",
              " \n",
              "         [[ 74,  78,  77],\n",
              "          [ 61,  67,  66],\n",
              "          [ 59,  65,  64],\n",
              "          ...,\n",
              "          [ 95, 107, 113],\n",
              "          [ 89, 101, 107],\n",
              "          [ 80,  90,  97]],\n",
              " \n",
              "         [[ 99, 104, 100],\n",
              "          [ 46,  52,  48],\n",
              "          [ 52,  58,  54],\n",
              "          ...,\n",
              "          [ 84,  96, 102],\n",
              "          [ 94, 106, 112],\n",
              "          [ 77,  88,  95]],\n",
              " \n",
              "         [[128, 134, 124],\n",
              "          [113, 119, 109],\n",
              "          [121, 126, 117],\n",
              "          ...,\n",
              "          [ 64,  73,  81],\n",
              "          [ 96, 107, 114],\n",
              "          [ 78,  88,  92]]],\n",
              " \n",
              " \n",
              "        [[[ 28,  23,   5],\n",
              "          [ 59,  52,  37],\n",
              "          [ 60,  52,  50],\n",
              "          ...,\n",
              "          [ 19,  22,  20],\n",
              "          [ 20,  23,  21],\n",
              "          [ 20,  23,  21]],\n",
              " \n",
              "         [[ 45,  40,  16],\n",
              "          [ 54,  47,  32],\n",
              "          [ 56,  49,  46],\n",
              "          ...,\n",
              "          [ 22,  25,  23],\n",
              "          [ 23,  26,  24],\n",
              "          [ 21,  24,  22]],\n",
              " \n",
              "         [[ 80,  74,  51],\n",
              "          [ 47,  40,  25],\n",
              "          [ 41,  33,  31],\n",
              "          ...,\n",
              "          [ 21,  24,  22],\n",
              "          [ 24,  27,  25],\n",
              "          [ 20,  23,  21]],\n",
              " \n",
              "         ...,\n",
              " \n",
              "         [[ 83,  90,  84],\n",
              "          [ 77,  84,  79],\n",
              "          [ 75,  82,  79],\n",
              "          ...,\n",
              "          [ 59,  67,  66],\n",
              "          [ 47,  54,  53],\n",
              "          [ 64,  70,  69]],\n",
              " \n",
              "         [[ 81,  87,  82],\n",
              "          [ 89,  96,  91],\n",
              "          [ 75,  81,  78],\n",
              "          ...,\n",
              "          [ 64,  72,  71],\n",
              "          [ 58,  64,  63],\n",
              "          [ 66,  72,  71]],\n",
              " \n",
              "         [[ 86,  92,  87],\n",
              "          [ 83,  90,  85],\n",
              "          [ 79,  86,  82],\n",
              "          ...,\n",
              "          [ 75,  82,  81],\n",
              "          [ 64,  70,  69],\n",
              "          [ 39,  44,  43]]],\n",
              " \n",
              " \n",
              "        [[[ 73,  81,  88],\n",
              "          [ 73,  81,  88],\n",
              "          [ 73,  81,  88],\n",
              "          ...,\n",
              "          [ 90,  86,  91],\n",
              "          [ 91,  87,  92],\n",
              "          [ 92,  88,  93]],\n",
              " \n",
              "         [[ 70,  78,  86],\n",
              "          [ 70,  78,  86],\n",
              "          [ 70,  78,  86],\n",
              "          ...,\n",
              "          [ 89,  85,  90],\n",
              "          [ 90,  86,  91],\n",
              "          [ 91,  87,  92]],\n",
              " \n",
              "         [[ 68,  77,  86],\n",
              "          [ 68,  77,  86],\n",
              "          [ 68,  77,  86],\n",
              "          ...,\n",
              "          [ 89,  85,  90],\n",
              "          [ 90,  86,  91],\n",
              "          [ 91,  87,  92]],\n",
              " \n",
              "         ...,\n",
              " \n",
              "         [[ 12,  40,  73],\n",
              "          [ 14,  42,  75],\n",
              "          [ 19,  47,  80],\n",
              "          ...,\n",
              "          [  3,  26,  65],\n",
              "          [ 24,  57,  98],\n",
              "          [ 56, 103, 146]],\n",
              " \n",
              "         [[ 20,  47,  77],\n",
              "          [ 15,  42,  72],\n",
              "          [ 11,  38,  68],\n",
              "          ...,\n",
              "          [ 14,  46,  86],\n",
              "          [  7,  43,  84],\n",
              "          [  9,  55,  97]],\n",
              " \n",
              "         [[ 31,  57,  82],\n",
              "          [ 22,  47,  73],\n",
              "          [ 20,  45,  72],\n",
              "          ...,\n",
              "          [ 51, 103, 145],\n",
              "          [ 46,  99, 141],\n",
              "          [ 50, 103, 144]]],\n",
              " \n",
              " \n",
              "        ...,\n",
              " \n",
              " \n",
              "        [[[181, 132,  94],\n",
              "          [177, 128,  90],\n",
              "          [179, 130,  92],\n",
              "          ...,\n",
              "          [173, 118,  88],\n",
              "          [169, 115,  85],\n",
              "          [170, 119,  86]],\n",
              " \n",
              "         [[179, 130,  91],\n",
              "          [175, 126,  88],\n",
              "          [176, 127,  89],\n",
              "          ...,\n",
              "          [167, 116,  86],\n",
              "          [158, 110,  78],\n",
              "          [161, 114,  80]],\n",
              " \n",
              "         [[177, 128,  90],\n",
              "          [173, 124,  86],\n",
              "          [174, 125,  87],\n",
              "          ...,\n",
              "          [173, 129,  98],\n",
              "          [166, 124,  91],\n",
              "          [168, 126,  93]],\n",
              " \n",
              "         ...,\n",
              " \n",
              "         [[ 55,  72, 115],\n",
              "          [ 62,  79, 122],\n",
              "          [ 61,  79, 122],\n",
              "          ...,\n",
              "          [ 73,  99, 145],\n",
              "          [ 71,  97, 143],\n",
              "          [ 73,  99, 145]],\n",
              " \n",
              "         [[ 69,  85, 130],\n",
              "          [ 64,  83, 127],\n",
              "          [ 57,  76, 121],\n",
              "          ...,\n",
              "          [ 79, 105, 151],\n",
              "          [ 70,  96, 142],\n",
              "          [ 71,  97, 143]],\n",
              " \n",
              "         [[ 74,  90, 136],\n",
              "          [ 64,  83, 128],\n",
              "          [ 54,  73, 118],\n",
              "          ...,\n",
              "          [ 84, 110, 156],\n",
              "          [ 72,  98, 144],\n",
              "          [ 74, 100, 146]]],\n",
              " \n",
              " \n",
              "        [[[113, 152, 164],\n",
              "          [129, 166, 180],\n",
              "          [116, 151, 169],\n",
              "          ...,\n",
              "          [213, 235, 245],\n",
              "          [171, 197, 213],\n",
              "          [154, 182, 197]],\n",
              " \n",
              "         [[131, 165, 178],\n",
              "          [140, 172, 187],\n",
              "          [119, 149, 168],\n",
              "          ...,\n",
              "          [174, 188, 207],\n",
              "          [148, 165, 184],\n",
              "          [157, 179, 197]],\n",
              " \n",
              "         [[161, 184, 198],\n",
              "          [160, 182, 198],\n",
              "          [132, 154, 174],\n",
              "          ...,\n",
              "          [182, 190, 210],\n",
              "          [165, 176, 196],\n",
              "          [170, 182, 202]],\n",
              " \n",
              "         ...,\n",
              " \n",
              "         [[204, 205, 213],\n",
              "          [ 86,  88,  96],\n",
              "          [ 99, 103, 110],\n",
              "          ...,\n",
              "          [ 72,  60,  62],\n",
              "          [ 74,  61,  64],\n",
              "          [ 75,  62,  64]],\n",
              " \n",
              "         [[208, 210, 218],\n",
              "          [ 87,  90,  98],\n",
              "          [ 99, 104, 112],\n",
              "          ...,\n",
              "          [ 78,  66,  68],\n",
              "          [ 77,  64,  66],\n",
              "          [ 78,  65,  67]],\n",
              " \n",
              "         [[215, 217, 225],\n",
              "          [ 91,  93, 102],\n",
              "          [100, 107, 114],\n",
              "          ...,\n",
              "          [ 81,  70,  72],\n",
              "          [ 81,  68,  70],\n",
              "          [ 81,  68,  70]]],\n",
              " \n",
              " \n",
              "        [[[182, 183, 178],\n",
              "          [180, 182, 177],\n",
              "          [188, 188, 182],\n",
              "          ...,\n",
              "          [120, 124, 129],\n",
              "          [117, 121, 126],\n",
              "          [122, 126, 131]],\n",
              " \n",
              "         [[167, 168, 164],\n",
              "          [161, 162, 159],\n",
              "          [166, 167, 161],\n",
              "          ...,\n",
              "          [111, 115, 120],\n",
              "          [107, 111, 116],\n",
              "          [114, 118, 123]],\n",
              " \n",
              "         [[160, 163, 162],\n",
              "          [151, 154, 152],\n",
              "          [154, 156, 152],\n",
              "          ...,\n",
              "          [104, 108, 113],\n",
              "          [101, 105, 110],\n",
              "          [108, 112, 117]],\n",
              " \n",
              "         ...,\n",
              " \n",
              "         [[231, 238, 242],\n",
              "          [210, 216, 221],\n",
              "          [204, 210, 215],\n",
              "          ...,\n",
              "          [223, 228, 229],\n",
              "          [226, 231, 232],\n",
              "          [235, 240, 241]],\n",
              " \n",
              "         [[233, 242, 246],\n",
              "          [219, 228, 232],\n",
              "          [213, 221, 225],\n",
              "          ...,\n",
              "          [232, 237, 238],\n",
              "          [232, 237, 239],\n",
              "          [236, 241, 242]],\n",
              " \n",
              "         [[234, 243, 246],\n",
              "          [232, 241, 244],\n",
              "          [224, 233, 236],\n",
              "          ...,\n",
              "          [241, 246, 247],\n",
              "          [240, 245, 246],\n",
              "          [237, 241, 242]]]], dtype=uint8),\n",
              " array(['chicken', 'chicken', 'chicken', ..., 'squirrels', 'squirrels',\n",
              "        'squirrels'], dtype='<U9'))"
            ]
          },
          "metadata": {},
          "execution_count": 7
        }
      ]
    },
    {
      "cell_type": "code",
      "source": [
        "len(data), len(labels)"
      ],
      "metadata": {
        "colab": {
          "base_uri": "https://localhost:8080/"
        },
        "id": "NVrNsI_y7UJt",
        "outputId": "2824ae05-a1d0-488c-dbf3-f7a345e0b9ee"
      },
      "execution_count": null,
      "outputs": [
        {
          "output_type": "execute_result",
          "data": {
            "text/plain": [
              "(11501, 11501)"
            ]
          },
          "metadata": {},
          "execution_count": 32
        }
      ]
    },
    {
      "cell_type": "code",
      "source": [
        "data = np.array(data)\n",
        "labels = np.array(labels)"
      ],
      "metadata": {
        "id": "PTUpeYVg81EG"
      },
      "execution_count": null,
      "outputs": []
    },
    {
      "cell_type": "code",
      "source": [
        "data.shape"
      ],
      "metadata": {
        "colab": {
          "base_uri": "https://localhost:8080/"
        },
        "id": "ZBZf39HE9NFp",
        "outputId": "60910da3-64bb-4817-9d20-6ea557d4e0ad"
      },
      "execution_count": null,
      "outputs": [
        {
          "output_type": "execute_result",
          "data": {
            "text/plain": [
              "(11501, 180, 180, 3)"
            ]
          },
          "metadata": {},
          "execution_count": 34
        }
      ]
    },
    {
      "cell_type": "code",
      "source": [
        "x_train, x_test, y_train, y_test = train_test_split(data, labels, test_size=0.2, random_state=100)"
      ],
      "metadata": {
        "id": "8EEolhEm743A"
      },
      "execution_count": null,
      "outputs": []
    },
    {
      "cell_type": "code",
      "source": [
        "x_train.shape\n"
      ],
      "metadata": {
        "colab": {
          "base_uri": "https://localhost:8080/"
        },
        "id": "Q58Eyx938w_o",
        "outputId": "958c426d-f022-4aff-b7bb-36ea80756f1c"
      },
      "execution_count": null,
      "outputs": [
        {
          "output_type": "execute_result",
          "data": {
            "text/plain": [
              "(9200, 180, 180, 3)"
            ]
          },
          "metadata": {},
          "execution_count": 36
        }
      ]
    },
    {
      "cell_type": "code",
      "source": [
        "\n",
        "model = tf.keras.models.Sequential()\n",
        "model.add(tf.keras.layers.Conv2D(64, (3, 3), activation='relu', input_shape=(180, 180, 3)))\n",
        "model.add(tf.keras.layers.MaxPooling2D((2, 2)))\n",
        "model.add(tf.keras.layers.Conv2D(128, (3, 3), activation='relu'))\n",
        "model.add(tf.keras.layers.MaxPooling2D((2, 2)))\n",
        "model.add(tf.keras.layers.Flatten())\n",
        "model.add(tf.keras.layers.Dense(128, activation='relu'))\n",
        "model.add(tf.keras.layers.Dense(64, activation='relu'))\n",
        "model.add(tf.keras.layers.Dense(4, activation='softmax'))\n"
      ],
      "metadata": {
        "id": "WEL5_vUM7lND"
      },
      "execution_count": null,
      "outputs": []
    },
    {
      "cell_type": "code",
      "source": [
        "from sklearn.preprocessing import LabelEncoder\n",
        "\n",
        "# Create a label encoder object\n",
        "label_encoder = LabelEncoder()\n",
        "\n",
        "# Encode the string labels to numerical values\n",
        "y_train_encoded = label_encoder.fit_transform(y_train)\n",
        "y_test_encoded = label_encoder.transform(y_test)"
      ],
      "metadata": {
        "id": "HWkQxrj5iD8O"
      },
      "execution_count": null,
      "outputs": []
    },
    {
      "cell_type": "code",
      "source": [
        "\n",
        "\n",
        "# Train the model\n",
        "model.compile(optimizer='adam', loss='sparse_categorical_crossentropy', metrics=['accuracy'])\n",
        "model.fit(x_train, y_train_encoded, epochs=5)\n",
        "\n",
        "# Evaluate the model\n",
        "score = model.evaluate(x_test, y_test_encoded)\n",
        "print('Test accuracy:', score[1])\n"
      ],
      "metadata": {
        "colab": {
          "base_uri": "https://localhost:8080/"
        },
        "id": "iDNgeXnJ9ycs",
        "outputId": "9ae60c67-162a-45ba-c577-3e25e986e126"
      },
      "execution_count": null,
      "outputs": [
        {
          "output_type": "stream",
          "name": "stdout",
          "text": [
            "Epoch 1/5\n",
            "288/288 [==============================] - 19s 53ms/step - loss: 21.5847 - accuracy: 0.4274\n",
            "Epoch 2/5\n",
            "288/288 [==============================] - 15s 52ms/step - loss: 1.1761 - accuracy: 0.4941\n",
            "Epoch 3/5\n",
            "288/288 [==============================] - 15s 53ms/step - loss: 0.8805 - accuracy: 0.6353\n",
            "Epoch 4/5\n",
            "288/288 [==============================] - 15s 53ms/step - loss: 0.6374 - accuracy: 0.7486\n",
            "Epoch 5/5\n",
            "288/288 [==============================] - 15s 53ms/step - loss: 0.3624 - accuracy: 0.8647\n",
            "72/72 [==============================] - 1s 16ms/step - loss: 2.7342 - accuracy: 0.4663\n",
            "Test accuracy: 0.4663189947605133\n"
          ]
        }
      ]
    },
    {
      "cell_type": "code",
      "source": [
        "model.save('model.h5')"
      ],
      "metadata": {
        "id": "ksWUyq9Ncp4P"
      },
      "execution_count": null,
      "outputs": []
    },
    {
      "cell_type": "code",
      "source": [
        "model = tf.keras.models.load_model('/content/model.h5')"
      ],
      "metadata": {
        "id": "9SE4t2-Zhbri"
      },
      "execution_count": null,
      "outputs": []
    },
    {
      "cell_type": "code",
      "source": [
        "y_test_encoded.shape"
      ],
      "metadata": {
        "colab": {
          "base_uri": "https://localhost:8080/"
        },
        "id": "M0sJ_DfCioK4",
        "outputId": "c28a20c1-d294-47be-dbea-f6160a4478a1"
      },
      "execution_count": null,
      "outputs": [
        {
          "output_type": "execute_result",
          "data": {
            "text/plain": [
              "(2301,)"
            ]
          },
          "metadata": {},
          "execution_count": 28
        }
      ]
    },
    {
      "cell_type": "code",
      "source": [
        "predictions = model.predict(x_test)\n"
      ],
      "metadata": {
        "colab": {
          "base_uri": "https://localhost:8080/"
        },
        "id": "HfX-NiL6h2r_",
        "outputId": "235796c7-cebe-4bff-f9c5-2627300be6ed"
      },
      "execution_count": null,
      "outputs": [
        {
          "output_type": "stream",
          "name": "stdout",
          "text": [
            "72/72 [==============================] - 8s 18ms/step\n"
          ]
        }
      ]
    },
    {
      "cell_type": "code",
      "source": [
        "x_test.shape"
      ],
      "metadata": {
        "colab": {
          "base_uri": "https://localhost:8080/"
        },
        "id": "BpivWDWYjATj",
        "outputId": "80e6acc6-9dd7-4ad0-c1f3-3d0dfd5dd88c"
      },
      "execution_count": null,
      "outputs": [
        {
          "output_type": "execute_result",
          "data": {
            "text/plain": [
              "(2301, 180, 180, 3)"
            ]
          },
          "metadata": {},
          "execution_count": 16
        }
      ]
    },
    {
      "cell_type": "code",
      "source": [],
      "metadata": {
        "id": "V7Vvbbtm9cMD"
      },
      "execution_count": null,
      "outputs": []
    },
    {
      "cell_type": "code",
      "source": [
        "from sklearn.decomposition import PCA\n",
        "# from sklearn.preprocessing import StandardScaler\n",
        "combined_vectors = np.concatenate(x_test, axis=0)\n",
        "\n",
        "combined_vectors.shape"
      ],
      "metadata": {
        "colab": {
          "base_uri": "https://localhost:8080/"
        },
        "id": "WHS9n8zOccbP",
        "outputId": "bbbad114-9431-4ad8-9203-be6c5bb21041"
      },
      "execution_count": null,
      "outputs": [
        {
          "output_type": "execute_result",
          "data": {
            "text/plain": [
              "(414180, 180, 3)"
            ]
          },
          "metadata": {},
          "execution_count": 33
        }
      ]
    },
    {
      "cell_type": "code",
      "source": [
        "combined_vectors_2d = np.reshape(combined_vectors, (414180, 540))\n",
        "combined_vectors_2d.shape"
      ],
      "metadata": {
        "colab": {
          "base_uri": "https://localhost:8080/"
        },
        "id": "vg933PGs33FL",
        "outputId": "fa818610-3459-4e14-a556-f625b9f6c9b9"
      },
      "execution_count": null,
      "outputs": [
        {
          "output_type": "execute_result",
          "data": {
            "text/plain": [
              "(414180, 540)"
            ]
          },
          "metadata": {},
          "execution_count": 39
        }
      ]
    },
    {
      "cell_type": "code",
      "source": [
        "\n",
        "pca = PCA(2)\n",
        "pca_x = pca.fit_transform(combined_vectors_2d)\n",
        "pca_x.shape"
      ],
      "metadata": {
        "colab": {
          "base_uri": "https://localhost:8080/"
        },
        "id": "anMdgsS49D39",
        "outputId": "1be8db89-8cba-47b8-cf40-fa0281e08cfe"
      },
      "execution_count": null,
      "outputs": [
        {
          "output_type": "execute_result",
          "data": {
            "text/plain": [
              "(414180, 2)"
            ]
          },
          "metadata": {},
          "execution_count": 40
        }
      ]
    },
    {
      "cell_type": "code",
      "source": [
        "num_samples = min(pca_x.shape[0], y_test_encoded.shape[0])\n",
        "num_samples"
      ],
      "metadata": {
        "colab": {
          "base_uri": "https://localhost:8080/"
        },
        "id": "A1fWudL59-T9",
        "outputId": "b49826bc-69ca-43a9-c15d-a1cb8913f8d6"
      },
      "execution_count": null,
      "outputs": [
        {
          "output_type": "execute_result",
          "data": {
            "text/plain": [
              "2301"
            ]
          },
          "metadata": {},
          "execution_count": 68
        }
      ]
    },
    {
      "cell_type": "code",
      "source": [
        "pca_vector = combined_vectors_2d[:num_samples]\n",
        "# y_test_encoded = y_test_encoded[:num_samples]\n",
        "pca_vector.shape"
      ],
      "metadata": {
        "colab": {
          "base_uri": "https://localhost:8080/"
        },
        "id": "GkUgtup_-JD_",
        "outputId": "54373925-65c2-4195-b2c6-15f5d009acdc"
      },
      "execution_count": null,
      "outputs": [
        {
          "output_type": "execute_result",
          "data": {
            "text/plain": [
              "(2301, 540)"
            ]
          },
          "metadata": {},
          "execution_count": 69
        }
      ]
    },
    {
      "cell_type": "code",
      "source": [
        "pca = PCA(2)\n",
        "pca_x = pca.fit_transform(pca_vector)\n",
        "pca_x.shape"
      ],
      "metadata": {
        "colab": {
          "base_uri": "https://localhost:8080/"
        },
        "id": "5mdC7_hBBf73",
        "outputId": "849537dc-25d1-47a4-9681-b91b480ac1f1"
      },
      "execution_count": null,
      "outputs": [
        {
          "output_type": "execute_result",
          "data": {
            "text/plain": [
              "(2301, 2)"
            ]
          },
          "metadata": {},
          "execution_count": 70
        }
      ]
    },
    {
      "cell_type": "code",
      "source": [
        "pca_x.shape"
      ],
      "metadata": {
        "colab": {
          "base_uri": "https://localhost:8080/"
        },
        "id": "FKyKMBPo_cWG",
        "outputId": "8d6d88e4-bd0f-4dae-a79e-b7928d929798"
      },
      "execution_count": null,
      "outputs": [
        {
          "output_type": "execute_result",
          "data": {
            "text/plain": [
              "(2301, 2)"
            ]
          },
          "metadata": {},
          "execution_count": 71
        }
      ]
    },
    {
      "cell_type": "code",
      "source": [
        "y_test_encoded.shape"
      ],
      "metadata": {
        "colab": {
          "base_uri": "https://localhost:8080/"
        },
        "id": "I6B-tZEABpmX",
        "outputId": "efac0f09-a5f2-449b-a252-d341ac353d53"
      },
      "execution_count": null,
      "outputs": [
        {
          "output_type": "execute_result",
          "data": {
            "text/plain": [
              "(2301,)"
            ]
          },
          "metadata": {},
          "execution_count": 72
        }
      ]
    },
    {
      "cell_type": "code",
      "source": [
        "import tensorflow as tf\n",
        "\n",
        "inputs = tf.keras.layers.Input((2,))\n",
        "c = tf.Variable(tf.zeros((5,)))  # Example variable\n",
        "c = tf.keras.layers.Dense(5, activation='relu')(inputs)\n",
        "c = tf.keras.layers.Dense(6, activation='relu')(c)\n",
        "c = tf.keras.layers.Dense(4, activation='relu')(c)\n",
        "outputs = tf.keras.layers.Dense(4, activation='softmax')(c)\n",
        "model = tf.keras.Model(inputs, outputs)\n",
        "\n",
        "model.summary()\n"
      ],
      "metadata": {
        "colab": {
          "base_uri": "https://localhost:8080/"
        },
        "id": "7yA6izsJ6R0p",
        "outputId": "cdfe3ab8-cf9d-4bfc-cc8d-71f9795819c5"
      },
      "execution_count": null,
      "outputs": [
        {
          "output_type": "stream",
          "name": "stdout",
          "text": [
            "Model: \"model_6\"\n",
            "_________________________________________________________________\n",
            " Layer (type)                Output Shape              Param #   \n",
            "=================================================================\n",
            " input_7 (InputLayer)        [(None, 2)]               0         \n",
            "                                                                 \n",
            " dense_24 (Dense)            (None, 5)                 15        \n",
            "                                                                 \n",
            " dense_25 (Dense)            (None, 6)                 36        \n",
            "                                                                 \n",
            " dense_26 (Dense)            (None, 4)                 28        \n",
            "                                                                 \n",
            " dense_27 (Dense)            (None, 4)                 20        \n",
            "                                                                 \n",
            "=================================================================\n",
            "Total params: 99\n",
            "Trainable params: 99\n",
            "Non-trainable params: 0\n",
            "_________________________________________________________________\n"
          ]
        }
      ]
    },
    {
      "cell_type": "code",
      "source": [
        "model.compile(optimizer=\"adam\",\n",
        "              loss=\"sparse_categorical_crossentropy\",\n",
        "              metrics=['accuracy'])"
      ],
      "metadata": {
        "id": "hHA1WKp56a76"
      },
      "execution_count": null,
      "outputs": []
    },
    {
      "cell_type": "code",
      "source": [
        "epochs=1\n",
        "history = model.fit(\n",
        "  pca_x,y_test_encoded,\n",
        "  epochs=epochs\n",
        ")\n",
        "# model.fit(tf.expand_dims(pca_vector,axis=1),y_test_encoded,epochs=)"
      ],
      "metadata": {
        "colab": {
          "base_uri": "https://localhost:8080/"
        },
        "id": "MgzGOPCC6ej5",
        "outputId": "32d49d5c-ee08-4e7d-f78a-0e5ab4b2d834"
      },
      "execution_count": null,
      "outputs": [
        {
          "output_type": "stream",
          "name": "stdout",
          "text": [
            "72/72 [==============================] - 2s 4ms/step - loss: 30.3953 - accuracy: 0.3598\n"
          ]
        }
      ]
    },
    {
      "cell_type": "code",
      "source": [
        "class ModelWrapper():\n",
        "    def __init__(self, model):\n",
        "        self.model = model\n",
        "\n",
        "    def predict(self, X):\n",
        "        pred = self.model.predict(X)\n",
        "        labels = np.argmax(pred, axis=-1)\n",
        "\n",
        "        return labels\n",
        "\n",
        "model_1 = ModelWrapper(model)"
      ],
      "metadata": {
        "id": "nwXXbuDg6lNh"
      },
      "execution_count": null,
      "outputs": []
    },
    {
      "cell_type": "code",
      "source": [
        "!pip install mlxtend --upgrade --no-deps\n"
      ],
      "metadata": {
        "colab": {
          "base_uri": "https://localhost:8080/"
        },
        "id": "wWcIqg-3CXf0",
        "outputId": "49f79128-c985-4d51-d394-6cc4ab94399f"
      },
      "execution_count": null,
      "outputs": [
        {
          "output_type": "stream",
          "name": "stdout",
          "text": [
            "Requirement already satisfied: mlxtend in /usr/local/lib/python3.10/dist-packages (0.22.0)\n"
          ]
        }
      ]
    },
    {
      "cell_type": "code",
      "source": [
        "pca_vector_flattened = np.reshape(pca_x, (pca_x.shape[0], -1))\n"
      ],
      "metadata": {
        "id": "-YYwO5dACxWm"
      },
      "execution_count": null,
      "outputs": []
    },
    {
      "cell_type": "code",
      "source": [
        "pca_x"
      ],
      "metadata": {
        "colab": {
          "base_uri": "https://localhost:8080/"
        },
        "id": "pLHnbkp-EJ4N",
        "outputId": "d8f9b280-62db-47c6-c7d2-30b4e2a47508"
      },
      "execution_count": null,
      "outputs": [
        {
          "output_type": "execute_result",
          "data": {
            "text/plain": [
              "array([[  20.63630334,   75.41327317],\n",
              "       [ -58.17150088,  264.06052388],\n",
              "       [-127.29992889,  444.11832852],\n",
              "       ...,\n",
              "       [ 213.10566351, -238.22561872],\n",
              "       [ 245.15441807, -312.05024509],\n",
              "       [ 284.66624598, -251.6138101 ]])"
            ]
          },
          "metadata": {},
          "execution_count": 87
        }
      ]
    },
    {
      "cell_type": "code",
      "source": [
        "y_test_encoded"
      ],
      "metadata": {
        "colab": {
          "base_uri": "https://localhost:8080/"
        },
        "id": "YWa8Be8VEL8i",
        "outputId": "f32d89cb-fd15-457a-91c5-bee19ca647f8"
      },
      "execution_count": null,
      "outputs": [
        {
          "output_type": "execute_result",
          "data": {
            "text/plain": [
              "array([3, 2, 3, ..., 2, 3, 1])"
            ]
          },
          "metadata": {},
          "execution_count": 88
        }
      ]
    },
    {
      "cell_type": "code",
      "source": [
        "from mlxtend.plotting import plot_decision_regions\n",
        "plot_decision_regions(pca_x,y_test_encoded, clf=model_1)"
      ],
      "metadata": {
        "id": "ln327tnz6wCe"
      },
      "execution_count": null,
      "outputs": []
    },
    {
      "cell_type": "markdown",
      "source": [
        "![image.png](data:image/png;base64,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)"
      ],
      "metadata": {
        "id": "zbojbg92FxHd"
      }
    },
    {
      "cell_type": "code",
      "source": [],
      "metadata": {
        "id": "4JtCNMG1C3Sg"
      },
      "execution_count": null,
      "outputs": []
    }
  ]
}